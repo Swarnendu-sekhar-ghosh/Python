{
 "cells": [
  {
   "cell_type": "markdown",
   "id": "c2b6f595",
   "metadata": {},
   "source": [
    "In object oriented programming we write classes that represent real world things and situations, and you create objects based on these classes. When we write a class we define the general behaviour that a whole category of objects can have. \n",
    "\n",
    "When we create individual objects from the class, those objects are automatically equipped with the general behaviour; we can then give each object whatever unique traits we desire. \n",
    "\n",
    "Making an object from a class is called \" Instantiation \" , we work with instances of a class. \n",
    "Things we will learn initially are:\n",
    "\n",
    "1) Write classes.\n",
    "2) Create instances of those classes.\n",
    "3) Specify the kind of information that can be stored in those instances. \n",
    "4) Define actions that can be taken with these instances. \n",
    "5) Write functions that extend the functionality of the defined classes, so that similar classes can share code efficiently.\n",
    "6) We will store our classes in modules.\n",
    "7) Import classes written by other programmers into our own program files.\n",
    "\n",
    "# Creating and using a class"
   ]
  },
  {
   "cell_type": "code",
   "execution_count": 12,
   "id": "14cd052b",
   "metadata": {},
   "outputs": [],
   "source": [
    "# creating a Dog class\n",
    "\n",
    "# So pet dogs have a name and age, and , they sit and roll over (two behaviours)\n",
    "#  So a dog class is created which will cover mostly all pet dogs they will have a name and an age and we will give them ability to sit down and roll over.\n",
    "\n",
    "class Dog():\n",
    "    def __init__(self,name,age):\n",
    "        self.name = name\n",
    "        self.age = age\n",
    "    # Simulate a dog sitting in response to a command    \n",
    "    def sit(self):\n",
    "        print(self.name.title() + \"is now sitting.\")\n",
    "    # Simulate a dog rolling over in response to a command\n",
    "    def roll_over(self):\n",
    "        print(self.name.title() + \"rolled over!\")\n",
    "        \n",
    "       "
   ]
  },
  {
   "cell_type": "markdown",
   "id": "10116ba7",
   "metadata": {},
   "source": [
    "**__init__( ) method** \n",
    "\n",
    "A function that is part of a class is a **method**. Everything you learned about functions applies to methods as well; the only practical difference for now is the way we will call methods. \n",
    "\n",
    "It is a special method that python runs automatically as soon we create a new instance based on our defined class. This method has two leading and two trailing udnerscores, a convention that helps prevent Pythons default method names from conflicting with our method names. \n",
    "\n",
    "The **self** parameter is required in the method definition, and it must come first before other parameters. It must be included as when python calls the __init__() method later (to create an instance of Dog), the method will automatically pass the self argument. **Every method call associated with a class automatically passes self, which is a reference to the instance itself; it gives the individual instance acess to the attributes and methods in the class.**\n",
    "\n",
    "So as shown in the above Dog class example , <font color = 'red'>any **variable** that is prefixed with **self** for example in our case **name** and **age** is availaible to every method in the class</font> , and we will also be able to access these variables through any instance from the class. \n",
    "\n",
    "These variables that are accesible through instances are called <font color ='lightgreen'>attributes</font>. \n",
    "\n",
    "The dog class has two other **methods** that are **sit** and **roll over**. These methods dont need additional information we just give them one parameter that is **self**. The instances that we create later will have acess to these methods. \n"
   ]
  },
  {
   "cell_type": "markdown",
   "id": "095058db",
   "metadata": {},
   "source": [
    "# <font color = 'green'> Making an instance from a class </font>\n",
    "\n",
    "$\\textbf{We can think of a class as a set of instructions for how to make an instance}$. The class Dog is a set of instructions that tells python  how to make individual instances representing specific dogs. "
   ]
  },
  {
   "cell_type": "code",
   "execution_count": null,
   "id": "590968da",
   "metadata": {},
   "outputs": [
    {
     "name": "stdout",
     "output_type": "stream",
     "text": [
      " My dog's name is  Oreo.\n",
      " He is only 5 years old.\n"
     ]
    }
   ],
   "source": [
    "class Dog1():\n",
    "    def __init__(self,name,age):\n",
    "        self.name = name\n",
    "        self.age = age\n",
    "        \n",
    "    def sit1(self):\n",
    "        print(self.name.title() + ' ' + \"is sitting in his favourite chair.\")\n",
    "        \n",
    "    def roll_over1(self):\n",
    "        print(\"My dog \" + self.name.title() + ' ' + \"is only \" + str(self.age)+ ' ' + \"years old and loves to roll over.\" )\n",
    "    \n",
    "my_dog = Dog('Oreo',5)\n",
    "print(\" My dog's name is \" + ' ' + my_dog.name.title() + '.')\n",
    "print(\" He is only\" + ' ' + str(my_dog.age) + ' ' + \"years old.\")\n",
    "        \n",
    "# So here we use the previously defined Dog class with the two attributes name and age. As soon as the python \n",
    "# sees \"Oreo\" and 5 it uses the __init__() method and creates an instance representing this particular dog and \n",
    "# sets the name and age attributes with the values we provided. The __init__() method has no explicit return \n",
    "# statement, but python automatically returns an instance representing this dog. We store that instance in the \n",
    "# variable my_dog.\n"
   ]
  },
  {
   "cell_type": "code",
   "execution_count": null,
   "id": "f5eba972",
   "metadata": {},
   "outputs": [
    {
     "name": "stdout",
     "output_type": "stream",
     "text": [
      "Eva recently adopted a dog and his name is  Daniel.\n",
      "He is a baby male dog and is only 2 years old.\n"
     ]
    }
   ],
   "source": [
    "# One more example\n",
    "\n",
    "evas_dog = Dog1('Daniel',2)\n",
    "evas_dog\n",
    "\n",
    "print(\"Eva recently adopted a dog and his name is \" + \" \" + evas_dog.name.title() + \".\")\n",
    "print(\"He is a baby male dog and is only\" + \" \" + str(evas_dog.age) +\" \" +\"years old.\")\n"
   ]
  },
  {
   "cell_type": "markdown",
   "id": "917fa891",
   "metadata": {},
   "source": [
    "# <font color = 'green'> Acessing attirbutes </font>\n",
    "\n",
    "To access the attributes of an instance, we use **dot notation**. \n",
    "\n",
    "As in the above example we saw that the attribute <font color = 'red'>**name**</font> associated with my_dog. This is the same attribute referred to as <font color='red'>self.name</font> in the class Dog. Similar approach has been used for the attribute **age**.  \n"
   ]
  },
  {
   "cell_type": "markdown",
   "id": "1bd44faa",
   "metadata": {},
   "source": [
    "# <font color = 'green'> Calling Methods </font>\n",
    "\n",
    "After we create an instance from the class, we can use dot notation to call any method defined in the class. \n",
    "\n"
   ]
  },
  {
   "cell_type": "code",
   "execution_count": null,
   "id": "15ed9f38",
   "metadata": {},
   "outputs": [
    {
     "name": "stdout",
     "output_type": "stream",
     "text": [
      "Oreo is sitting in his favourite chair.\n",
      "He Oreo is only 5 years old and loves to roll over.\n"
     ]
    }
   ],
   "source": [
    "class Dog1():\n",
    "    def __init__(self,name,age):\n",
    "        self.name = name\n",
    "        self.age = age\n",
    "        \n",
    "    def sit1(self):\n",
    "        print(self.name.title() + ' ' + \"is sitting in his favourite chair.\")\n",
    "        \n",
    "    def roll_over1(self):\n",
    "        print(\"He \" + self.name.title() + ' ' + \"is only \" + str(self.age) + ' ' + \"years old and loves to roll over.\" )\n",
    "    \n",
    "my_dog = Dog1('Oreo',5)\n",
    "\n",
    "my_dog.sit()\n",
    "\n",
    "my_dog.roll_over()\n"
   ]
  },
  {
   "cell_type": "code",
   "execution_count": 16,
   "id": "9db17c16",
   "metadata": {},
   "outputs": [
    {
     "name": "stdout",
     "output_type": "stream",
     "text": [
      "Daniel is sitting in his favourite chair.\n",
      "He Daniel is only 2 years old and loves to roll over.\n"
     ]
    }
   ],
   "source": [
    "evas_dog = Dog('Daniel',2)\n",
    "evas_dog.sit()\n",
    "evas_dog.roll_over()"
   ]
  },
  {
   "cell_type": "markdown",
   "id": "11a35ecd",
   "metadata": {},
   "source": [
    "# <font color = 'green'> Creating Multiple Instances  </font>\n",
    "\n",
    "We can create multiple instances from a class as many as we need. So even if we used the same attributes for the second instance, Python would still create a second/separate instance from the same class. As long as we give unique variable name to every instance or it occupies a unique spot in a list or dictionary we can create as many instances from one class as we need. "
   ]
  },
  {
   "cell_type": "markdown",
   "id": "5024e853",
   "metadata": {},
   "source": [
    "# Try it yourself Page 166"
   ]
  },
  {
   "cell_type": "code",
   "execution_count": null,
   "id": "9e1e429c",
   "metadata": {},
   "outputs": [],
   "source": [
    "\n",
    "#9-1\n",
    "class Restaurant():\n",
    "    def __init__(self,restaurant_name, cuisine_type):\n",
    "        self.restaurant_name = restaurant_name\n",
    "        self.cuisine_type = cuisine_type\n",
    "          \n",
    "    def describe_restaurant(self): \n",
    "        print(\"\\nName of the restaurant is \" + self.restaurant_name.title())\n",
    "        print(\"The cuisine type served in this particular restaurant is \" + self.cuisine_type.title())\n",
    "    \n",
    "    def open_restaurant(self):\n",
    "        print(\"Today \" + self.restaurant_name.title() + \" is open to service.\")\n",
    "        \n",
    "my_restaurant = Restaurant(\"Khide\", \"Bengali\")\n",
    "my_restaurant.describe_restaurant()\n",
    "my_restaurant.open_restaurant()\n",
    "\n",
    "#9-2\n",
    "\n",
    "mothers_restaurant = Restaurant(\"Mainland China \", \"Chinese\")\n",
    "mothers_restaurant.describe_restaurant()\n",
    "   \n",
    "fathers_restaurant = Restaurant(\"Punjab Grill\", \"Punjabi\")\n",
    "fathers_restaurant.describe_restaurant()\n",
    "\n",
    "#9-3\n",
    "\n",
    "class User():\n",
    "    def __init(self, first_name, last_name,location,nationality,sex,age):\n",
    "        self.first_name = first_name\n",
    "        self.last_name = last_name\n",
    "        self.location = location\n",
    "        self.nationality = nationality\n",
    "        self.sex = sex\n",
    "        self.age = age\n",
    "        \n",
    "       "
   ]
  },
  {
   "cell_type": "code",
   "execution_count": null,
   "id": "e7e52f8c",
   "metadata": {},
   "outputs": [
    {
     "name": "stdout",
     "output_type": "stream",
     "text": [
      "Swanand pal is a 32 years old Male who has a weight of 78kg and a height of 6 feet\n",
      "Hello Swanand welcome to our fitness programme.\n"
     ]
    }
   ],
   "source": [
    "## Practicing again on 18 MAY 2025\n",
    "\n",
    "# class Restaurant():\n",
    "#     def __init__(self,name,cuisine):\n",
    "#         self.name = name\n",
    "#         self.cuisine = cuisine\n",
    "\n",
    "#     def describe_restaurant(self):\n",
    "#         print(\"The name of my \" + self.cuisine + \" restaurant is \"  + self.name)\n",
    "\n",
    "#     def open_restaurant(self):\n",
    "#         print(\"The \"+ self.name + \" is open today.\")\n",
    "\n",
    "# my_restaurant = Restaurant(\"Bijoli Grill\",\"Bengali\")\n",
    "# my_restaurant.describe_restaurant()\n",
    "# my_restaurant.open_restaurant()   \n",
    "\n",
    "# class User():\n",
    "#     def __init__(self,first_name,last_name,age,sex,weight,height):\n",
    "#         self.first_name = first_name\n",
    "#         self.last_name = last_name\n",
    "#         self.age = age\n",
    "#         self.sex = sex\n",
    "#         self.weight = weight\n",
    "#         self.height = height\n",
    "\n",
    "#     def describe_user(self):\n",
    "#         print(self.first_name + \" \" + self.last_name + \" is a \" + str(self.age) + \" years old \" + self.sex +  \" who has a weight of \" + str(self.weight) + \"kg and a height of \" + str(self.height) + \" feet\")\n",
    "    \n",
    "#     def greet_user(self):\n",
    "#         print(\"Hello \"+ self.first_name + \" welcome to our fitness programme.\")\n",
    "\n",
    "\n",
    "# user1 = User(\"Swanand\",\"pal\",32,\"Male\",78,6)        \n",
    "# user1.describe_user()\n",
    "# user1.greet_user()   \n",
    "\n"
   ]
  },
  {
   "cell_type": "markdown",
   "id": "a2857989",
   "metadata": {},
   "source": [
    "# Working with classes and Instances\n",
    "\n",
    "Classes can represent many real world scenarios. Once a class is created we will spend most of our time working with instances created from a class. \n",
    "\n",
    "One of the first thing that we would want to do is modify the attributes a particular instance. We can do that either directly or write methods that update the attributes in specific ways. \n",
    "\n",
    "### <font color = 'green' > Setting Default value for an attribute </font>\n",
    "\n",
    "Every attribute in a class needs a default value that can be 0 value or an empty string. One way of doing this is by setting a default value in the body of the __init()__ method; by doing this we donot have to set a parameter for that attribute.\n",
    "\n",
    "Like in the below example the <font color= 'red'> self.odometer_reading</font> if looked carefully <font color= 'red'> odometer reading is ot mentioned specifically in the paramter list within the init method but mentioned in the body with a default value.</font>\n",
    "\n",
    "\n"
   ]
  },
  {
   "cell_type": "code",
   "execution_count": 35,
   "id": "9832c365",
   "metadata": {},
   "outputs": [
    {
     "name": "stdout",
     "output_type": "stream",
     "text": [
      "2016 Audi a4\n",
      "This car has 0 miles on it.\n"
     ]
    }
   ],
   "source": [
    "class Car():\n",
    "    def __init__(self,make,model,year):\n",
    "        self.make = make\n",
    "        self.year = year\n",
    "        self.model = model\n",
    "        self.odometer_reading = 0\n",
    "        \n",
    "    def descriptive_name(self):\n",
    "        print(str(self.year) + ' ' + self.make.title() + ' ' + self.model)\n",
    "        \n",
    "    def read_odometer(self):\n",
    "        print(\"This car has\" + ' ' + str(self.odometer_reading) + \" miles on it.\")\n",
    "        \n",
    "        \n",
    "my_car = Car('audi', 'a4', 2016)      \n",
    "my_car.descriptive_name()    \n",
    "my_car.read_odometer()\n",
    "              "
   ]
  },
  {
   "cell_type": "markdown",
   "id": "b40d6b8c",
   "metadata": {},
   "source": [
    "<font color = 'red'> Not many cars are sold with 0 miles on the odometer, so we need a way to change the value of this attribute </font>\n",
    "\n",
    "# <font color = 'green' > Modifying Attribute Values </font>\n",
    "\n",
    "We can change an attribute values in three ways:\n",
    "\n",
    "1. We can change the value directly through an instance.\n",
    "2. Set the value through a method\n",
    "3. Increment the value through a method.\n",
    "\n",
    "\n",
    "# <font color = 'blue' > Modifying an Attributes Value Directly </font>\n",
    "\n",
    "The simplest way to modify the value of an attribute is to access the attribute directly through an instance. "
   ]
  },
  {
   "cell_type": "code",
   "execution_count": 36,
   "id": "46e31006",
   "metadata": {},
   "outputs": [
    {
     "name": "stdout",
     "output_type": "stream",
     "text": [
      "2016 Audi a4\n",
      "This car has 35 miles on it.\n"
     ]
    }
   ],
   "source": [
    "class Car():\n",
    "    def __init__(self,make,model,year):\n",
    "        self.make = make\n",
    "        self.year = year\n",
    "        self.model = model\n",
    "        self.odometer_reading = 0\n",
    "        \n",
    "    def descriptive_name(self):\n",
    "        print(str(self.year) + ' ' + self.make.title() + ' ' + self.model)\n",
    "        \n",
    "    def read_odometer(self):\n",
    "        print(\"This car has\" + ' ' + str(self.odometer_reading) + \" miles on it.\")\n",
    "        \n",
    "my_car = Car('audi', 'a4', 2016)      \n",
    "my_car.descriptive_name()\n",
    "\n",
    "my_car.odometer_reading = 35\n",
    "my_car.read_odometer()"
   ]
  },
  {
   "cell_type": "markdown",
   "id": "f824c11d",
   "metadata": {},
   "source": [
    "### <font color = 'red'> Sometimes we will want to access the attributes directly but other times we might just want a method to update the values for us. </font>\n",
    "\n",
    "# <font color = 'blue'> Modifing an Attribute's value through a method </font>\n",
    "\n",
    "It can be helpful to have methods that update certain attributes for us. Instead of accessing the attribute directly we pass the new value to a method that handles the updating internally. "
   ]
  },
  {
   "cell_type": "code",
   "execution_count": 9,
   "id": "4a8d6a3e",
   "metadata": {},
   "outputs": [
    {
     "name": "stdout",
     "output_type": "stream",
     "text": [
      "2016 Audi a4\n",
      "This car has 35 miles on it.\n"
     ]
    }
   ],
   "source": [
    "class Car():\n",
    "    def __init__(self,make,model,year):\n",
    "        self.make = make\n",
    "        self.year = year\n",
    "        self.model = model\n",
    "        self.odometer_reading = 0\n",
    "        \n",
    "    def descriptive_name(self):\n",
    "        print(str(self.year) + ' ' + self.make.title() + ' ' + self.model)\n",
    "        \n",
    "    def read_odometer(self):\n",
    "        print(\"This car has\" + ' ' + str(self.odometer_reading) + \" miles on it.\")\n",
    "        \n",
    "    def update_odometer(self,milage):\n",
    "        self.odometer_reading = milage\n",
    "        \n",
    "my_car = Car('audi', 'a4', 2016)      \n",
    "my_car.descriptive_name()\n",
    "\n",
    "my_car.update_odometer(35)\n",
    "my_car.read_odometer()"
   ]
  },
  {
   "cell_type": "code",
   "execution_count": 19,
   "id": "406b1761",
   "metadata": {},
   "outputs": [
    {
     "name": "stdout",
     "output_type": "stream",
     "text": [
      "2016 Audi a4\n",
      "This car has 35 miles on it.\n",
      "You cannot roll back odometer reading\n",
      "This car has 35 miles on it.\n"
     ]
    }
   ],
   "source": [
    "# modifying the code such that no one can roll back the odometer reading \n",
    "\n",
    "class Car():\n",
    "    def __init__(self,make,model,year):\n",
    "        self.make = make\n",
    "        self.year = year\n",
    "        self.model = model\n",
    "        self.odometer_reading = 0\n",
    "        \n",
    "    def descriptive_name(self):\n",
    "        print(str(self.year) + ' ' + self.make.title() + ' ' + self.model)\n",
    "        \n",
    "    def read_odometer(self):\n",
    "        print(\"This car has\" + ' ' + str(self.odometer_reading) + \" miles on it.\")\n",
    "        \n",
    "    def update_odometer(self,milage):\n",
    "        if milage >= self.odometer_reading:\n",
    "            self.odometer_reading = milage\n",
    "        else:\n",
    "            print(\"You cannot roll back odometer reading\")\n",
    "        \n",
    "my_car = Car('audi', 'a4', 2016)      \n",
    "my_car.descriptive_name()\n",
    "\n",
    "my_car.update_odometer(35)\n",
    "my_car.read_odometer()\n",
    "my_car.update_odometer(10)\n",
    "my_car.read_odometer()\n"
   ]
  },
  {
   "cell_type": "markdown",
   "id": "792f1556",
   "metadata": {},
   "source": [
    "# <font color = 'blue'> Incrementing an Attribute's value Through a Method </font>\n",
    "\n",
    "Sometimes we want to increment an attributes value by a certain amount rather than set an entirely new value. "
   ]
  },
  {
   "cell_type": "code",
   "execution_count": 24,
   "id": "4926bbe1",
   "metadata": {},
   "outputs": [
    {
     "name": "stdout",
     "output_type": "stream",
     "text": [
      "2016 Audi a4\n",
      "This car has 30 miles on it.\n",
      "This car has 130 miles on it.\n"
     ]
    }
   ],
   "source": [
    "class Car():\n",
    "    def __init__(self,make,model,year):\n",
    "        self.make = make\n",
    "        self.year = year\n",
    "        self.model = model\n",
    "        self.odometer_reading = 0\n",
    "        \n",
    "    def descriptive_name(self):\n",
    "        print(str(self.year) + ' ' + self.make.title() + ' ' + self.model)\n",
    "        \n",
    "    def read_odometer(self):\n",
    "        print(\"This car has\" + ' ' + str(self.odometer_reading) + \" miles on it.\")\n",
    "        \n",
    "    def update_odometer(self,milage):\n",
    "        if milage >= self.odometer_reading:\n",
    "            self.odometer_reading = milage\n",
    "        else:\n",
    "            print(\"You cannot roll back odometer reading\")\n",
    "            \n",
    "    def increment_odometer(self,miles):\n",
    "        self.odometer_reading += miles\n",
    "        \n",
    "my_car = Car('audi', 'a4', 2016)      \n",
    "my_car.descriptive_name()  \n",
    "\n",
    "my_car.update_odometer(30)\n",
    "my_car.read_odometer()\n",
    "\n",
    "my_car.increment_odometer(100)\n",
    "my_car.read_odometer()"
   ]
  },
  {
   "cell_type": "code",
   "execution_count": 36,
   "id": "951f9e4d",
   "metadata": {},
   "outputs": [
    {
     "name": "stdout",
     "output_type": "stream",
     "text": [
      "2016 Audi a4\n",
      "This car has 30 miles on it.\n",
      "You cannot roll back odometer reading\n"
     ]
    }
   ],
   "source": [
    "class Car():\n",
    "    def __init__(self,make,model,year):\n",
    "        self.make = make\n",
    "        self.year = year\n",
    "        self.model = model\n",
    "        self.odometer_reading = 0\n",
    "        \n",
    "    def descriptive_name(self):\n",
    "        print(str(self.year) + ' ' + self.make.title() + ' ' + self.model)\n",
    "        \n",
    "    def read_odometer(self):\n",
    "        print(\"This car has\" + ' ' + str(self.odometer_reading) + \" miles on it.\")\n",
    "        \n",
    "    def update_odometer(self,milage):\n",
    "        if milage >= self.odometer_reading:\n",
    "            self.odometer_reading = milage\n",
    "        else:\n",
    "            print(\"You cannot roll back odometer reading\")\n",
    "            \n",
    "    # If we want to reject negative increments so no one uses this function to roll back an odometer        \n",
    "    def increment_odometer(self,miles):\n",
    "        if miles > 0 :\n",
    "            self.odometer_reading += miles\n",
    "            print(\"The updated odometer reading is \" + str(self.odometer_reading) + ' ' + \"miles.\" )\n",
    "        else:\n",
    "            print(\"You cannot roll back odometer reading\")\n",
    "\n",
    "my_car = Car('audi', 'a4', 2016)      \n",
    "my_car.descriptive_name() \n",
    "\n",
    "my_car.update_odometer(30)\n",
    "my_car.read_odometer()\n",
    "\n",
    "my_car.increment_odometer(-100)"
   ]
  },
  {
   "cell_type": "markdown",
   "id": "85dc180f",
   "metadata": {},
   "source": [
    "# Try it yourself Page 171"
   ]
  },
  {
   "cell_type": "code",
   "execution_count": null,
   "id": "dec805f0",
   "metadata": {},
   "outputs": [
    {
     "name": "stdout",
     "output_type": "stream",
     "text": [
      "The name of my Chinese restaurant is Mainland China\n",
      "The Mainland China is open today.\n",
      "Mainland China has served 10000 customers.\n",
      "Mainland China has served 20000 customers.\n",
      "Mainland China has served 21000 customers today.\n",
      "Swanand pal is a 32 years old Male who has a weight of 78kg and a height of 6 feet\n",
      "Hello Swanand welcome to our fitness programme.\n",
      "This is login attempt 0 of Swanand pal.\n",
      "This is login attempt 1 of Swanand pal.\n",
      "This is login attempt 2 of Swanand pal.\n",
      "This is login attempt 3 of Swanand pal.\n",
      "This is login attempt 4 of Swanand pal.\n",
      "This is login attempt 5 of Swanand pal.\n",
      "This is login attempt 6 of Swanand pal.\n",
      "This is login attempt 7 of Swanand pal.\n",
      "This is login attempt 8 of Swanand pal.\n",
      "This is login attempt 9 of Swanand pal.\n",
      "This is login attempt 10 of Swanand pal.\n",
      "This is login attempt 11 of Swanand pal.\n",
      "This is login attempt 12 of Swanand pal.\n",
      "Login attempt of Swanand pal has been set to 0. Please try again after sometime.\n"
     ]
    }
   ],
   "source": [
    "\n",
    "\n",
    "# 9-4\n",
    "\n",
    "class Restaurant():\n",
    "    def __init__(self,name,cuisine):\n",
    "        self.name = name\n",
    "        self.cuisine = cuisine\n",
    "        self.number_served = 0\n",
    "\n",
    "    def describe_restaurant(self):\n",
    "        print(\"The name of my \" + self.cuisine + \" restaurant is \"  + self.name)\n",
    "\n",
    "    def open_restaurant(self):\n",
    "        print(\"The \"+ self.name + \" is open today.\")\n",
    "\n",
    "    def set_number_served(self,number):\n",
    "        self.number_served  = number \n",
    "\n",
    "    def increment_number_served(self,increase):\n",
    "        self.number_served+=increase\n",
    "\n",
    "\n",
    "\n",
    "#my_restaurant = Restaurant(\"Bijoli Grill\",\"Bengali\")\n",
    "  \n",
    "\n",
    "restaurant = Restaurant(\"Mainland China\",\"Chinese\")\n",
    "\n",
    "restaurant.describe_restaurant()\n",
    "restaurant.open_restaurant() \n",
    "\n",
    "restaurant.number_served = 10000\n",
    "print(restaurant.name + \" has served \"+ str(restaurant.number_served) + \" customers.\")\n",
    "\n",
    "restaurant.set_number_served(20000)\n",
    "print(restaurant.name + \" has served \"+ str(restaurant.number_served) + \" customers.\")\n",
    "\n",
    "restaurant.increment_number_served(1000)\n",
    "print(restaurant.name + \" has served \"+ str(restaurant.number_served) + \" customers today.\")\n",
    "\n",
    "#print(restaurant.name + \" has served \" + str(restaurant.increase) + \" today.\")\n",
    "\n",
    "# 9-5\n",
    "\n",
    "\n",
    "class User():\n",
    "    def __init__(self,first_name,last_name,age,sex,weight,height):\n",
    "        self.first_name = first_name\n",
    "        self.last_name = last_name\n",
    "        self.age = age\n",
    "        self.sex = sex\n",
    "        self.weight = weight\n",
    "        self.height = height\n",
    "        self.login_attempts = 0\n",
    "\n",
    "    def describe_user(self):\n",
    "        print(self.first_name + \" \" + self.last_name + \" is a \" + str(self.age) + \" years old \" + self.sex +  \" who has a weight of \" + str(self.weight) + \"kg and a height of \" + str(self.height) + \" feet\")\n",
    "    \n",
    "    def greet_user(self):\n",
    "        print(\"Hello \"+ self.first_name + \" welcome to our fitness programme.\")\n",
    "\n",
    "    def increment_login_attempts(self):\n",
    "        self.login_attempts+=1\n",
    "        print(\"This is login attempt \" + str(self.login_attempts) + \" of \" +  self.first_name + \" \" + self.last_name + \".\" )\n",
    "\n",
    "    def reset_login_attempts(self):\n",
    "        self.login_attempts == 0\n",
    "        print(\"Login attempt of \" + self.first_name + \" \" + self.last_name  + \" has been set to 0. Please try again after sometime.\" )\n",
    "        \n",
    "                \n",
    "user1 = User(\"Swanand\",\"pal\",32,\"Male\",78,6)     \n",
    "\n",
    "user1.describe_user()\n",
    "user1.greet_user()   \n",
    "print(\"This is login attempt \" + str(user1.login_attempts) + \" of \" +  user1.first_name + \" \" + user1.last_name + \".\" )\n",
    "user1.increment_login_attempts()\n",
    "user1.increment_login_attempts()\n",
    "user1.increment_login_attempts()\n",
    "user1.increment_login_attempts()\n",
    "user1.increment_login_attempts()\n",
    "user1.increment_login_attempts()\n",
    "user1.increment_login_attempts()\n",
    "user1.increment_login_attempts()\n",
    "user1.increment_login_attempts()\n",
    "user1.increment_login_attempts()\n",
    "user1.increment_login_attempts()\n",
    "user1.increment_login_attempts()\n",
    "\n",
    "user1.reset_login_attempts()\n"
   ]
  },
  {
   "cell_type": "markdown",
   "id": "3cff6d3a",
   "metadata": {},
   "source": [
    "# Inheritance\n",
    "\n",
    "We dont always have to write a class from the scratch. If the class we are writing is a specialized version of another class that is already well defined we can use <font color = 'red'>**Inheritance**</font>. When one class inherits from another it automatically takes on all the attributes and methods of the first class. \n",
    "\n",
    "The oiginal class is called the <font color = 'lightgreen'>**parent class**</font> and the new class is called the <font color = 'lightgreen'>**child class**</font>. The child class inherits every attribute and method from the parent class but is also free to define new attribute and methods of its own."
   ]
  },
  {
   "cell_type": "markdown",
   "id": "df124afc",
   "metadata": {},
   "source": [
    "# <font color = 'green'> The __init__() method for a Child Class </font>\n",
    "\n",
    "The first task that python has when creating an instance from a child class is to assign values to all attributes in the parent class. To do this the __init__() method for a child class needs help from its parent class. \n"
   ]
  },
  {
   "cell_type": "code",
   "execution_count": null,
   "id": "0b9245b5",
   "metadata": {},
   "outputs": [
    {
     "name": "stdout",
     "output_type": "stream",
     "text": [
      "2016 Tesla model s\n"
     ]
    }
   ],
   "source": [
    "# So first we start with the parent class Car\n",
    "\n",
    "class Car():\n",
    "    def __init__(self,make,model,year):\n",
    "        self.make = make\n",
    "        self.year = year\n",
    "        self.model = model\n",
    "        self.odometer_reading = 0\n",
    "        \n",
    "    def descriptive_name(self):\n",
    "        print(str(self.year) + ' ' + self.make.title() + ' ' + self.model)\n",
    "        \n",
    "    def read_odometer(self):\n",
    "        print(\"This car has\" + ' ' + str(self.odometer_reading) + \" miles on it.\")\n",
    "        \n",
    "    def update_odometer(self,milage):\n",
    "        if milage >= self.odometer_reading:\n",
    "            self.odometer_reading = milage\n",
    "        else:\n",
    "            print(\"You cannot roll back odometer reading\")\n",
    "            \n",
    "    # If we want to reject negative increments so no one uses this function to roll back an odometer        \n",
    "    def increment_odometer(self,miles):\n",
    "        if miles > 0 :\n",
    "            self.odometer_reading += miles\n",
    "            print(\"The updated odometer reading is \" + str(self.odometer_reading) + ' ' + \"miles.\" )\n",
    "        else:\n",
    "            print(\"You cannot roll back odometer reading\")\n",
    "            \n",
    "# Next we define our child class ElectricCar\n",
    "\n",
    "class ElectricCar(Car):\n",
    "    def __init_(self,make,model,year):\n",
    "        \n",
    "        super().__init__(make,model,year)  \n",
    "        \n",
    "# super() function is a special function that helps python make connections between the parent and the child class\n",
    "# The line tells python to call the __init__() method from the ElectrciCar's parent class, which gives\n",
    "# an ElectricCar instance all the attributes of the parent class. \n",
    "# The name Super comes from a convention of calling the parent class a superclass and the child class a subclass.\n",
    "        \n",
    "my_new_car = ElectricCar('tesla', 'model s', 2016)\n",
    "\n",
    "# This line calls the __init__() method defined in ElectricCar, which in turn tells python to call the __init__() \n",
    "# method defined in the parent class Car.\n",
    "\n",
    "my_new_car.descriptive_name()"
   ]
  },
  {
   "cell_type": "markdown",
   "id": "834955f5",
   "metadata": {},
   "source": [
    "<font color = 'red'> The ElectricCar instance works just fine and just like an instance of Car, so now we can begin defining attributes and methods specific to electric cars </font>\n",
    "\n",
    "# <font color = 'green'> Defining Attributes and Methods for the Child Class </font>\n",
    "\n",
    "Once we have a child class that inherits the attributes from the parent class, we can add any new attributes and methods necessary to differentiate the child class from the parent class. \n",
    "\n",
    "\n",
    "\n"
   ]
  },
  {
   "cell_type": "code",
   "execution_count": null,
   "id": "c0be85e6",
   "metadata": {},
   "outputs": [
    {
     "name": "stdout",
     "output_type": "stream",
     "text": [
      "2016 Tesla model s\n",
      "This car has a 70-KWh battery.\n"
     ]
    }
   ],
   "source": [
    "class Car():\n",
    "    def __init__(self,make,model,year):\n",
    "        self.make = make\n",
    "        self.year = year\n",
    "        self.model = model\n",
    "        self.odometer_reading = 0\n",
    "        \n",
    "    def descriptive_name(self):\n",
    "        print(str(self.year) + ' ' + self.make.title() + ' ' + self.model)\n",
    "        \n",
    "    def read_odometer(self):\n",
    "        print(\"This car has\" + ' ' + str(self.odometer_reading) + \" miles on it.\")\n",
    "        \n",
    "    def update_odometer(self,milage):\n",
    "        if milage >= self.odometer_reading:\n",
    "            self.odometer_reading = milage\n",
    "        else:\n",
    "            print(\"You cannot roll back odometer reading\")\n",
    "            \n",
    "    # If we want to reject negative increments so no one uses this function to roll back an odometer        \n",
    "    def increment_odometer(self,miles):\n",
    "        if miles > 0 :\n",
    "            self.odometer_reading += miles\n",
    "            print(\"The updated odometer reading is \" + str(self.odometer_reading) + ' ' + \"miles.\" )\n",
    "        else:\n",
    "            print(\"You cannot roll back odometer reading\")\n",
    "            \n",
    "class ElectricCar(Car):\n",
    "    def __init__(self,make,model,year):\n",
    "        \n",
    "        super().__init__(make,model,year)   \n",
    "        self.battery_size = 70\n",
    "        \n",
    "        # Here we add a new attribute self.battery_size and set an initial value. This attribute \n",
    "        # will be associated with all instances created from the ElectricCar class but wont be associated with\n",
    "        # instances created from the Car parent class. \n",
    "        \n",
    "    def describe_battery(self):\n",
    "        print(\"This car has a \" + str(self.battery_size) + \"-KWh battery.\")\n",
    "        \n",
    "my_tesla = ElectricCar('tesla', 'model s', 2016)\n",
    "my_tesla.descriptive_name()\n",
    "my_tesla.describe_battery()\n",
    "            "
   ]
  },
  {
   "cell_type": "markdown",
   "id": "ce58218c",
   "metadata": {},
   "source": [
    "# <font color = 'red'>Important note : An attribute or method that could belong to any instance rather than one that's specific to a child class should be added to the parent class instead of the child class. Then anyone who uses the parent class will have that functionality availaible as well, and the child class will only contain code for the information and behaviour to the child class. </font>"
   ]
  },
  {
   "cell_type": "markdown",
   "id": "21fd8c52",
   "metadata": {},
   "source": [
    "# <font color = 'green'> Overriding Methods from the Parent Class</font>\n",
    "\n",
    "We can override methods from the parent class that doesnt fit what we are trying to model with the child class. To do this we define a method in the child class with the same name as the method we want to override in the parent class. Python will then disregard the mehtod defined in the parent class and only pay attention to the method we define in the child class."
   ]
  },
  {
   "cell_type": "code",
   "execution_count": 5,
   "id": "dd471560",
   "metadata": {},
   "outputs": [
    {
     "name": "stdout",
     "output_type": "stream",
     "text": [
      "2016 Audi a4\n",
      "This car has 400 miles on it.\n",
      "No need to fill the tank as of now buddy\n",
      "The updated odometer reading is 1200 miles.\n",
      "This car has 1200 miles on it.\n",
      "You need to fill your tank\n",
      "2016 Tesla model s\n",
      "This car has a 70-KWh battery.\n",
      "It is an electric car honey doesn't need a gas tank\n"
     ]
    }
   ],
   "source": [
    "class Car():\n",
    "    def __init__(self,make,model,year):\n",
    "        self.make = make\n",
    "        self.year = year\n",
    "        self.model = model\n",
    "        self.odometer_reading = 0\n",
    "        \n",
    "    def descriptive_name(self):\n",
    "        print(str(self.year) + ' ' + self.make.title() + ' ' + self.model)\n",
    "        \n",
    "    def read_odometer(self):\n",
    "        print(\"This car has\" + ' ' + str(self.odometer_reading) + \" miles on it.\")\n",
    "        \n",
    "    def update_odometer(self,milage):\n",
    "        if milage >= self.odometer_reading:\n",
    "            self.odometer_reading = milage\n",
    "        else:\n",
    "            print(\"You cannot roll back odometer reading\")\n",
    "            \n",
    "    # If we want to reject negative increments so no one uses this function to roll back an odometer        \n",
    "    def increment_odometer(self,miles):\n",
    "        if miles > 0 :\n",
    "            self.odometer_reading += miles\n",
    "            print(\"The updated odometer reading is \" + str(self.odometer_reading) + ' ' + \"miles.\" )\n",
    "        else:\n",
    "            print(\"You cannot roll back odometer reading\")\n",
    "            \n",
    "    def fill_gas_tank(self):\n",
    "        if self.odometer_reading <= 1000:\n",
    "            print(\"No need to fill the tank as of now buddy\")\n",
    "        else:\n",
    "            print(\"You need to fill your tank\")\n",
    "        \n",
    "            \n",
    "class ElectricCar(Car):\n",
    "    def __init__(self,make,model,year):\n",
    "        \n",
    "        super().__init__(make,model,year)   \n",
    "        self.battery_size = 70\n",
    "        \n",
    "        # Here we add a new attribute self.battery_size and set an initial value. This attribute \n",
    "        # will be associated with all instances created from the ElectricCar class but wont be associated with\n",
    "        # instances created from the Car parent class. \n",
    "        \n",
    "    def describe_battery(self):\n",
    "        print(\"This car has a \" + str(self.battery_size) + \"-KWh battery.\")\n",
    "    # here we over-ride the fill_gas_tank method defined in the     \n",
    "    def fill_gas_tank(self):\n",
    "        print(\"It is an electric car honey doesn't need a gas tank\")\n",
    "        \n",
    "my_car  = Car('audi', 'a4', 2016) \n",
    "my_car.descriptive_name()\n",
    "my_car.update_odometer(400)\n",
    "my_car.read_odometer()\n",
    "my_car.fill_gas_tank()\n",
    "        \n",
    "\n",
    "my_car.increment_odometer(800)\n",
    "my_car.read_odometer()\n",
    "my_car.fill_gas_tank()\n",
    " \n",
    "my_tesla = ElectricCar('tesla', 'model s', 2016)\n",
    "my_tesla.descriptive_name()\n",
    "my_tesla.describe_battery()\n",
    "my_tesla.fill_gas_tank()"
   ]
  },
  {
   "cell_type": "markdown",
   "id": "c51451ed",
   "metadata": {},
   "source": [
    "# <font color = 'green'> Instances as Attributes </font>\n",
    "\n",
    "When modelling a real world scenario in code, we may find that we are adding more and more detail to a class. We will find that we have a growing list of attributes and methods and that our files are becoming lengthy. In these situations we might recognize that part of one class can be written as a separate class. We can break our large class into smaller classes that work together. \n",
    "\n"
   ]
  },
  {
   "cell_type": "code",
   "execution_count": null,
   "id": "d3defb1c",
   "metadata": {},
   "outputs": [
    {
     "name": "stdout",
     "output_type": "stream",
     "text": [
      "2016 Tesla model s\n",
      "This car has a 70-KWh battery.\n"
     ]
    }
   ],
   "source": [
    "class Car():\n",
    "    def __init__(self,make,model,year):\n",
    "        self.make = make\n",
    "        self.year = year\n",
    "        self.model = model\n",
    "        self.odometer_reading = 0\n",
    "        \n",
    "    def descriptive_name(self):\n",
    "        print(str(self.year) + ' ' + self.make.title() + ' ' + self.model)\n",
    "        \n",
    "    def read_odometer(self):\n",
    "        print(\"This car has\" + ' ' + str(self.odometer_reading) + \" miles on it.\")\n",
    "        \n",
    "    def update_odometer(self,milage):\n",
    "        if milage >= self.odometer_reading:\n",
    "            self.odometer_reading = milage\n",
    "        else:\n",
    "            print(\"You cannot roll back odometer reading\")\n",
    "            \n",
    "    # If we want to reject negative increments so no one uses this function to roll back an odometer        \n",
    "    def increment_odometer(self,miles):\n",
    "        if miles > 0 :\n",
    "            self.odometer_reading += miles\n",
    "            print(\"The updated odometer reading is \" + str(self.odometer_reading) + ' ' + \"miles.\" )\n",
    "        else:\n",
    "            print(\"You cannot roll back odometer reading\")\n",
    "            \n",
    "    def fill_gas_tank(self):\n",
    "        if self.odometer_reading <= 1000:\n",
    "            print(\"No need to fill the tank as of now buddy\")\n",
    "        else:\n",
    "            print(\"You need to fill your tank\")\n",
    "\n",
    "class Battery():\n",
    "    def __init__(self,battery_size=70):\n",
    "        self.battery_size = battery_size\n",
    "    def describe_battery(self):\n",
    "        print(\"This car has a \" + str(self.battery_size) + \"-KWh battery.\")\n",
    "\n",
    "class ElectricCar(Car):\n",
    "    def __init__(self,make,model,year):\n",
    "        super().__init__(make,model,year)\n",
    "        self.battery = Battery()\n",
    "        \n",
    "my_tesla = ElectricCar('tesla', 'model s', 2016)\n",
    "my_tesla.descriptive_name()\n",
    "my_tesla.battery.describe_battery()\n"
   ]
  },
  {
   "cell_type": "code",
   "execution_count": null,
   "id": "0963cd99",
   "metadata": {},
   "outputs": [
    {
     "name": "stdout",
     "output_type": "stream",
     "text": [
      "2016 Tesla model s\n",
      "This car can go approximately 240 miles on a full charge.\n"
     ]
    }
   ],
   "source": [
    "class Car():\n",
    "    def __init__(self,make,model,year):\n",
    "        self.make = make\n",
    "        self.year = year\n",
    "        self.model = model\n",
    "        self.odometer_reading = 0\n",
    "        \n",
    "    def descriptive_name(self):\n",
    "        print(str(self.year) + ' ' + self.make.title() + ' ' + self.model)\n",
    "        \n",
    "    def read_odometer(self):\n",
    "        print(\"This car has\" + ' ' + str(self.odometer_reading) + \" miles on it.\")\n",
    "        \n",
    "    def update_odometer(self,milage):\n",
    "        if milage >= self.odometer_reading:\n",
    "            self.odometer_reading = milage\n",
    "        else:\n",
    "            print(\"You cannot roll back odometer reading\")\n",
    "            \n",
    "    # If we want to reject negative increments so no one uses this function to roll back an odometer        \n",
    "    def increment_odometer(self,miles):\n",
    "        if miles > 0 :\n",
    "            self.odometer_reading += miles\n",
    "            print(\"The updated odometer reading is \" + str(self.odometer_reading) + ' ' + \"miles.\" )\n",
    "        else:\n",
    "            print(\"You cannot roll back odometer reading\")\n",
    "            \n",
    "    def fill_gas_tank(self):\n",
    "        if self.odometer_reading <= 1000:\n",
    "            print(\"No need to fill the tank as of now buddy\")\n",
    "        else:\n",
    "            print(\"You need to fill your tank\")\n",
    "\n",
    "class Battery():\n",
    "    def __init__(self,battery_size=70):\n",
    "        self.battery_size = battery_size\n",
    "    def describe_battery(self):\n",
    "        print(\"This car has a \" + str(self.battery_size) + \"-KWh battery.\")\n",
    "    # Now adding some more details about the battery as we want without cluttering the ElectricCar class.    \n",
    "    def get_range(self):\n",
    "        if self.battery_size == 70:\n",
    "            range = 240\n",
    "        elif self.battery_size == 85:\n",
    "            range = 270\n",
    "        print(\"This car can go approximately \" + str(range) + \" miles on a full charge.\") \n",
    "\n",
    "class ElectricCar(Car):\n",
    "    def __init__(self,make,model,year):\n",
    "        super().__init__(make,model,year)\n",
    "        self.battery = Battery()\n",
    "        \n",
    "my_tesla = ElectricCar('tesla', 'model s', 2016)\n",
    "my_tesla.descriptive_name()\n",
    "my_tesla.battery.get_range()"
   ]
  },
  {
   "cell_type": "markdown",
   "id": "9dc7bc78",
   "metadata": {},
   "source": [
    "# Try it yourself"
   ]
  },
  {
   "cell_type": "code",
   "execution_count": 84,
   "id": "b311fe3a",
   "metadata": {},
   "outputs": [
    {
     "name": "stdout",
     "output_type": "stream",
     "text": [
      "The icecream flavours availaible today at Flavours are :\n",
      "-vanilla\n",
      "-strawberry\n",
      "-butterscotch\n",
      "-blackcurrent\n",
      "The list of priviledges associated with an admin account are:\n",
      "-can add post\n",
      "-can delete post\n",
      "-can ban user\n"
     ]
    }
   ],
   "source": [
    "# 9-6\n",
    "\n",
    "class Restaurant():\n",
    "    def __init__(self,name,cuisine):\n",
    "        self.name = name\n",
    "        self.cuisine = cuisine\n",
    "        self.number_served = 0\n",
    "\n",
    "    def describe_restaurant(self):\n",
    "        print(\"The name of my \" + self.cuisine + \" restaurant is \"  + self.name)\n",
    "\n",
    "    def open_restaurant(self):\n",
    "        print(\"The \"+ self.name + \" is open today.\")\n",
    "\n",
    "    def set_number_served(self,number):\n",
    "        self.number_served  = number \n",
    "\n",
    "    def increment_number_served(self,increase):\n",
    "        self.number_served+=increase\n",
    "\n",
    "class IceCreamStand(Restaurant):\n",
    "    def __init__(self,name,cuisine):\n",
    "        super().__init__(name,cuisine)\n",
    "        self.flavours = [\"vanilla\",\"strawberry\",\"butterscotch\",\"blackcurrent\"]\n",
    "    def display_flavours(self):\n",
    "        print(\"The \" + self.cuisine + \" flavours availaible today at \" + self.name + \" are :\")\n",
    "        for flavours in self.flavours:\n",
    "            print(\"-\" + flavours)\n",
    "\n",
    "my_icecreamstand = IceCreamStand(\"Flavours\",\"icecream\")     \n",
    "my_icecreamstand.display_flavours()\n",
    "\n",
    "\n",
    "# 9-7\n",
    "\n",
    "class User():\n",
    "    def __init__(self,first_name,last_name,age,sex,weight,height):\n",
    "        self.first_name = first_name\n",
    "        self.last_name = last_name\n",
    "        self.age = age\n",
    "        self.sex = sex\n",
    "        self.weight = weight\n",
    "        self.height = height\n",
    "\n",
    "    def describe_user(self):\n",
    "        print(self.first_name + \" \" + self.last_name + \" is a \" + str(self.age) + \" years old \" + self.sex +  \" who has a weight of \" + str(self.weight) + \"kg and a height of \" + str(self.height) + \" feet\")\n",
    "    \n",
    "    def greet_user(self):\n",
    "        print(\"Hello \"+ self.first_name + \" welcome to our fitness programme.\")\n",
    "\n",
    "class Admin(User):\n",
    "    def __init__(self,first_name,last_name,age,sex,weight,height):\n",
    "        super().__init__(first_name,last_name,age,sex,weight,height)\n",
    "        self.priviledges = [\"can add post\",\"can delete post\",\"can ban user\"]\n",
    "\n",
    "    def show_priviledges(self):  \n",
    "        print(\"The list of priviledges associated with an admin account are:\")\n",
    "        for priviledge in self.priviledges:\n",
    "            print(\"-\" + priviledge)    \n",
    "\n",
    "my_admin = Admin(\"Amrish\",\"Pal\",44,\"Male\",78,5)\n",
    "my_admin.show_priviledges()\n",
    "\n",
    "\n"
   ]
  },
  {
   "cell_type": "markdown",
   "id": "08f5721a",
   "metadata": {},
   "source": [
    "# Importing classes\n",
    "\n",
    "As we start adding more functionality to our classes, our files can get log even when we use inheritance properly.In keeping wiht the overall philosophy of python, we will want to keep our files as uncluttered as possible. Python helps us store classes in modues and then import the classes we need into our main program. \n",
    "\n",
    "# <font color = 'green'> Importing a single class </font>"
   ]
  },
  {
   "cell_type": "code",
   "execution_count": 22,
   "id": "f4e1671e",
   "metadata": {},
   "outputs": [
    {
     "name": "stdout",
     "output_type": "stream",
     "text": [
      "2020 Zeta a5\n",
      "This car has 2000 miles on it.\n",
      "You need to fill your tank\n"
     ]
    }
   ],
   "source": [
    "############# A class that can be used to represent a car. ##################\n",
    "\n",
    "# class Car():\n",
    "#     def __init__(self,make,model,year):\n",
    "#         self.make = make\n",
    "#         self.year = year\n",
    "#         self.model = model\n",
    "#         self.odometer_reading = 0\n",
    "        \n",
    "#     def descriptive_name(self):\n",
    "#         print(str(self.year) + ' ' + self.make.title() + ' ' + self.model)\n",
    "        \n",
    "#     def read_odometer(self):\n",
    "#         print(\"This car has\" + ' ' + str(self.odometer_reading) + \" miles on it.\")\n",
    "        \n",
    "#     def update_odometer(self,milage):\n",
    "#         if milage >= self.odometer_reading:\n",
    "#             self.odometer_reading = milage\n",
    "#         else:\n",
    "#             print(\"You cannot roll back odometer reading\")\n",
    "            \n",
    "#     # If we want to reject negative increments so no one uses this function to roll back an odometer        \n",
    "#     def increment_odometer(self,miles):\n",
    "#         if miles > 0 :\n",
    "#             self.odometer_reading += miles\n",
    "#             print(\"The updated odometer reading is \" + str(self.odometer_reading) + ' ' + \"miles.\" )\n",
    "#         else:\n",
    "#             print(\"You cannot roll back odometer reading\")\n",
    "            \n",
    "#     def fill_gas_tank(self):\n",
    "#         if self.odometer_reading <= 1000:\n",
    "#             print(\"No need to fill the tank as of now buddy\")\n",
    "#         else:\n",
    "#             print(\"You need to fill your tank\")\n",
    "\n",
    "# Now if we save this code in a module named car.py\n",
    "\n",
    "# So any program that uses this module in that we need to call it in the manner:\n",
    "\n",
    "from car import Car\n",
    "my_car  = Car('zeta', 'a5', 2020) \n",
    "my_car.descriptive_name()\n",
    "my_car.update_odometer(2000)\n",
    "my_car.read_odometer()\n",
    "my_car.fill_gas_tank()\n"
   ]
  },
  {
   "cell_type": "markdown",
   "id": "877d57fc",
   "metadata": {},
   "source": [
    "<font color = 'red'> In a single program the Car class code along with other codes will make the whole program execessively long. When we instead move th class to a module and import the module we still get all the same functionality, but we keep our main program file clean and easy to read. We also store most of the logic files in separate files; once our classes work as we want them to, we can leave those files alone and focus on the higher level logic of our main program. </font>"
   ]
  },
  {
   "cell_type": "markdown",
   "id": "5bfcbf0b",
   "metadata": {},
   "source": [
    "# <font color = 'green' > Importing Multiple Classes in a Module </font>\n",
    "\n",
    "We can import multiple many classes from a module. We are better off importing the entire module and using the **module_name.class_name** syntax.\n",
    "We wont see all the classes used at the top of the file, but we will see clearly where the module is used in the program. We will also avoid the potential naming conflict that can arise when we import every class in a module."
   ]
  },
  {
   "cell_type": "markdown",
   "id": "15be8908",
   "metadata": {},
   "source": [
    "# <font color = 'green' > Importing a Module into a Module </font>\n",
    "\n",
    "\n",
    "Sometimes we will want to spreadout our classes over several modules to keep any one file from growing too large and avoid storing unrelated classes in the same module. When we store our classes in several modules, we may find that a class in one module depends on a class in another module. When this happens we can import the required class into the first module."
   ]
  },
  {
   "cell_type": "code",
   "execution_count": 32,
   "id": "6fc88e1c",
   "metadata": {},
   "outputs": [
    {
     "name": "stdout",
     "output_type": "stream",
     "text": [
      "2016 Tesla model s\n",
      "This car can go approximately 240 miles on a full charge.\n"
     ]
    }
   ],
   "source": [
    "# So when creating a separate module for Electriccar we need to keep in mind that we have to import the car module \n",
    "# within the new Electriccar.py module like below.\n",
    "\n",
    "# from car import Car\n",
    "\n",
    "# class Battery():\n",
    "#     def __init__(self,battery_size=70):\n",
    "#         self.battery_size = battery_size\n",
    "#     def describe_battery(self):\n",
    "#         print(\"This car has a \" + str(self.battery_size) + \"-KWh battery.\")\n",
    "#     # Now addign some more details about the battery as we want without cluttering the ElectricCar class.    \n",
    "#     def get_range(self):\n",
    "#         if self.battery_size == 70:\n",
    "#             range = 240\n",
    "#         elif self.battery_size == 85:\n",
    "#             range = 270\n",
    "#         print(\"This car can go approximately \" + str(range) + \" miles on a full charge.\") \n",
    "\n",
    "\n",
    "# class ElectricCar(Car):\n",
    "#     def __init__(self,make,model,year):\n",
    "#         super().__init__(make,model,year)\n",
    "#         self.battery = Battery()\n",
    "\n",
    "\n",
    "\n",
    "from Electriccar import ElectricCar\n",
    "\n",
    "my_tesla = ElectricCar('tesla', 'model s', 2016)\n",
    "my_tesla.descriptive_name()\n",
    "my_tesla.battery.get_range()\n"
   ]
  },
  {
   "cell_type": "code",
   "execution_count": null,
   "id": "1a670a13",
   "metadata": {},
   "outputs": [],
   "source": [
    "# Try it yourself"
   ]
  },
  {
   "cell_type": "markdown",
   "id": "bceb6868",
   "metadata": {},
   "source": [
    "<font color = 'green'> The Python standard library </font>\n",
    "\n",
    "the python standard library is a set of modules included with every Python installation. \n",
    "For example the class OrderedDict from the module collections. If we are creating a dictionary and want to keep track of the of the order in which key-value pairs are added, we can use the OrderedDict class from the collections module. \n",
    "\n",
    "<font color = 'red'> Instances of OrderedDict behave almost same exactly like dictionaries except they keep a track of the order in which key-value paris are added. </font>"
   ]
  },
  {
   "cell_type": "code",
   "execution_count": 34,
   "id": "af775e0a",
   "metadata": {},
   "outputs": [],
   "source": [
    "from collections import OrderedDict\n",
    "\n",
    "# this is a great class to be aware of because it combines the main benifit of lists (retaining your original order) \n",
    "# with the main feature of dictionaries (connecting pieces of information)"
   ]
  }
 ],
 "metadata": {
  "kernelspec": {
   "display_name": "pytorchenv",
   "language": "python",
   "name": "python3"
  },
  "language_info": {
   "codemirror_mode": {
    "name": "ipython",
    "version": 3
   },
   "file_extension": ".py",
   "mimetype": "text/x-python",
   "name": "python",
   "nbconvert_exporter": "python",
   "pygments_lexer": "ipython3",
   "version": "3.13.2"
  }
 },
 "nbformat": 4,
 "nbformat_minor": 5
}
