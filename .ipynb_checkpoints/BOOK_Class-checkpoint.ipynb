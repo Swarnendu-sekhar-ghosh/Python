{
 "cells": [
  {
   "cell_type": "markdown",
   "id": "c2b6f595",
   "metadata": {},
   "source": [
    "In object oriented programming we write classes that represent real world things and situations, and you create objects based on these classes. When we write a class we define the general behaviour that a whole category of objects can have. \n",
    "\n",
    "When we create individual objects from the class, those objects are automatically equipped with the general behaviour; we can then give each object whatever unique traits we desire. \n",
    "\n",
    "Making an object from a class is called \" Instantiation \" , we work with instances of a class. \n",
    "Things we will learn initially are:\n",
    "\n",
    "1) Write classes.\n",
    "2) Create instances of those classes.\n",
    "3) Specify the kind of information that can be stored in those instances. \n",
    "4) Define actions that can be taken with these instances. \n",
    "5) Write functions that extend the functionality of the defined classes, so that similar classes can share code efficiently.\n",
    "6) We will store our classes in modules.\n",
    "7) Import classes written by other programmers into our own program files.\n",
    "\n",
    "# Creating and using a class"
   ]
  },
  {
   "cell_type": "code",
   "execution_count": 1,
   "id": "14cd052b",
   "metadata": {},
   "outputs": [],
   "source": [
    "# creating a Dog class\n",
    "\n",
    "# So pet dogs have a name and age, and , they sit and roll over (two behaviours)\n",
    "\n",
    "class Dog():\n",
    "    def __init__(self,name,age):\n",
    "        self.name = name\n",
    "        self.age = age\n",
    "        \n",
    "    def sit(self):\n",
    "        print(self.name.title() + \"is now sitting.\")\n",
    "    \n",
    "    def roll_over(self):\n",
    "        print(self.name.title() + \"rolled over!\")\n",
    "        \n",
    "       "
   ]
  },
  {
   "cell_type": "markdown",
   "id": "10116ba7",
   "metadata": {},
   "source": [
    "**__init__( ) method** \n",
    "\n",
    "A function that is part of a class is a **method**. Everything you learned about functions applies to methods as well; the only practical difference for now is the way we will call methods. \n",
    "\n",
    "It is a special method that python runs automatically as soon we create a new instance based on our defined class. This method has two leading and two trailing udnerscores, a convention that helps prevent Pythons default method names from conflicting with our method names. \n",
    "\n",
    "The **self** parameter is required in the method definition, and it must come first before other parameters. It must be included as when python calls the __init__() method later (to create an instance of Dog), the method will automatically pass the self argument. **Every method call associated with a class automatically passes self, which is a reference to the instance itself; it gives the individual instance acess to the attributes and methods in the class.**\n",
    "\n",
    "So as shown in the above Dog class example , any **variable** that is prefixed with **self** for example in our case **name** and **age** is availaible to every method in the class, and we will also be able to acess these variables through any instance from the class. These variables that are accesible through instances are called **attributes**. \n",
    "\n",
    "The dog class has two other **methods** that are **sit** and **roll over**. These methods dont need additional information we just give them one parameter that is **self**. The instances that we create later will have acess to these methods. \n"
   ]
  },
  {
   "cell_type": "markdown",
   "id": "095058db",
   "metadata": {},
   "source": [
    "# <font color = 'green'> Making an instance from a class </font>\n",
    "\n",
    "We can think of a class as a set of instructions for how to make an instance. The class Dog is a set of instructions that tells python  how to make individual instances representing specific dogs. "
   ]
  },
  {
   "cell_type": "code",
   "execution_count": 11,
   "id": "590968da",
   "metadata": {},
   "outputs": [
    {
     "name": "stdout",
     "output_type": "stream",
     "text": [
      " My dog's name is  Oreo.\n",
      " He is only 5 years old.\n"
     ]
    }
   ],
   "source": [
    "class Dog():\n",
    "    def __init__(self,name,age):\n",
    "        self.name = name\n",
    "        self.age = age\n",
    "        \n",
    "    def sit(self):\n",
    "        print(self.name.title() + ' ' + \"is sitting in his favourite chair.\")\n",
    "        \n",
    "    def roll_over(self):\n",
    "        print(\"My dog \" + self.name.title() + ' ' + \"is only \" + str(self.age)+ ' ' + \"years old and loves to roll over.\" )\n",
    "    \n",
    "my_dog = Dog('Oreo',5)\n",
    "print(\" My dog's name is \" + ' ' + my_dog.name.title() + '.')\n",
    "print(\" He is only\" + ' ' + str(my_dog.age) + ' ' + \"years old.\")\n",
    "        \n",
    "# So here we use the previously defined Dog class with the two attributes name and age. As soon as the python \n",
    "# sees \"Oreo\" and 5 it uses the __init__() method and creates an instance representing this particular dog and \n",
    "# sets the name and age attributes with the values we provided. The __init__() method has no explicit return \n",
    "# statement, but python automatically returns an instance representing this dog. We store that instance in the \n",
    "# variable my_dog.\n"
   ]
  },
  {
   "cell_type": "markdown",
   "id": "917fa891",
   "metadata": {},
   "source": [
    "# <font color = 'green'> Acessing attirbutes </font>\n",
    "\n",
    "To access the attributes of an instance, we use **dot notation**. \n",
    "\n",
    "As in the above example we saw that the attribute **name** associated with my_dog. This is the same attribute referred to as self.name in the class Dog. Similar approach has been used for the attribute **age**.  \n"
   ]
  },
  {
   "cell_type": "markdown",
   "id": "1bd44faa",
   "metadata": {},
   "source": [
    "# <font color = 'green'> Calling Methods </font>\n",
    "\n",
    "After we create an instance from the class, we can use dot notation to call any method defined in the class. \n",
    "\n"
   ]
  },
  {
   "cell_type": "code",
   "execution_count": 15,
   "id": "15ed9f38",
   "metadata": {},
   "outputs": [
    {
     "name": "stdout",
     "output_type": "stream",
     "text": [
      "Oreo is sitting in his favourite chair.\n",
      "My dog Oreo is only 5 years old and loves to roll over.\n"
     ]
    }
   ],
   "source": [
    "class Dog():\n",
    "    def __init__(self,name,age):\n",
    "        self.name = name\n",
    "        self.age = age\n",
    "        \n",
    "    def sit(self):\n",
    "        print(self.name.title() + ' ' + \"is sitting in his favourite chair.\")\n",
    "        \n",
    "    def roll_over(self):\n",
    "        print(\"My dog \" + self.name.title() + ' ' + \"is only \" + str(self.age) + ' ' + \"years old and loves to roll over.\" )\n",
    "    \n",
    "my_dog = Dog('Oreo',5)\n",
    "\n",
    "my_dog.sit()\n",
    "\n",
    "my_dog.roll_over()\n"
   ]
  },
  {
   "cell_type": "markdown",
   "id": "11a35ecd",
   "metadata": {},
   "source": [
    "# <font color = 'green'> Creating Multiple Instances  </font>\n",
    "\n",
    "We can create multiple instances from a class as many as we need. So even if we used the same attributes for the second instance, Python would still create a second/separate instance from the same class. As long as we give unique variable name to every instance or it occupies a unique spot in a list or dictionary we can create as many instances from one class as we need. "
   ]
  },
  {
   "cell_type": "code",
   "execution_count": 22,
   "id": "9e1e429c",
   "metadata": {},
   "outputs": [
    {
     "name": "stdout",
     "output_type": "stream",
     "text": [
      "\n",
      "Name of the restaurant is Khide\n",
      "The cuisine type served in this particular restaurant is Bengali\n",
      "Today Khide is open to service.\n",
      "\n",
      "Name of the restaurant is Mainland China \n",
      "The cuisine type served in this particular restaurant is Chinese\n",
      "\n",
      "Name of the restaurant is Punjab Grill\n",
      "The cuisine type served in this particular restaurant is Punjabi\n"
     ]
    }
   ],
   "source": [
    "# try it yourself\n",
    "\n",
    "#9-1\n",
    "class Restaurant():\n",
    "    def __init__(self,restaurant_name, cuisine_type):\n",
    "        self.restaurant_name = restaurant_name\n",
    "        self.cuisine_type = cuisine_type\n",
    "          \n",
    "    def describe_restaurant(self): \n",
    "        print(\"\\nName of the restaurant is \" + self.restaurant_name.title())\n",
    "        print(\"The cuisine type served in this particular restaurant is \" + self.cuisine_type.title())\n",
    "    \n",
    "    def open_restaurant(self):\n",
    "        print(\"Today \" + self.restaurant_name.title() + \" is open to service.\")\n",
    "        \n",
    "my_restaurant = Restaurant(\"Khide\", \"Bengali\")\n",
    "my_restaurant.describe_restaurant()\n",
    "my_restaurant.open_restaurant()\n",
    "\n",
    "#9-2\n",
    "\n",
    "mothers_restaurant = Restaurant(\"Mainland China \", \"Chinese\")\n",
    "mothers_restaurant.describe_restaurant()\n",
    "   \n",
    "fathers_restaurant = Restaurant(\"Punjab Grill\", \"Punjabi\")\n",
    "fathers_restaurant.describe_restaurant()\n",
    "\n",
    "#9-3\n",
    "\n",
    "class User():\n",
    "    def __init(self, first_name, last_name,location,nationality,sex,age):\n",
    "        self.first_name = first_name\n",
    "        self.last_name = last_name\n",
    "        self.location = location\n",
    "        self.nationality = nationality\n",
    "        self.sex = sex\n",
    "        self.age = age\n",
    "        \n",
    "       "
   ]
  },
  {
   "cell_type": "markdown",
   "id": "76274e0a",
   "metadata": {},
   "source": [
    "# Working with classes and Instances\n",
    "\n",
    "Classes can represent many real world scenarios. Once a class is created we will spend most of our time workig with instances created from a class. \n",
    "One of the first thing that we would want to do is modify the attributes a particular instance. We can do that either directly or write methods that update the attributes in specific ways. \n",
    "\n",
    "# <font color = 'green' > Setting Default value for an attribute </font>\n",
    "\n",
    "Every attribute in a class needs a default value that can be 0 value or an empty string. One way of doing this is by setting a default value in the body if the __init()__ method; by doing this we donot have to set a parameter for that attribute.\n",
    "\n",
    "\n"
   ]
  },
  {
   "cell_type": "code",
   "execution_count": 7,
   "id": "9832c365",
   "metadata": {},
   "outputs": [
    {
     "name": "stdout",
     "output_type": "stream",
     "text": [
      "2016 Audi a4\n",
      "This car has 0 miles on it.\n"
     ]
    }
   ],
   "source": [
    "class Car():\n",
    "    def __init__(self,make,model,year):\n",
    "        self.make = make\n",
    "        self.year = year\n",
    "        self.model = model\n",
    "        self.odometer_reading = 0\n",
    "        \n",
    "    def descriptive_name(self):\n",
    "        print(str(self.year) + ' ' + self.make.title() + ' ' + self.model)\n",
    "        \n",
    "    def read_odometer(self):\n",
    "        print(\"This car has\" + ' ' + str(self.odometer_reading) + \" miles on it.\")\n",
    "        \n",
    "        \n",
    "my_car = Car('audi', 'a4', 2016)      \n",
    "my_car.descriptive_name()    \n",
    "my_car.read_odometer()\n",
    "              "
   ]
  },
  {
   "cell_type": "markdown",
   "id": "5acfb6b6",
   "metadata": {},
   "source": [
    "<font color = 'red'> Not many cars are sold with 0 miles on the odometer, so we need a way to change the value of this attribute </font>\n",
    "\n",
    "# <font color = 'green' > Modifying Attribute Values </font>\n",
    "\n",
    "We can change an attribute values in three ways:\n",
    "\n",
    "1. We can change the value directly through an instance.\n",
    "2. Set the value through a method\n",
    "3. Increment the value through a method.\n",
    "\n",
    "\n",
    "# <font color = 'blue' > Modifying an Attributes Value Directly </font>\n",
    "\n",
    "The simplest way to modify the value of an attribute is to access the attribute directly through an instance. "
   ]
  },
  {
   "cell_type": "code",
   "execution_count": 8,
   "id": "319e2092",
   "metadata": {},
   "outputs": [
    {
     "name": "stdout",
     "output_type": "stream",
     "text": [
      "2016 Audi a4\n",
      "This car has 35 miles on it.\n"
     ]
    }
   ],
   "source": [
    "class Car():\n",
    "    def __init__(self,make,model,year):\n",
    "        self.make = make\n",
    "        self.year = year\n",
    "        self.model = model\n",
    "        self.odometer_reading = 0\n",
    "        \n",
    "    def descriptive_name(self):\n",
    "        print(str(self.year) + ' ' + self.make.title() + ' ' + self.model)\n",
    "        \n",
    "    def read_odometer(self):\n",
    "        print(\"This car has\" + ' ' + str(self.odometer_reading) + \" miles on it.\")\n",
    "        \n",
    "my_car = Car('audi', 'a4', 2016)      \n",
    "my_car.descriptive_name()\n",
    "\n",
    "my_car.odometer_reading = 35\n",
    "my_car.read_odometer()"
   ]
  },
  {
   "cell_type": "markdown",
   "id": "54ff8e90",
   "metadata": {},
   "source": [
    "<font color = 'red'> Sometimes we will want to access the attributes directly but other times we might just want a method to update the values for us. </font>\n",
    "\n",
    "# <font color = 'blue'> Modifing an Attribute's value through a method </font>\n",
    "\n",
    "It can be helpful to have methods that update certain attributes for us. Instead of accessing the attribute directly we pass the new value to a method that handles the updating internally. "
   ]
  },
  {
   "cell_type": "code",
   "execution_count": 9,
   "id": "db37ff91",
   "metadata": {},
   "outputs": [
    {
     "name": "stdout",
     "output_type": "stream",
     "text": [
      "2016 Audi a4\n",
      "This car has 35 miles on it.\n"
     ]
    }
   ],
   "source": [
    "class Car():\n",
    "    def __init__(self,make,model,year):\n",
    "        self.make = make\n",
    "        self.year = year\n",
    "        self.model = model\n",
    "        self.odometer_reading = 0\n",
    "        \n",
    "    def descriptive_name(self):\n",
    "        print(str(self.year) + ' ' + self.make.title() + ' ' + self.model)\n",
    "        \n",
    "    def read_odometer(self):\n",
    "        print(\"This car has\" + ' ' + str(self.odometer_reading) + \" miles on it.\")\n",
    "        \n",
    "    def update_odometer(self,milage):\n",
    "        self.odometer_reading = milage\n",
    "        \n",
    "my_car = Car('audi', 'a4', 2016)      \n",
    "my_car.descriptive_name()\n",
    "\n",
    "my_car.update_odometer(35)\n",
    "my_car.read_odometer()"
   ]
  },
  {
   "cell_type": "code",
   "execution_count": 19,
   "id": "edd32906",
   "metadata": {},
   "outputs": [
    {
     "name": "stdout",
     "output_type": "stream",
     "text": [
      "2016 Audi a4\n",
      "This car has 35 miles on it.\n",
      "You cannot roll back odometer reading\n",
      "This car has 35 miles on it.\n"
     ]
    }
   ],
   "source": [
    "# modifying the code such that no one can roll back the odometer reading \n",
    "\n",
    "class Car():\n",
    "    def __init__(self,make,model,year):\n",
    "        self.make = make\n",
    "        self.year = year\n",
    "        self.model = model\n",
    "        self.odometer_reading = 0\n",
    "        \n",
    "    def descriptive_name(self):\n",
    "        print(str(self.year) + ' ' + self.make.title() + ' ' + self.model)\n",
    "        \n",
    "    def read_odometer(self):\n",
    "        print(\"This car has\" + ' ' + str(self.odometer_reading) + \" miles on it.\")\n",
    "        \n",
    "    def update_odometer(self,milage):\n",
    "        if milage >= self.odometer_reading:\n",
    "            self.odometer_reading = milage\n",
    "        else:\n",
    "            print(\"You cannot roll back odometer reading\")\n",
    "        \n",
    "my_car = Car('audi', 'a4', 2016)      \n",
    "my_car.descriptive_name()\n",
    "\n",
    "my_car.update_odometer(35)\n",
    "my_car.read_odometer()\n",
    "my_car.update_odometer(10)\n",
    "my_car.read_odometer()\n"
   ]
  },
  {
   "cell_type": "markdown",
   "id": "3b373d2e",
   "metadata": {},
   "source": [
    "# <font color = 'blue'> Incrementing an Attribute's value Through a Method </font>\n",
    "\n",
    "Sometimes we want to increment an attributes value by a certain amount rather than set an entirely new value. "
   ]
  },
  {
   "cell_type": "code",
   "execution_count": 24,
   "id": "b0a8d2aa",
   "metadata": {},
   "outputs": [
    {
     "name": "stdout",
     "output_type": "stream",
     "text": [
      "2016 Audi a4\n",
      "This car has 30 miles on it.\n",
      "This car has 130 miles on it.\n"
     ]
    }
   ],
   "source": [
    "class Car():\n",
    "    def __init__(self,make,model,year):\n",
    "        self.make = make\n",
    "        self.year = year\n",
    "        self.model = model\n",
    "        self.odometer_reading = 0\n",
    "        \n",
    "    def descriptive_name(self):\n",
    "        print(str(self.year) + ' ' + self.make.title() + ' ' + self.model)\n",
    "        \n",
    "    def read_odometer(self):\n",
    "        print(\"This car has\" + ' ' + str(self.odometer_reading) + \" miles on it.\")\n",
    "        \n",
    "    def update_odometer(self,milage):\n",
    "        if milage >= self.odometer_reading:\n",
    "            self.odometer_reading = milage\n",
    "        else:\n",
    "            print(\"You cannot roll back odometer reading\")\n",
    "            \n",
    "    def increment_odometer(self,miles):\n",
    "        self.odometer_reading += miles\n",
    "        \n",
    "my_car = Car('audi', 'a4', 2016)      \n",
    "my_car.descriptive_name()  \n",
    "\n",
    "my_car.update_odometer(30)\n",
    "my_car.read_odometer()\n",
    "\n",
    "my_car.increment_odometer(100)\n",
    "my_car.read_odometer()"
   ]
  },
  {
   "cell_type": "code",
   "execution_count": 36,
   "id": "717200c1",
   "metadata": {},
   "outputs": [
    {
     "name": "stdout",
     "output_type": "stream",
     "text": [
      "2016 Audi a4\n",
      "This car has 30 miles on it.\n",
      "You cannot roll back odometer reading\n"
     ]
    }
   ],
   "source": [
    "class Car():\n",
    "    def __init__(self,make,model,year):\n",
    "        self.make = make\n",
    "        self.year = year\n",
    "        self.model = model\n",
    "        self.odometer_reading = 0\n",
    "        \n",
    "    def descriptive_name(self):\n",
    "        print(str(self.year) + ' ' + self.make.title() + ' ' + self.model)\n",
    "        \n",
    "    def read_odometer(self):\n",
    "        print(\"This car has\" + ' ' + str(self.odometer_reading) + \" miles on it.\")\n",
    "        \n",
    "    def update_odometer(self,milage):\n",
    "        if milage >= self.odometer_reading:\n",
    "            self.odometer_reading = milage\n",
    "        else:\n",
    "            print(\"You cannot roll back odometer reading\")\n",
    "            \n",
    "    # If we want to reject negative increments so no one uses this function to roll back an odometer        \n",
    "    def increment_odometer(self,miles):\n",
    "        if miles > 0 :\n",
    "            self.odometer_reading += miles\n",
    "            print(\"The updated odometer reading is \" + str(self.odometer_reading) + ' ' + \"miles.\" )\n",
    "        else:\n",
    "            print(\"You cannot roll back odometer reading\")\n",
    "\n",
    "my_car = Car('audi', 'a4', 2016)      \n",
    "my_car.descriptive_name() \n",
    "\n",
    "my_car.update_odometer(30)\n",
    "my_car.read_odometer()\n",
    "\n",
    "my_car.increment_odometer(-100)"
   ]
  },
  {
   "cell_type": "code",
   "execution_count": null,
   "id": "07d1051e",
   "metadata": {},
   "outputs": [],
   "source": [
    "# try it yourself\n",
    "\n",
    "# 9-4\n",
    "\n",
    "\n",
    "\n",
    "# 9-5\n"
   ]
  },
  {
   "cell_type": "markdown",
   "id": "72c71553",
   "metadata": {},
   "source": [
    "# Inheritance\n",
    "\n"
   ]
  }
 ],
 "metadata": {
  "kernelspec": {
   "display_name": "Python 3 (ipykernel)",
   "language": "python",
   "name": "python3"
  },
  "language_info": {
   "codemirror_mode": {
    "name": "ipython",
    "version": 3
   },
   "file_extension": ".py",
   "mimetype": "text/x-python",
   "name": "python",
   "nbconvert_exporter": "python",
   "pygments_lexer": "ipython3",
   "version": "3.9.13"
  }
 },
 "nbformat": 4,
 "nbformat_minor": 5
}
