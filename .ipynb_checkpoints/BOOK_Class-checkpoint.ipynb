{
 "cells": [
  {
   "cell_type": "markdown",
   "id": "09ee5fab",
   "metadata": {},
   "source": [
    "In object oriented programming we write classes that represent real world things and situations, and you create objects based on these classes. When we write a class we define the general behaviour that a whole category of objects can have. \n",
    "\n",
    "When we create individual objects from the class, those objects are automatically equipped with the general behaviour; we can then give each object whatever unique traits we desire. \n",
    "\n",
    "Making an object from a class is called \" Instantiation \" , we work with instances of a class. \n",
    "Things we will learn initially are:\n",
    "\n",
    "1) Write classes.\n",
    "2) Create instances of those classes.\n",
    "3) Specify the kind of information that can be stored in those instances. \n",
    "4) Define actions that can be taken with these instances. \n",
    "5) Write functions that extend the functionality of the defined classes, so that similar classes can share code efficiently.\n",
    "6) We will store our classes in modules.\n",
    "7) Import classes written by other programmers into our own program files."
   ]
  },
  {
   "cell_type": "code",
   "execution_count": 1,
   "id": "eb2abc44",
   "metadata": {},
   "outputs": [],
   "source": [
    "# creating a Dog class\n",
    "\n",
    "# So pet dogs have a name and age, and , they sit and roll over (two behaviours)\n",
    "\n",
    "class Dog():\n",
    "    def __init__(self,name,age):\n",
    "        self.name = name\n",
    "        self.age = age\n",
    "        \n",
    "    def sit(self):\n",
    "        print(self.name.title() + \"is now sitting.\")\n",
    "    \n",
    "    def roll_over(self):\n",
    "        print(self.name.title() + \"rolled over!\")\n",
    "        \n",
    "       "
   ]
  },
  {
   "cell_type": "markdown",
   "id": "2c139a49",
   "metadata": {},
   "source": [
    "**__init__( ) method** \n",
    "\n",
    "A function that is part of a class is a **method**. Everything you learned about functions applies to methods as well; the only practical difference for now is the way we will call methods. \n",
    "\n",
    "It is a special method that python runs automatically as soon we create a new instance based on our defined class. This method has two leading and two trailing udnerscores, a convention that helps prevent Pythons default method names from conflicting with our method names. \n",
    "\n",
    "The **self** parameter is required in the method definition, and it must come first before other parameters. It must be included as when python calls the __init__() method later (to create an instance of Dog), the method will automatically pass the self argument. **Every method call associated with a class automatically passes self, which is a reference to the instance itself; it gives the individual instance acess to the attributes and methods in the class.**\n",
    "\n",
    "So as shown in the above Dog class example , any **variable** that is prefixed with **self** for example in our case **name** and **age** is availaible to every method in the class, and we will also be able to acess these variables through any instance from the class. These variables that are accesible through instances are called **attributes**. \n",
    "\n",
    "The dog class has two other methods **sit** and **roll over**. These methods dont need additional information we just give them one parameter that is **self**. The instances that we create later will have acess to these methods. \n"
   ]
  },
  {
   "cell_type": "markdown",
   "id": "ab4a2144",
   "metadata": {},
   "source": [
    "# <font color = 'green'> Making an instance from a class </font>\n",
    "\n",
    "We can think of a class as a set of instructions for how to make an instance. The class Dog is a set of instructions that tells python  how to make individual instances representing specific dogs. "
   ]
  },
  {
   "cell_type": "code",
   "execution_count": 11,
   "id": "515625f6",
   "metadata": {},
   "outputs": [
    {
     "name": "stdout",
     "output_type": "stream",
     "text": [
      " My dog's name is  Oreo.\n",
      " He is only 5 years old.\n"
     ]
    }
   ],
   "source": [
    "class Dog():\n",
    "    def __init__(self,name,age):\n",
    "        self.name = name\n",
    "        self.age = age\n",
    "        \n",
    "    def sit(self):\n",
    "        print(self.name.title() + ' ' + \"is sitting in his favourite chair.\")\n",
    "        \n",
    "    def roll_over(self):\n",
    "        print(\"My dog \" + self.name.title() + ' ' + \"is only \" + str(self.age)+ ' ' + \"years old and loves to roll over.\" )\n",
    "    \n",
    "my_dog = Dog('Oreo',5)\n",
    "print(\" My dog's name is \" + ' ' + my_dog.name.title() + '.')\n",
    "print(\" He is only\" + ' ' + str(my_dog.age) + ' ' + \"years old.\")\n",
    "        \n",
    "# So here we use the previously defined Dog class with the two attributes name and age. As soon as the python \n",
    "# sees \"Oreo\" and 5 it uses the __init__() method and creates an instance representing this particular dog and \n",
    "# sets the name and age attributes with the values we provided. The __init__() method has no explicit return \n",
    "# statement, but python automatically returns an instance representing this dog. We store that instance in the \n",
    "# variable my_dog.\n"
   ]
  },
  {
   "cell_type": "markdown",
   "id": "398ee298",
   "metadata": {},
   "source": [
    "# <font color = 'green'> Acessing attirbutes </font>\n",
    "\n",
    "To access the attributes of an instance, we use **dot notation**. \n",
    "\n",
    "As in the above example we saw that the attribute **name** associated with my_dog. This is the same attribute referred to as self.name in the class Dog. Similar approach has been used for the attribute **age**.  \n"
   ]
  },
  {
   "cell_type": "markdown",
   "id": "08c62f4b",
   "metadata": {},
   "source": [
    "# <font color = 'green'> Calling Methods </font>\n",
    "\n",
    "After we create an instance from the class, we can use dot notation to call any method defined in the class. \n",
    "\n"
   ]
  },
  {
   "cell_type": "code",
   "execution_count": 15,
   "id": "ba2e9511",
   "metadata": {},
   "outputs": [
    {
     "name": "stdout",
     "output_type": "stream",
     "text": [
      "Oreo is sitting in his favourite chair.\n",
      "My dog Oreo is only 5 years old and loves to roll over.\n"
     ]
    }
   ],
   "source": [
    "class Dog():\n",
    "    def __init__(self,name,age):\n",
    "        self.name = name\n",
    "        self.age = age\n",
    "        \n",
    "    def sit(self):\n",
    "        print(self.name.title() + ' ' + \"is sitting in his favourite chair.\")\n",
    "        \n",
    "    def roll_over(self):\n",
    "        print(\"My dog \" + self.name.title() + ' ' + \"is only \" + str(self.age) + ' ' + \"years old and loves to roll over.\" )\n",
    "    \n",
    "my_dog = Dog('Oreo',5)\n",
    "\n",
    "my_dog.sit()\n",
    "\n",
    "my_dog.roll_over()\n"
   ]
  },
  {
   "cell_type": "markdown",
   "id": "bc90bd9d",
   "metadata": {},
   "source": [
    "# <font color = 'green'> Creating Multiple Instances  </font>\n",
    "\n",
    "We can create multiple instances from a class as many as we need. So even if we used the same attributes for the second instance, Python would still create a second/separate instance from the same class. As long as we give unique variable name to every instance or it occupies a unique spot in a list or dictionary we can create as many instances from one class as we need. "
   ]
  },
  {
   "cell_type": "code",
   "execution_count": null,
   "id": "f928336f",
   "metadata": {},
   "outputs": [],
   "source": []
  },
  {
   "cell_type": "code",
   "execution_count": null,
   "id": "2bb79980",
   "metadata": {},
   "outputs": [],
   "source": []
  },
  {
   "cell_type": "code",
   "execution_count": null,
   "id": "1e83cbcb",
   "metadata": {},
   "outputs": [],
   "source": []
  },
  {
   "cell_type": "code",
   "execution_count": null,
   "id": "b158d8c5",
   "metadata": {},
   "outputs": [],
   "source": []
  }
 ],
 "metadata": {
  "kernelspec": {
   "display_name": "Python 3 (ipykernel)",
   "language": "python",
   "name": "python3"
  },
  "language_info": {
   "codemirror_mode": {
    "name": "ipython",
    "version": 3
   },
   "file_extension": ".py",
   "mimetype": "text/x-python",
   "name": "python",
   "nbconvert_exporter": "python",
   "pygments_lexer": "ipython3",
   "version": "3.9.13"
  }
 },
 "nbformat": 4,
 "nbformat_minor": 5
}
