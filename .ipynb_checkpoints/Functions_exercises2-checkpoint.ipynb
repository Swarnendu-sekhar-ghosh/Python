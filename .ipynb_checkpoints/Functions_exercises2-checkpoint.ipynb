{
 "cells": [
  {
   "cell_type": "markdown",
   "id": "d6708be0",
   "metadata": {},
   "source": [
    "# Define a function called myfunc that takes in an arbitrary number of arguments, and returns the sum of those arguments."
   ]
  },
  {
   "cell_type": "code",
   "execution_count": 9,
   "id": "736d3bb4",
   "metadata": {},
   "outputs": [
    {
     "data": {
      "text/plain": [
       "10"
      ]
     },
     "execution_count": 9,
     "metadata": {},
     "output_type": "execute_result"
    }
   ],
   "source": [
    "def sum_arg(*args):\n",
    "    for items in args:\n",
    "        return sum(args)\n",
    "              \n",
    "\n",
    "sum_arg(2,2,6)    "
   ]
  },
  {
   "cell_type": "markdown",
   "id": "efd2602a",
   "metadata": {},
   "source": [
    "# Define a function called myfunc that takes in an arbitrary number of arguments, and returns a list containing only those arguments that are even."
   ]
  },
  {
   "cell_type": "code",
   "execution_count": 18,
   "id": "c7833fd5",
   "metadata": {},
   "outputs": [
    {
     "data": {
      "text/plain": [
       "[12, 14, 16, 30, 40, 42, 26]"
      ]
     },
     "execution_count": 18,
     "metadata": {},
     "output_type": "execute_result"
    }
   ],
   "source": [
    "def even_arg(*args):\n",
    "    even_list=[]\n",
    "    for item in args: \n",
    "        if item%2==0:\n",
    "            even_list.append(item)\n",
    "    return even_list\n",
    "        \n",
    "    \n",
    "even_arg(12,14,16,17,21,23,30,35,40,45,42,26,51,73)            \n",
    "        "
   ]
  },
  {
   "cell_type": "markdown",
   "id": "04927450",
   "metadata": {},
   "source": [
    "# Define a function called myfunc that takes in a string, and returns a matching string where every even letter is uppercase, and every odd letter is lowercase. Assume that the incoming string only contains letters, and don't worry about numbers, spaces or punctuation. The output string can start with either an uppercase or lowercase letter, so long as letters alternate throughout the string."
   ]
  },
  {
   "cell_type": "code",
   "execution_count": 48,
   "id": "c76da0d4",
   "metadata": {},
   "outputs": [
    {
     "data": {
      "text/plain": [
       "'advait'"
      ]
     },
     "execution_count": 48,
     "metadata": {},
     "output_type": "execute_result"
    }
   ],
   "source": [
    "def string_func(a):\n",
    "    i=0\n",
    "    letter = a[i]\n",
    "    for letter in a:   \n",
    "        if i%2==0:\n",
    "            a[i].replace(letter,letter.upper())\n",
    "    return a\n",
    "\n",
    "string_func('advait')"
   ]
  },
  {
   "cell_type": "code",
   "execution_count": 37,
   "id": "763410c5",
   "metadata": {},
   "outputs": [],
   "source": [
    "a=\"virgo\"\n",
    "letter = a[1]\n"
   ]
  }
 ],
 "metadata": {
  "kernelspec": {
   "display_name": "Python 3 (ipykernel)",
   "language": "python",
   "name": "python3"
  },
  "language_info": {
   "codemirror_mode": {
    "name": "ipython",
    "version": 3
   },
   "file_extension": ".py",
   "mimetype": "text/x-python",
   "name": "python",
   "nbconvert_exporter": "python",
   "pygments_lexer": "ipython3",
   "version": "3.9.12"
  }
 },
 "nbformat": 4,
 "nbformat_minor": 5
}
