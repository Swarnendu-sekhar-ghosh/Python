{
 "cells": [
  {
   "cell_type": "markdown",
   "id": "534880e0",
   "metadata": {},
   "source": [
    "# Define a function called myfunc that takes in an arbitrary number of arguments, and returns the sum of those arguments."
   ]
  },
  {
   "cell_type": "code",
   "execution_count": 9,
   "id": "15809679",
   "metadata": {},
   "outputs": [
    {
     "data": {
      "text/plain": [
       "10"
      ]
     },
     "execution_count": 9,
     "metadata": {},
     "output_type": "execute_result"
    }
   ],
   "source": [
    "def sum_arg(*args):\n",
    "    for items in args:\n",
    "        return sum(args)\n",
    "              \n",
    "\n",
    "sum_arg(2,2,6)    "
   ]
  },
  {
   "cell_type": "markdown",
   "id": "e5213459",
   "metadata": {},
   "source": [
    "# Define a function called myfunc that takes in an arbitrary number of arguments, and returns a list containing only those arguments that are even."
   ]
  },
  {
   "cell_type": "code",
   "execution_count": 18,
   "id": "3de0ee2a",
   "metadata": {},
   "outputs": [
    {
     "data": {
      "text/plain": [
       "[12, 14, 16, 30, 40, 42, 26]"
      ]
     },
     "execution_count": 18,
     "metadata": {},
     "output_type": "execute_result"
    }
   ],
   "source": [
    "def even_arg(*args):\n",
    "    even_list=[]\n",
    "    for item in args: \n",
    "        if item%2==0:\n",
    "            even_list.append(item)\n",
    "    return even_list\n",
    "        \n",
    "    \n",
    "even_arg(12,14,16,17,21,23,30,35,40,45,42,26,51,73)            \n",
    "        "
   ]
  },
  {
   "cell_type": "markdown",
   "id": "6b89de1c",
   "metadata": {},
   "source": [
    "# Define a function called myfunc that takes in a string, and returns a matching string where every even letter is uppercase, and every odd letter is lowercase. Assume that the incoming string only contains letters, and don't worry about numbers, spaces or punctuation. The output string can start with either an uppercase or lowercase letter, so long as letters alternate throughout the string."
   ]
  },
  {
   "cell_type": "code",
   "execution_count": 49,
   "id": "12495de1",
   "metadata": {},
   "outputs": [
    {
     "data": {
      "text/plain": [
       "'aDvAiT'"
      ]
     },
     "execution_count": 49,
     "metadata": {},
     "output_type": "execute_result"
    }
   ],
   "source": [
    "def string_func(a):\n",
    "    new_string=[]\n",
    "    for i in range(len(a)):   \n",
    "        if i%2==0:\n",
    "            new_string.append(a[i].lower())\n",
    "        else:\n",
    "            new_string.append(a[i].upper())\n",
    "    return \"\".join(new_string)\n",
    "\n",
    "string_func('advait')"
   ]
  },
  {
   "cell_type": "code",
   "execution_count": 37,
   "id": "e44ce7a4",
   "metadata": {},
   "outputs": [],
   "source": []
  }
 ],
 "metadata": {
  "kernelspec": {
   "display_name": "Python 3 (ipykernel)",
   "language": "python",
   "name": "python3"
  },
  "language_info": {
   "codemirror_mode": {
    "name": "ipython",
    "version": 3
   },
   "file_extension": ".py",
   "mimetype": "text/x-python",
   "name": "python",
   "nbconvert_exporter": "python",
   "pygments_lexer": "ipython3",
   "version": "3.9.12"
  }
 },
 "nbformat": 4,
 "nbformat_minor": 5
}
