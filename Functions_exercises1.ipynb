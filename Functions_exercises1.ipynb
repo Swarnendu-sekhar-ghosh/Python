{
 "cells": [
  {
   "cell_type": "markdown",
   "id": "409deee0",
   "metadata": {},
   "source": [
    "# Write a function to print Hello world"
   ]
  },
  {
   "cell_type": "code",
   "execution_count": 9,
   "id": "b2baa5cb",
   "metadata": {},
   "outputs": [
    {
     "name": "stdout",
     "output_type": "stream",
     "text": [
      "Hello world\n"
     ]
    }
   ],
   "source": [
    "def world():\n",
    "    print(\"Hello world\")\n",
    "    \n",
    "world()   "
   ]
  },
  {
   "cell_type": "markdown",
   "id": "e0ddc224",
   "metadata": {},
   "source": [
    "# Define a function called myfunc that takes in a name, and prints 'Hello Name' "
   ]
  },
  {
   "cell_type": "code",
   "execution_count": 10,
   "id": "bbc86cc3",
   "metadata": {},
   "outputs": [
    {
     "name": "stdout",
     "output_type": "stream",
     "text": [
      "Hello Swarnendu\n"
     ]
    }
   ],
   "source": [
    "def myfunc1(name):\n",
    "    print('Hello {}'.format(name))\n",
    "\n",
    "myfunc1('Swarnendu')    "
   ]
  },
  {
   "cell_type": "markdown",
   "id": "bf6e5d76",
   "metadata": {},
   "source": [
    "# Define a function called myfunc that takes in a Boolean value (True or False). If True, return 'Hello', and if False, return 'Goodbye'"
   ]
  },
  {
   "cell_type": "code",
   "execution_count": 12,
   "id": "492e944b",
   "metadata": {},
   "outputs": [
    {
     "data": {
      "text/plain": [
       "'Goodbye'"
      ]
     },
     "execution_count": 12,
     "metadata": {},
     "output_type": "execute_result"
    }
   ],
   "source": [
    "def myfunc2(decision):\n",
    "    if decision == True:\n",
    "        return 'Hello'\n",
    "    else:\n",
    "        return 'Goodbye'\n",
    "    \n",
    "myfunc2(False)    "
   ]
  },
  {
   "cell_type": "markdown",
   "id": "9c01cdc6",
   "metadata": {},
   "source": [
    "# Define a function called myfunc that takes three arguments, x, y and z. If z is True, return x.  If z is False, return y."
   ]
  },
  {
   "cell_type": "code",
   "execution_count": 15,
   "id": "11b0cc78",
   "metadata": {},
   "outputs": [
    {
     "data": {
      "text/plain": [
       "'Rahul'"
      ]
     },
     "execution_count": 15,
     "metadata": {},
     "output_type": "execute_result"
    }
   ],
   "source": [
    "def myfunc3(x,y,z):\n",
    "    if z == True:\n",
    "        return x\n",
    "    elif z == False:\n",
    "        return y\n",
    "\n",
    "myfunc3('Rahul','Orange',True)    "
   ]
  },
  {
   "cell_type": "markdown",
   "id": "6c61758c",
   "metadata": {},
   "source": [
    "# Define a function called myfunc that takes in two arguments and returns their sum."
   ]
  },
  {
   "cell_type": "code",
   "execution_count": 16,
   "id": "8e104bfb",
   "metadata": {},
   "outputs": [
    {
     "data": {
      "text/plain": [
       "13"
      ]
     },
     "execution_count": 16,
     "metadata": {},
     "output_type": "execute_result"
    }
   ],
   "source": [
    "def myfunc4(a,b):\n",
    "    return a+b\n",
    "\n",
    "myfunc4(6,7)"
   ]
  },
  {
   "cell_type": "markdown",
   "id": "dbac18cc",
   "metadata": {},
   "source": [
    "# Define a function called is_even that takes in one argument, and returns True if the passed-in value is even, False if it is not."
   ]
  },
  {
   "cell_type": "code",
   "execution_count": 18,
   "id": "a886efef",
   "metadata": {},
   "outputs": [
    {
     "data": {
      "text/plain": [
       "'False'"
      ]
     },
     "execution_count": 18,
     "metadata": {},
     "output_type": "execute_result"
    }
   ],
   "source": [
    "def is_even(x):\n",
    "    if x%2==0:\n",
    "        return 'True'\n",
    "    else:\n",
    "        return 'False'\n",
    "\n",
    "is_even(13)"
   ]
  },
  {
   "cell_type": "markdown",
   "id": "5beb67e2",
   "metadata": {},
   "source": [
    "# Define a function called is_greater that takes in two arguments, and returns True if the first value is greater than the second, False if it is less than or equal to the second."
   ]
  },
  {
   "cell_type": "code",
   "execution_count": 20,
   "id": "0fa9f967",
   "metadata": {},
   "outputs": [
    {
     "data": {
      "text/plain": [
       "'False'"
      ]
     },
     "execution_count": 20,
     "metadata": {},
     "output_type": "execute_result"
    }
   ],
   "source": [
    "def is_greater(a,b):\n",
    "    if a>b:\n",
    "        return 'True'\n",
    "    else:\n",
    "        return 'False'\n",
    "\n",
    "is_greater(4,9)    "
   ]
  }
 ],
 "metadata": {
  "kernelspec": {
   "display_name": "Python 3 (ipykernel)",
   "language": "python",
   "name": "python3"
  },
  "language_info": {
   "codemirror_mode": {
    "name": "ipython",
    "version": 3
   },
   "file_extension": ".py",
   "mimetype": "text/x-python",
   "name": "python",
   "nbconvert_exporter": "python",
   "pygments_lexer": "ipython3",
   "version": "3.9.13"
  }
 },
 "nbformat": 4,
 "nbformat_minor": 5
}
