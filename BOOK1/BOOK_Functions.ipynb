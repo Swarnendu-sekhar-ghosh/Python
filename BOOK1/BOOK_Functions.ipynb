{
 "cells": [
  {
   "cell_type": "markdown",
   "id": "87529399",
   "metadata": {},
   "source": [
    "# Functions in python"
   ]
  },
  {
   "cell_type": "markdown",
   "id": "8f950af5",
   "metadata": {},
   "source": [
    "When you want to perform a particular task that you have defined in a function, you call the name of the function responsible for it.So if you need to perform the task multiple times you dont write the entire code over and over again but rather call the function and python runs the code inside the function.\n",
    "\n",
    "The keyword 'def' defines the function name and the name of the function should be written in snake casing that is small letters for other code readers to understand.\n",
    "The indented lines that follow the def function_name(): are called the docstring that tells what the function does. The docstring are in triple quotes and it is the one which python looks for when it generates documentation for the functions in your programs.  "
   ]
  },
  {
   "cell_type": "code",
   "execution_count": 8,
   "id": "59fdc10e",
   "metadata": {},
   "outputs": [
    {
     "name": "stdout",
     "output_type": "stream",
     "text": [
      "Hello user welcome to coding !!\n",
      "Hello Sangam welcome to coding my friend !!\n"
     ]
    }
   ],
   "source": [
    "# So in two ways we can define our first function one which only prints the statement we want \n",
    "# to print with no user input or can be a one which takes user input just as a name for example. \n",
    "# So what we do in the later case is we \" pass information \" to a function. We slightly modify the first function \n",
    "# and give leverage to the function to know the users name.\n",
    "\n",
    "def greet_user():\n",
    "    \" function will greet user once called\"\n",
    "    print(\"Hello user welcome to coding !!\")\n",
    "\n",
    "greet_user()\n",
    "\n",
    "def greet_user(name):\n",
    "    \"function will take an user input and call the user by his/her name\"\n",
    "    print(\"Hello \" + name  + \" welcome to coding my friend !!\")\n",
    "\n",
    "greet_user(\"Sangam\")    "
   ]
  },
  {
   "cell_type": "code",
   "execution_count": 10,
   "id": "7ebb81e1",
   "metadata": {},
   "outputs": [
    {
     "name": "stdout",
     "output_type": "stream",
     "text": [
      "In this chapter I am learning about functions \n",
      "One of my favourite book is Alice in wonderland\n"
     ]
    }
   ],
   "source": [
    "# The variable \"name\" inside the parentheses of the function is often called as the \n",
    "# parameter/argument, a piece of inforamation that the function needs to work upon.\n",
    "# An argument is a piece of information that is passed from a function call to a function. \n",
    "# When we call the function, we place the value we want the functionto work with in the parentheses.\n",
    "\n",
    "# TRY IT YOURSELF\n",
    "\n",
    "def display_message():\n",
    "    \"function prints one sentence telling everyone what I am learning about in this chapter \"\n",
    "    print(\"In this chapter I am learning about functions \" )\n",
    "    \n",
    "display_message()    \n",
    "\n",
    "def favourite_book(title):\n",
    "    print(\"One of my favourite book is \" + title )\n",
    "    \n",
    "favourite_book(\"Alice in wonderland\")\n"
   ]
  },
  {
   "cell_type": "markdown",
   "id": "690c607c",
   "metadata": {},
   "source": [
    "# Positional arguments\n",
    "\n",
    "When we call a function, python must match each argument in the function call with a parameter in the function definition. The simplest way to do this is based on the order of the arguments provided. Values matched up this way are called positional arguments.\n",
    "\n",
    "We can use as many positional arguments as we want in the functions. So python works through each of the arguments that we provide and matches each one with the corresponding paramter in the functions definitions."
   ]
  },
  {
   "cell_type": "code",
   "execution_count": 8,
   "id": "a50b3fb5",
   "metadata": {},
   "outputs": [
    {
     "name": "stdout",
     "output_type": "stream",
     "text": [
      "I have a dog\n",
      "The name of my dog is Oreo.\n"
     ]
    }
   ],
   "source": [
    "def describe_pet(animal_type,name):\n",
    "    print(\"I have a \" + animal_type)\n",
    "    print(\"The name of my \" + animal_type + \" is \" + name + \".\")\n",
    "    \n",
    "describe_pet(\"dog\",\"Oreo\")    "
   ]
  },
  {
   "cell_type": "markdown",
   "id": "e2608347",
   "metadata": {},
   "source": [
    "# Keyword arguments\n",
    "\n",
    "One common issue with positional arguments is if we mixup the positions then the final output returned by the function defined might be confusing. Keyword arguments help us by making us free from having to worry about correctly ordering in the function call, and they calrify the role of each value in the function call."
   ]
  },
  {
   "cell_type": "code",
   "execution_count": 12,
   "id": "81227a76",
   "metadata": {},
   "outputs": [
    {
     "name": "stdout",
     "output_type": "stream",
     "text": [
      "I have a  dog\n",
      "The name of my  dog is Oreo.\n"
     ]
    }
   ],
   "source": [
    "describe_pet(animal_type = \" dog \" , name = \"Oreo\")\n"
   ]
  },
  {
   "cell_type": "markdown",
   "id": "e9994cfd",
   "metadata": {},
   "source": [
    "# Default values\n",
    "\n",
    "While writing a function, we can define a default value for each parameter. If an argument for a parameter is provided in the function call, python will use the argument values. If not the parameter's default value is used. So when we use a default value for a parameter we can exclude the corresponding argument that we would usually write in the function call. Using default values can simplify the function calls and clarify the ways in which we trasnform our functions that are typically used.\n",
    "\n",
    "\n",
    "**When we use default values the paramter with the default values needs to be listed after all the parameters that don't have default values. This allows python to correctly interpret positional arguments correctly**\n"
   ]
  },
  {
   "cell_type": "code",
   "execution_count": 2,
   "id": "fdd1cc91",
   "metadata": {},
   "outputs": [
    {
     "ename": "SyntaxError",
     "evalue": "non-default argument follows default argument (1269449306.py, line 1)",
     "output_type": "error",
     "traceback": [
      "\u001b[0;36m  File \u001b[0;32m\"/var/folders/6f/8tf58yws5t9d4my84cmz8hmh0000gp/T/ipykernel_959/1269449306.py\"\u001b[0;36m, line \u001b[0;32m1\u001b[0m\n\u001b[0;31m    def describe_pet(animal_type=\"dog\",name):\u001b[0m\n\u001b[0m                                           ^\u001b[0m\n\u001b[0;31mSyntaxError\u001b[0m\u001b[0;31m:\u001b[0m non-default argument follows default argument\n"
     ]
    }
   ],
   "source": [
    "def describe_pet(animal_type=\"dog\",name):\n",
    "    print(\"I have a \" + animal_type)\n",
    "    print(\"The name of my \" + animal_type + \" is \" + name + \".\")\n",
    "    \n",
    "describe_pet(\"Oreo\")    \n",
    "\n",
    "# \"this will give in rise to an error saying - \"SyntaxError: non-default argument follows default argument\" \"\n"
   ]
  },
  {
   "cell_type": "code",
   "execution_count": 15,
   "id": "f456fc8a",
   "metadata": {},
   "outputs": [
    {
     "name": "stdout",
     "output_type": "stream",
     "text": [
      "I have a dog\n",
      "The name of my dog is Oreo.\n"
     ]
    }
   ],
   "source": [
    "# So in case of default values the order of the parameters in the function definition needs to be changed. \n",
    "# Becasue default value makes it unnecessary to specify a type of animal in the argument, \n",
    "# the only argument left in the function call is the pet's name. \n",
    "# Python still interprets this as positional argument. So, if the function is called with just a pet's name ,\n",
    "# that argument will match up with the paramter listed \n",
    "# in the function's definition. This is the reason the first parameter needs to be the pets_name.\n",
    "\n",
    "\n",
    "\n",
    "def describe_pet(name, animal_type=\"dog\"):\n",
    "    print(\"I have a \" + animal_type)\n",
    "    print(\"The name of my \" + animal_type + \" is \" + name + \".\")\n",
    "    \n",
    "describe_pet(\"Oreo\") "
   ]
  },
  {
   "cell_type": "code",
   "execution_count": 26,
   "id": "0b73af7b",
   "metadata": {},
   "outputs": [
    {
     "name": "stdout",
     "output_type": "stream",
     "text": [
      "The shirt to be delivered is of size XL with MESSI printed on back of it.\n",
      "The shirt to be delivered is of size L with I love python printed on back of it.\n",
      "The shirt to be delivered is of size L with I love python printed on back of it.\n",
      "The shirt to be delivered is of size M with I love python printed on back of it.\n"
     ]
    }
   ],
   "source": [
    "# TRY IT YOURSELF\n",
    "\n",
    "def make_shirt(size,text):\n",
    "    print(\"The shirt to be delivered is of size \" + size + \" with \" + text +\" printed on back of it.\")\n",
    "\n",
    "make_shirt(\"XL\",\"MESSI\")\n",
    "\n",
    "def make_shirt(text,size=\"L\"):\n",
    "        print(\"The shirt to be delivered is of size \" + size + \" with \" + text +\" printed on back of it.\")\n",
    "\n",
    "make_shirt(\"I love python\")\n",
    "    \n",
    "def make_shirt(size,text=\"I love python\"):\n",
    "        print(\"The shirt to be delivered is of size \" + size + \" with \" + text +\" printed on back of it.\")\n",
    "\n",
    "make_shirt(\"L\")\n",
    "make_shirt(\"M\")\n",
    "\n"
   ]
  },
  {
   "cell_type": "code",
   "execution_count": 28,
   "id": "35dfde57",
   "metadata": {},
   "outputs": [
    {
     "name": "stdout",
     "output_type": "stream",
     "text": [
      "Jaipur is in India\n",
      "Athens is in India\n"
     ]
    }
   ],
   "source": [
    "def describe_city(city,country = \"India\"):\n",
    "    print(city + \" is in \" + country)\n",
    "    \n",
    "describe_city(\"Jaipur\")    \n",
    "\n",
    "describe_city(\"Athens\")"
   ]
  },
  {
   "cell_type": "markdown",
   "id": "ae99f59b",
   "metadata": {},
   "source": [
    "# return values\n",
    "\n",
    "A function doesnt always have to display output directly. **Rather it can process some data and then return a value for a set of values**. The value the function returns is called a return value. The return statement takes a value from inside a function and sends it back to the line that called the function. Return function helps us in making the body of the program much simpler.\n"
   ]
  },
  {
   "cell_type": "code",
   "execution_count": 32,
   "id": "7077b7ed",
   "metadata": {},
   "outputs": [
    {
     "data": {
      "text/plain": [
       "88"
      ]
     },
     "execution_count": 32,
     "metadata": {},
     "output_type": "execute_result"
    }
   ],
   "source": [
    "def even_check(number):\n",
    "    if number %2 ==0:\n",
    "        return number\n",
    "    else:\n",
    "        pass\n",
    "    \n",
    "    return print(\"not an even number\")\n",
    "     \n",
    "    \n",
    "even_check(88)    "
   ]
  },
  {
   "cell_type": "markdown",
   "id": "9ff25e85",
   "metadata": {},
   "source": [
    "# Optional argument\n",
    "\n",
    "Helps us put an optional argument within the defined function so that it helps people using the function can choose to provide extra information only if they want to. We can use **Default values** to make an argument optional."
   ]
  },
  {
   "cell_type": "code",
   "execution_count": 7,
   "id": "cfdc0ad1",
   "metadata": {},
   "outputs": [
    {
     "name": "stdout",
     "output_type": "stream",
     "text": [
      "The name of the candidate is Swarnendu Ghosh.\n",
      "The name of the candidate is Swarnendu Sekhar Ghosh.\n",
      "The name of the candidate is Swarnendu Ghosh.\n"
     ]
    }
   ],
   "source": [
    "def formatted_name(first_name, last_name):\n",
    "    person = \"The name of the candidate is\" + \" \" + first_name.title() + \" \" + last_name.title() + '.'\n",
    "    return person\n",
    "     \n",
    "candidate = formatted_name(\"Swarnendu\",\"Ghosh\")  \n",
    "print(candidate)\n",
    "\n",
    "\n",
    "# Now using the middle name as optional argument for the candidate\n",
    "\n",
    "def formatted_name_modified(first_name, last_name, middle_name = ''):\n",
    "    if middle_name:\n",
    "        person1 = \"The name of the candidate is\" + \" \" + first_name.title() + \" \" + middle_name.title() + \" \" + last_name.title() + '.'\n",
    "    else:\n",
    "        person1 = \"The name of the candidate is\" + \" \" + first_name.title() + \" \" + last_name.title() + '.'\n",
    "\n",
    "    return person1    \n",
    "    \n",
    "candidate1 = formatted_name_modified(\"Swarnendu\", \"Ghosh\", \"Sekhar\")\n",
    "print(candidate1)\n",
    "\n",
    "\n",
    "candidate2 = formatted_name_modified(\"Swarnendu\", \"Ghosh\")\n",
    "print(candidate2)\n",
    "\n"
   ]
  },
  {
   "cell_type": "markdown",
   "id": "d911211e",
   "metadata": {},
   "source": [
    "# returning a Dictionary\n",
    "\n",
    "A function can return any kind of value you need it to , including more complicated data structures like lists and dictionaries. \n",
    "\n"
   ]
  },
  {
   "cell_type": "code",
   "execution_count": 63,
   "id": "fdb0557e",
   "metadata": {},
   "outputs": [
    {
     "name": "stdout",
     "output_type": "stream",
     "text": [
      "{'first': 'Lata', 'last': 'mangeshkar'}\n",
      "{'first': 'hemanta', 'last': 'kumar', 'age': 54}\n",
      "{'first': 'hemanta', 'last': 'kumar', 'age': 54, 'genre': 'classical'}\n",
      "{'first': 'hemanta', 'last': 'kumar', 'genre': 'classical'}\n"
     ]
    }
   ],
   "source": [
    "def build_name (first_name, last_name):\n",
    "    \"Return dictionary of information about a person\"\n",
    "    person = {'first' : first_name, 'last' : last_name}   # So in this stage the func takes in two values \n",
    "                                                          # and packs them into these values into a dictionary\n",
    "    return person\n",
    "\n",
    "musician = build_name(\"Lata\", \"mangeshkar\")\n",
    "print(musician)\n",
    "\n",
    "# So this function takes in simple textural information and puts it into a more meaningful data structure\n",
    "# In this case a Dictionary, that lets you work with the information beyond just printing it.\n",
    "\n",
    "# Another interesting thing is that we can add extra information and extend this function. For this we can use \n",
    "# optional arguments as an option. So the extra information we introduce gets added as an element of the dictionary.\n",
    "\n",
    "def build_name(first_name, last_name, age='',genre=''):\n",
    "    \n",
    "    person = {'first' : first_name, 'last' : last_name}\n",
    "    \n",
    "    if age:\n",
    "        person['age'] = age\n",
    "      \n",
    "    if genre:\n",
    "        person['genre'] = genre\n",
    "        \n",
    "    return person    \n",
    "\n",
    "\n",
    "first = build_name('hemanta','kumar',54)\n",
    "\n",
    "print(first)\n",
    "\n",
    "second = build_name('hemanta','kumar',54,'classical')\n",
    "print(second)\n",
    "\n",
    "# now what to do if we have multiple otpional arguments the problem arises that genre is \n",
    "# going to age component of the dictionary if you observe carefully\n",
    "\n",
    "third = build_name ('hemanta','kumar','','classical')   \n",
    "print(third)\n",
    "\n"
   ]
  },
  {
   "cell_type": "code",
   "execution_count": 17,
   "id": "d905e0ef",
   "metadata": {},
   "outputs": [
    {
     "name": "stdout",
     "output_type": "stream",
     "text": [
      "('Santiago', 'Chile')\n",
      "{'Singer': 'KK', 'Album Name': 'dus bahane'}\n",
      "{'Singer': 'Arijit Singh', 'Album Name': 'Aashiqui2'}\n",
      "{'Singer': 'Shaan', 'Album Name': 'Saathiya '}\n",
      "{'Singer': 'Shaan', 'Album Name': 'Burj khalifa', 'tracks': 45}\n"
     ]
    }
   ],
   "source": [
    "# Exercise\n",
    "\n",
    "def city_country(city_name,country_name):\n",
    "    return(city_name,country_name)\n",
    "\n",
    "print(city_country(\"Santiago\",\"Chile\"))\n",
    "\n",
    "def make_album(artist_name,album_name):\n",
    "    details = {'Singer':artist_name,'Album Name':album_name}\n",
    "    return details\n",
    "\n",
    "album1 = make_album('KK','dus bahane')\n",
    "print(album1)\n",
    "\n",
    "album2 = make_album('Arijit Singh','Aashiqui2')\n",
    "print(album2)\n",
    "\n",
    "album3 = make_album('Shaan', 'Saathiya ')\n",
    "print(album3)\n",
    "\n",
    "def make_album_mod(artist_name,album_name, tracks ='' ):\n",
    "    details = {'Singer':artist_name,'Album Name':album_name }\n",
    "    if tracks: \n",
    "        details['tracks'] = tracks\n",
    "    \n",
    "    return details\n",
    "\n",
    "album4 = make_album_mod('Shaan', \"Burj khalifa\",45)   \n",
    "print(album4)"
   ]
  },
  {
   "cell_type": "markdown",
   "id": "78a3d0d8",
   "metadata": {},
   "source": [
    "# Using a function with a while loop\n",
    "\n",
    "We can use python functions with all the python structures.\n",
    "\n",
    "<font color='red'>ALERT SECTION</font> \n"
   ]
  },
  {
   "cell_type": "code",
   "execution_count": null,
   "id": "05f64014",
   "metadata": {},
   "outputs": [],
   "source": [
    "# using while to create an infinite loop for taking user inputs until loop broken\n",
    "\n",
    "def make_album(artist_name,album_name):\n",
    "    details = {'Singer':artist_name,'Album Name':album_name}\n",
    "    return details\n",
    "\n",
    "while True:\n",
    "    print(\"\\n Please enter your artist and album details \")\n",
    "    print(\"(enter q at any time to quit )\")\n",
    "    \n",
    "    artist_name = input(\"Singer:\")\n",
    "    if artist_name =='q':\n",
    "        break\n",
    "    album_name = input(\"Album name :\")\n",
    "    if album_name == 'q':\n",
    "        break\n",
    "        \n",
    "    formatted_name = make_album(artist_name,album_name)\n",
    "    print(\" We are proud to announce this new album \" + album_name +' ' + \"by\" + ' ' + artist_name  )\n",
    "    \n",
    "    "
   ]
  },
  {
   "cell_type": "markdown",
   "id": "a79d6754",
   "metadata": {},
   "source": [
    "# Passing a list\n",
    "\n",
    "We can pass a list to a function, whether it is a list of names, numbers,or more complex objects such as dictionaries. When we pass a list to a function, the function gets a direct acess to the contents of the list. "
   ]
  },
  {
   "cell_type": "code",
   "execution_count": 19,
   "id": "31c4232d",
   "metadata": {},
   "outputs": [
    {
     "name": "stdout",
     "output_type": "stream",
     "text": [
      "Welcome Starc to the party!!!\n",
      "Welcome Virat to the party!!!\n",
      "Welcome Dinesh to the party!!!\n"
     ]
    }
   ],
   "source": [
    "def greet_users(names):\n",
    "    \"print greeting to each name in the list\"\n",
    "    for name in names:\n",
    "        msg = \"Welcome\" + ' ' + name.title() + ' ' + \"to the party!!!\" \n",
    "        print(msg)\n",
    "\n",
    "guests = ['Starc', 'Virat', 'Dinesh']\n",
    "\n",
    "greet_users(guests)\n",
    "    "
   ]
  },
  {
   "cell_type": "markdown",
   "id": "a729b13c",
   "metadata": {},
   "source": [
    "# Modifying a list in a function\n",
    "\n",
    "When we pass a list in a function, the function can modify the list. Any changes made to the list within the function's body can be permanent and can help us handling large datasets.\n",
    "\n"
   ]
  },
  {
   "cell_type": "code",
   "execution_count": 13,
   "id": "4433ec63",
   "metadata": {},
   "outputs": [
    {
     "name": "stdout",
     "output_type": "stream",
     "text": [
      "Printing model : dodecahedron\n",
      "Printing model : robot\n",
      "Printing model : iphone_case\n",
      "\n",
      "The following designs have been printed : \n",
      "dodecahedron\n",
      "robot\n",
      "iphone_case\n"
     ]
    }
   ],
   "source": [
    "# In this we donot use a function\n",
    "\n",
    "customer_desings = ['iphone_case', 'robot', 'dodecahedron']\n",
    "printed_models = []\n",
    "\n",
    "# simulate printing each design until none are left\n",
    "while customer_desings:\n",
    "    ongoing_model = customer_desings.pop()\n",
    "    print(\"Printing model :\" + ' '+ ongoing_model)\n",
    "    printed_models.append(ongoing_model)\n",
    "\n",
    "# displaying all completed models\n",
    "\n",
    "print(\"\\nThe following designs have been printed : \")\n",
    "for printed_model in printed_models:\n",
    "    print(printed_model)\n",
    "    "
   ]
  },
  {
   "cell_type": "code",
   "execution_count": 3,
   "id": "2e3f9e90",
   "metadata": {},
   "outputs": [
    {
     "name": "stdout",
     "output_type": "stream",
     "text": [
      "Printing model : jumanji\n",
      "Printing model : naruto\n",
      "Printing model : doremon\n",
      "jumanji\n",
      "naruto\n",
      "doremon\n"
     ]
    }
   ],
   "source": [
    "# Now we can code the same thing by using two functions both of \n",
    "# which does one specific job. making the code more efficient\n",
    "# The descriptive function names allow others to read this code and understand it even without comments.\n",
    "# This technique is more efficient than having to update code separately in several places even without comments.\n",
    "\n",
    "def print_models(customer_desings, printed_models):\n",
    "    while customer_desings:\n",
    "        ongoing_model = customer_desings.pop()\n",
    "        print(\"Printing model :\" + ' '+ ongoing_model)\n",
    "        printed_models.append(ongoing_model)\n",
    "    \n",
    "def show_printed_models(printed_models):\n",
    "    for printed_model in printed_models:\n",
    "        print(printed_model)\n",
    "\n",
    "customer_desings = ['doremon', 'naruto', 'jumanji']\n",
    "printed_models = []\n",
    "    \n",
    "print_models(customer_desings,printed_models)\n",
    "show_printed_models(printed_models)\n",
    "    \n",
    "    \n",
    "# An important note from the author : If we are writing a function and notice the function is doing\n",
    "# too many different tasks, try to split the code into two functions. Remember that you can always \n",
    "# call a function from another function, which can be helpful when splitting a complex task into a series of steps.\n"
   ]
  },
  {
   "cell_type": "markdown",
   "id": "47fdc25e",
   "metadata": {},
   "source": [
    "# <font color ='red'> Preventing a function from modifying a list </font>\n",
    "\n",
    "So it might happen that even though we have passed our original list into a new list we want to keep an original copy of the initial list. So to do that we can use a slice notation which makes the copy of a list. \n",
    "\n",
    "<font color='red'>*********************ALERT SECTION****************</font> \n"
   ]
  },
  {
   "cell_type": "code",
   "execution_count": 5,
   "id": "336d155a",
   "metadata": {},
   "outputs": [
    {
     "ename": "SyntaxError",
     "evalue": "invalid syntax (2161247663.py, line 1)",
     "output_type": "error",
     "traceback": [
      "\u001b[0;36m  File \u001b[0;32m\"/var/folders/6f/8tf58yws5t9d4my84cmz8hmh0000gp/T/ipykernel_1345/2161247663.py\"\u001b[0;36m, line \u001b[0;32m1\u001b[0m\n\u001b[0;31m    def print_models(customer_designs[:],printed_models):\u001b[0m\n\u001b[0m                                     ^\u001b[0m\n\u001b[0;31mSyntaxError\u001b[0m\u001b[0;31m:\u001b[0m invalid syntax\n"
     ]
    }
   ],
   "source": [
    "def print_models(customer_designs[:],printed_models):\n",
    "    while customer_designs:\n",
    "        ongoing_models = customer_designs.pop()\n",
    "        print(\"Printing model : \" + ' ' + ongoing_models)\n",
    "        printed_models.append(ongoing_models)\n",
    "        \n",
    "def show_printed_models(printed_models):\n",
    "    for printed_model in printed_models:\n",
    "        print(printed_model)\n",
    "        \n",
    "customer_desings = ['Optimus Prime', 'Bumbelbee', 'Ironhide']\n",
    "printed_models = []\n",
    "\n",
    "print_models(customer_desings,printed_models)\n",
    "show_printed_models(printed_models)"
   ]
  },
  {
   "cell_type": "code",
   "execution_count": 2,
   "id": "9220bcff",
   "metadata": {},
   "outputs": [
    {
     "name": "stdout",
     "output_type": "stream",
     "text": [
      "Sid\n",
      "Akura\n",
      "Samira\n",
      " The Great Sid\n",
      " The Great Akura\n",
      " The Great Samira\n"
     ]
    }
   ],
   "source": [
    "# try it yourself\n",
    "\n",
    "magicians = ['Sid', 'Akura', 'Samira']\n",
    "\n",
    "# 8-9\n",
    "\n",
    "def show_magicians(names):\n",
    "    for name in names:\n",
    "        print(name)\n",
    "        \n",
    "\n",
    "show_magicians(magicians)\n",
    "\n",
    "# 8-10\n",
    "\n",
    "def make_great(names):\n",
    "    for i in range(len(names)):\n",
    "        names[i] = \" The Great\" + ' ' + names[i]\n",
    "        \n",
    "         \n",
    "make_great(magicians)\n",
    "show_magicians(magicians)\n",
    "\n"
   ]
  },
  {
   "cell_type": "markdown",
   "id": "bc5a33cd",
   "metadata": {},
   "source": [
    "# <font color = 'red'> Passing an arbitrary number of Arguments </font>\n",
    "\n",
    "Sometimes we dont know ahead of time how many arguments a function needs to accept. Luckily, python allows a function to collect an arbitrary number of arguments from the calling statement.\n",
    "\n",
    "What is done is the function creates an emoty tupple and packs whatever values it recieves into this tuple."
   ]
  },
  {
   "cell_type": "code",
   "execution_count": 10,
   "id": "4e9b5d17",
   "metadata": {},
   "outputs": [
    {
     "name": "stdout",
     "output_type": "stream",
     "text": [
      "('peperoni', 'green peppers', 'extra cheese')\n",
      "\n",
      " Make a pizza with the following toppings\n",
      "- peperoni\n",
      "- green peppers\n",
      "- extra cheese\n"
     ]
    }
   ],
   "source": [
    "def make_pizza(*toppings):      #The * in the variable name tells pythin to make an empty tuple\n",
    "    print(toppings)\n",
    "    \n",
    "make_pizza('peperoni','green peppers', 'extra cheese') \n",
    "\n",
    "def make_pizza1(*toppings):\n",
    "    print(\"\\n Make a pizza with the following toppings\")\n",
    "    for topping in toppings:\n",
    "        print(\"-\" + ' ' +topping)\n",
    "        \n",
    "make_pizza1('peperoni','green peppers', 'extra cheese') \n"
   ]
  },
  {
   "cell_type": "markdown",
   "id": "03fe60b1",
   "metadata": {},
   "source": [
    "# <font color ='red'> Mixing positional and arbitrary arguments </font>\n",
    "\n",
    "If we want a function to accept several different kinds of arguments, the parameter that accepts an arbitrary number of arguments must be placed last in the function definition. Python matches positional and keyword arguments first and then collects any remaining arguments in the final parameter. "
   ]
  },
  {
   "cell_type": "code",
   "execution_count": 12,
   "id": "0c3f40b4",
   "metadata": {},
   "outputs": [
    {
     "name": "stdout",
     "output_type": "stream",
     "text": [
      "\n",
      "We are making a 8-inch pizza with the following toppings\n",
      "- peperoni\n",
      "- green peppers\n",
      "- extra cheese\n"
     ]
    }
   ],
   "source": [
    "def make_pizza(size, *toppings):\n",
    "    print(\"\\nWe are making a\" + ' ' + str(size) + '-inch pizza with the following toppings')\n",
    "    for topping in toppings:\n",
    "        print(\"-\" + ' ' + topping)\n",
    "\n",
    "make_pizza(8,'peperoni','green peppers', 'extra cheese')        "
   ]
  },
  {
   "cell_type": "markdown",
   "id": "3767f681",
   "metadata": {},
   "source": [
    "# <font color='red'>Using arbitrary keyword arguments </font>\n",
    "\n",
    "Sometimes we want to accept an arbitrary number of arguments,but we wont know ahead of time what kind of information will be passed to the function. In this case, we can write functions that accept as many key-value pairs as the calling statement provides. "
   ]
  },
  {
   "cell_type": "code",
   "execution_count": 2,
   "id": "3473dbcf",
   "metadata": {},
   "outputs": [
    {
     "name": "stdout",
     "output_type": "stream",
     "text": [
      "{'first_name': 'Swarnendu', 'last_name': 'Ghosh', 'location': 'Mumbai', 'field': 'geoinformatics', 'Language': 'Bengali'}\n"
     ]
    }
   ],
   "source": [
    "# an example of building an user profile, we know we will get \n",
    "# information about a user but we are not sure what kind of information we will receive.\n",
    "\n",
    "def build_profile(first,last,**basic_info): # the double asterisks before the parameter cause python to create \n",
    "    # an empty dictionary and pack whatever name-value pairs it receievs into this dictionary.\n",
    "    \n",
    "    ##### building a dictionary containing everything we know about a user ####\n",
    "    profile={}\n",
    "    profile['first_name'] = first\n",
    "    profile['last_name'] = last\n",
    "    for key,value in basic_info.items():   # we loop through key-value pairs in the dictionary user_info \n",
    "        profile[key] = value               # add each pair to the profile dictionary\n",
    "    return profile                         # finally the dictionary profile is returned in the function call line\n",
    "\n",
    "user_profile = build_profile('Swarnendu', 'Ghosh', location = 'Mumbai', field = 'geoinformatics',Language = 'Bengali')\n",
    "\n",
    "print(user_profile)"
   ]
  },
  {
   "cell_type": "markdown",
   "id": "a7885c26",
   "metadata": {},
   "source": [
    "<font color='red'> We can mix positional, keyword and arbitrary values in many different ways when writing our own functions. Its useful to now that all these arguments types exist becuase we will see them often when we start reading other peoples codes. </font> \n"
   ]
  },
  {
   "cell_type": "code",
   "execution_count": 23,
   "id": "9dc4244c",
   "metadata": {},
   "outputs": [
    {
     "name": "stdout",
     "output_type": "stream",
     "text": [
      "\n",
      "The customer wants these items to be put on his/her sandwich :\n",
      "- cucumber\n",
      "- cheese\n",
      "- carrot\n",
      "\n",
      "The customer wants these items to be put on his/her sandwich :\n",
      "- cucumber\n",
      "- cheese\n",
      "- carrot\n",
      "- spinach\n",
      "\n",
      "The customer wants these items to be put on his/her sandwich :\n",
      "- cucumber\n",
      "- cheese\n",
      "- carrot\n",
      "- spinach\n",
      "- cabbage\n",
      "- ham\n",
      "- butter\n",
      "{'first name': 'Swarnendu', 'last name': 'Ghosh', 'location': 'Mumbai', 'profession': 'Student', 'interest': 'Artificial Intelligence in Earth Observation'}\n",
      "{'Manufacturer': 'subaru', 'Model name': 'outback', 'color': 'blue', 'town_package': True}\n"
     ]
    }
   ],
   "source": [
    "# try it yourself\n",
    "\n",
    "#8-12 Sandwiches\n",
    "\n",
    "def make_sandwich(*items):\n",
    "    print(\"\\nThe customer wants these items to be put on his/her sandwich :\")\n",
    "    for item in items:\n",
    "        print(\"-\" + ' ' + item)\n",
    "        \n",
    "make_sandwich('cucumber', 'cheese', 'carrot')\n",
    "make_sandwich('cucumber', 'cheese', 'carrot', 'spinach')\n",
    "make_sandwich('cucumber', 'cheese', 'carrot', 'spinach', 'cabbage','ham','butter')\n",
    "\n",
    "\n",
    "#8-13 User profile\n",
    "\n",
    "def build_profile(first, last, **details):\n",
    "    profile ={}\n",
    "    profile[\"first name\"]  = first\n",
    "    profile[\"last name\"]   = last\n",
    "    for key,value in details.items():\n",
    "        profile[key] = value\n",
    "    return profile\n",
    "\n",
    "user_profile = build_profile('Swarnendu','Ghosh' ,location = 'Mumbai', profession = 'Student', interest = 'Artificial Intelligence in Earth Observation')\n",
    "\n",
    "print(user_profile)\n",
    "    \n",
    "\n",
    "#8-14 Cars\n",
    "\n",
    "def make_car(manufacturer, model_name,**details):\n",
    "    model={}\n",
    "    model['Manufacturer'] = manufacturer\n",
    "    model['Model name'] = model_name\n",
    "    for key,value in details.items():\n",
    "        model[key] = value\n",
    "    return model\n",
    "\n",
    "car = make_car('subaru', 'outback', color = 'blue', town_package = True)\n",
    "print(car)\n",
    "    \n"
   ]
  },
  {
   "cell_type": "markdown",
   "id": "07a23ae3",
   "metadata": {},
   "source": [
    "# Storing your functions in modules\n",
    "\n",
    "Advantage of using functions is that they separate blocks of code from the main program. By using descriptive names for the functions the main program becomes much easier to follow. We can store the functions in a separate file called \"module\" and then importing that module into your main program.\n",
    "\n",
    "An \"import\" statement tells python to make the code in a module availaible in the currently running program file.\n",
    "\n",
    "- Storing the functions in a separate file allows us to hide the details of our code and focus on its higher-level logic.\n",
    "\n",
    "- It helps us to reuse functions in different programs.\n",
    "\n",
    "- So when we store our functions in separate files, it is easy to share those files with others rather than sharing our entire program.\n",
    "\n",
    "- By knowing how to import functions also allows us to use libraries of functions that other programmers have wriiten. "
   ]
  },
  {
   "cell_type": "markdown",
   "id": "fb52a6c5",
   "metadata": {},
   "source": [
    "# <font color='red'> Importing entire module </font>\n",
    "\n",
    "To call a function from an imported module, we have to enter the name of the module that we have imported followed by the name of the function separated by a dot. This makes every function within that module availaibe within that particular program."
   ]
  },
  {
   "cell_type": "code",
   "execution_count": 27,
   "id": "f10d3894",
   "metadata": {},
   "outputs": [
    {
     "name": "stdout",
     "output_type": "stream",
     "text": [
      "\n",
      " Making a 15-inch customers pizza with the following toppings:\n",
      "- jalapeno\n",
      "- peperoni\n",
      "- chicken kebab\n",
      "- cheese-burst\n"
     ]
    }
   ],
   "source": [
    "def make_pizza(size,*toppings):\n",
    "    print(\"\\n Making a\" + ' ' + str(size) +\"-inch customers pizza with the following toppings:\")\n",
    "    for topping in toppings:\n",
    "        print(\"-\" + ' ' + topping)\n",
    "\n",
    "make_pizza(15, \"jalapeno\", \"peperoni\", \"chicken kebab\", \"cheese-burst\")\n",
    "    "
   ]
  },
  {
   "cell_type": "markdown",
   "id": "74a98f08",
   "metadata": {},
   "source": [
    "# <font color = 'red'> Importing specific functions </font>\n",
    "\n",
    "We can also import functions from within the module directly and use them. We can import as many number of functions from within modules as we want. So we already import the functions we can use them directly and hence wen dont need the dot notation."
   ]
  },
  {
   "cell_type": "markdown",
   "id": "fcd42663",
   "metadata": {},
   "source": [
    "# <font color = 'red'> Using as to give a function an alias </font>\n",
    "If the name of the function that we are trying to import conflicts with an existing name in our program or if the function name is too long we can use a short unique alias just like a nickname using \"as\". \n",
    "for example :\n"
   ]
  },
  {
   "cell_type": "markdown",
   "id": "880c14fa",
   "metadata": {},
   "source": [
    "# <font color = 'red'> Using as to Give a module an Alias </font>\n",
    "\n",
    "We can alos provide an alias for a. module name. This makes the coding not only concise but also redirects our attention from the module name and allows us to focus on the descriptive names of its functions. \n"
   ]
  },
  {
   "cell_type": "markdown",
   "id": "a084bef9",
   "metadata": {},
   "source": [
    "# <font color = 'red'> Importing all functions in a module </font>\n",
    "\n",
    "We can tell python to import every function within a module by using the asterisk (*) operator\n",
    "\n",
    "from module_name import *\n",
    "\n",
    "The asterisk in the import statement tells python to copy every function from the module into the present program file. Because we have already copyied every function we can just call them using the dot notation. \n",
    "\n",
    "But it is always better to import the function or functions you want or impor the entire module and use the dot notation. Because for larger modules that we have not written by ourselves if the module has a function name that matches an exisiting name it might lead to unexpected results. \n",
    "Python may see several functions with similar names and can replace/overwrite the exisiting functions. "
   ]
  }
 ],
 "metadata": {
  "kernelspec": {
   "display_name": "Python 3 (ipykernel)",
   "language": "python",
   "name": "python3"
  },
  "language_info": {
   "codemirror_mode": {
    "name": "ipython",
    "version": 3
   },
   "file_extension": ".py",
   "mimetype": "text/x-python",
   "name": "python",
   "nbconvert_exporter": "python",
   "pygments_lexer": "ipython3",
   "version": "3.9.13"
  }
 },
 "nbformat": 4,
 "nbformat_minor": 5
}
