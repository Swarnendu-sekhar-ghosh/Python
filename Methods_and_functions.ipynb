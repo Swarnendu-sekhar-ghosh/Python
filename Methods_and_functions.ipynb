{
 "cells": [
  {
   "cell_type": "code",
   "execution_count": 11,
   "id": "0b8bc873",
   "metadata": {},
   "outputs": [],
   "source": [
    "# snake casing is used while naming functions which means name of the functions are written in all small letters.\n",
    "\n",
    "def myname(name):\n",
    "    \"Name of the guy is\"\n",
    "    print (\"Name of the guy is \"+ name )"
   ]
  },
  {
   "cell_type": "code",
   "execution_count": 12,
   "id": "349c4082",
   "metadata": {},
   "outputs": [
    {
     "name": "stdout",
     "output_type": "stream",
     "text": [
      "Name of the guy is Swarnendu\n"
     ]
    }
   ],
   "source": [
    "myname(\"Swarnendu\")"
   ]
  },
  {
   "cell_type": "code",
   "execution_count": 13,
   "id": "917769f9",
   "metadata": {},
   "outputs": [],
   "source": [
    "def return_func(num1,num2):\n",
    "    return(num1 + num2)\n",
    "\n",
    "def print_func(num1,num2):\n",
    "    print(num1+num2)"
   ]
  },
  {
   "cell_type": "code",
   "execution_count": 15,
   "id": "06984acb",
   "metadata": {},
   "outputs": [
    {
     "data": {
      "text/plain": [
       "3"
      ]
     },
     "execution_count": 15,
     "metadata": {},
     "output_type": "execute_result"
    }
   ],
   "source": [
    "return_value = return_func(1,2)\n",
    "return_value"
   ]
  },
  {
   "cell_type": "code",
   "execution_count": 16,
   "id": "93d26d69",
   "metadata": {},
   "outputs": [
    {
     "name": "stdout",
     "output_type": "stream",
     "text": [
      "11\n"
     ]
    }
   ],
   "source": [
    "print_func(5,6)"
   ]
  },
  {
   "cell_type": "code",
   "execution_count": 12,
   "id": "70a8742b",
   "metadata": {},
   "outputs": [],
   "source": [
    "#function will check whether number is odd or not\n",
    "\n",
    "def odd_check(number):\n",
    "    result=number%2==0\n",
    "    return(result)"
   ]
  },
  {
   "cell_type": "code",
   "execution_count": 14,
   "id": "46aac982",
   "metadata": {},
   "outputs": [
    {
     "data": {
      "text/plain": [
       "True"
      ]
     },
     "execution_count": 14,
     "metadata": {},
     "output_type": "execute_result"
    }
   ],
   "source": [
    "odd_check(22)"
   ]
  },
  {
   "cell_type": "code",
   "execution_count": 8,
   "id": "e5906c77",
   "metadata": {},
   "outputs": [],
   "source": [
    "#function will return True if any number is even in the list\n",
    "\n",
    "def even_check(list):\n",
    "    for num in list:\n",
    "        if num%2==0:\n",
    "            return True\n",
    "        else:\n",
    "            pass\n",
    "        "
   ]
  },
  {
   "cell_type": "code",
   "execution_count": 9,
   "id": "ec212cc1",
   "metadata": {},
   "outputs": [
    {
     "data": {
      "text/plain": [
       "True"
      ]
     },
     "execution_count": 9,
     "metadata": {},
     "output_type": "execute_result"
    }
   ],
   "source": [
    "even_check([1,2,4,6,10])"
   ]
  },
  {
   "cell_type": "code",
   "execution_count": 33,
   "id": "1e34ba2e",
   "metadata": {},
   "outputs": [],
   "source": [
    "even_check([1,3,5,7])"
   ]
  },
  {
   "cell_type": "markdown",
   "id": "17d10f55",
   "metadata": {},
   "source": [
    "# LOGIC WITH PYTHON FUNCTIONS"
   ]
  },
  {
   "cell_type": "code",
   "execution_count": 17,
   "id": "891c974a",
   "metadata": {},
   "outputs": [],
   "source": [
    "# now if we want to check for odd or even in a list\n",
    "\n",
    "def even_odd_check(list):\n",
    "    for num in list:\n",
    "        if num%2==0:\n",
    "            return True\n",
    "        else:\n",
    "            pass\n",
    "    return False    "
   ]
  },
  {
   "cell_type": "code",
   "execution_count": 20,
   "id": "1889176f",
   "metadata": {},
   "outputs": [
    {
     "data": {
      "text/plain": [
       "True"
      ]
     },
     "execution_count": 20,
     "metadata": {},
     "output_type": "execute_result"
    }
   ],
   "source": [
    "even_odd_check([1,5,9,6,11])"
   ]
  },
  {
   "cell_type": "code",
   "execution_count": 30,
   "id": "24b72ca6",
   "metadata": {},
   "outputs": [],
   "source": [
    "# function adding the found even numbers in the given list to a new list\n",
    "\n",
    "\n",
    "\n",
    "def find_even(list):\n",
    "    even_list=[]                   # a placeholder variable here a list\n",
    "    for num in list:\n",
    "        if num%2==0:\n",
    "            even_list.append(num)\n",
    "        else:\n",
    "            pass\n",
    "    return even_list        \n",
    "        "
   ]
  },
  {
   "cell_type": "code",
   "execution_count": 32,
   "id": "e1730320",
   "metadata": {},
   "outputs": [
    {
     "data": {
      "text/plain": [
       "[2, 4, 6, 8, 20, 58]"
      ]
     },
     "execution_count": 32,
     "metadata": {},
     "output_type": "execute_result"
    }
   ],
   "source": [
    "find_even([2,4,6,8,1,7,11,20,45,47,58])"
   ]
  },
  {
   "cell_type": "markdown",
   "id": "44a09ad6",
   "metadata": {},
   "source": [
    "# TUPLE UNPACKING WITH PYTHON FUNCTIONS"
   ]
  },
  {
   "cell_type": "code",
   "execution_count": 1,
   "id": "8ba522ec",
   "metadata": {},
   "outputs": [],
   "source": [
    "list1=[(\"SSG\",6),(\"XYZ\",8),(\"FGH\",10),(\"GGH\",20)]"
   ]
  },
  {
   "cell_type": "code",
   "execution_count": 2,
   "id": "aa07c312",
   "metadata": {},
   "outputs": [
    {
     "name": "stdout",
     "output_type": "stream",
     "text": [
      "SSG\n",
      "XYZ\n",
      "FGH\n",
      "GGH\n"
     ]
    }
   ],
   "source": [
    "for name,hours in list1:\n",
    "    print(name)"
   ]
  },
  {
   "cell_type": "code",
   "execution_count": 3,
   "id": "d13b9b15",
   "metadata": {},
   "outputs": [
    {
     "name": "stdout",
     "output_type": "stream",
     "text": [
      "('SSG', 6)\n",
      "('XYZ', 8)\n",
      "('FGH', 10)\n",
      "('GGH', 20)\n"
     ]
    }
   ],
   "source": [
    "for item in list1:\n",
    "    print (item)"
   ]
  },
  {
   "cell_type": "code",
   "execution_count": 4,
   "id": "14a6ed71",
   "metadata": {},
   "outputs": [],
   "source": [
    "# using a function to unpack tuples in a list and finding the person who sleeps least hours\n",
    "\n",
    "def notlazy(list):\n",
    "    # a placeholder variable\n",
    "    sleephours=15\n",
    "    notlazyguy=''\n",
    "    for person,hours in list:\n",
    "        if hours<sleephours:\n",
    "            sleephours=hours\n",
    "            notlazyguy=person    \n",
    "            \n",
    "        else:\n",
    "            pass\n",
    "        \n",
    "    return(notlazyguy,sleephours)    "
   ]
  },
  {
   "cell_type": "code",
   "execution_count": 5,
   "id": "f0fac05a",
   "metadata": {},
   "outputs": [],
   "source": [
    "list2=[(\"SSG\",6),(\"XYZ\",7),(\"FGH\",8),(\"GGH\",10)]\n",
    "\n"
   ]
  },
  {
   "cell_type": "code",
   "execution_count": 7,
   "id": "6be09f56",
   "metadata": {},
   "outputs": [
    {
     "data": {
      "text/plain": [
       "('SSG', 6)"
      ]
     },
     "execution_count": 7,
     "metadata": {},
     "output_type": "execute_result"
    }
   ],
   "source": [
    "result = notlazy(list2)\n",
    "result"
   ]
  },
  {
   "cell_type": "code",
   "execution_count": 8,
   "id": "1671e36a",
   "metadata": {},
   "outputs": [],
   "source": [
    "name,hours = notlazy(list2)"
   ]
  },
  {
   "cell_type": "code",
   "execution_count": 9,
   "id": "08097825",
   "metadata": {},
   "outputs": [
    {
     "data": {
      "text/plain": [
       "'SSG'"
      ]
     },
     "execution_count": 9,
     "metadata": {},
     "output_type": "execute_result"
    }
   ],
   "source": [
    "name"
   ]
  },
  {
   "cell_type": "markdown",
   "id": "8610bafd",
   "metadata": {},
   "source": [
    "# Interactions between python functions"
   ]
  },
  {
   "cell_type": "code",
   "execution_count": 2,
   "id": "8d9dc843",
   "metadata": {},
   "outputs": [
    {
     "data": {
      "text/plain": [
       "[7, 3, 1, 6, 2, 8, 4, 5]"
      ]
     },
     "execution_count": 2,
     "metadata": {},
     "output_type": "execute_result"
    }
   ],
   "source": [
    "example =[1,2,3,4,5,6,7,8]\n",
    "from random import shuffle\n",
    "shuffle(example)\n",
    "example"
   ]
  },
  {
   "cell_type": "code",
   "execution_count": 3,
   "id": "803b3697",
   "metadata": {},
   "outputs": [
    {
     "data": {
      "text/plain": [
       "[8, 2, 5, 1, 3, 6, 7, 4]"
      ]
     },
     "execution_count": 3,
     "metadata": {},
     "output_type": "execute_result"
    }
   ],
   "source": [
    "def shuffle_list(mylist):\n",
    "    shuffle(mylist)\n",
    "    return mylist\n",
    "\n",
    "result = shuffle_list(example)\n",
    "result\n",
    "    "
   ]
  },
  {
   "cell_type": "code",
   "execution_count": 7,
   "id": "d010dfc3",
   "metadata": {},
   "outputs": [],
   "source": [
    "game_list=['','0','']\n",
    "shuffle_list(game_list)\n",
    "\n",
    "def player_guess():\n",
    "    guess =''        # a placeholder variable\n",
    "    while guess not in ['0','1','2']:\n",
    "        guess = input (\"Pick a number : 0,1 or 2\")\n",
    "        \n",
    "    return int(guess)"
   ]
  },
  {
   "cell_type": "code",
   "execution_count": 8,
   "id": "0ce97adb",
   "metadata": {},
   "outputs": [
    {
     "name": "stdout",
     "output_type": "stream",
     "text": [
      "Pick a number : 0,1 or 21\n"
     ]
    }
   ],
   "source": [
    "guess_index = player_guess()"
   ]
  },
  {
   "cell_type": "code",
   "execution_count": 9,
   "id": "42b75089",
   "metadata": {},
   "outputs": [
    {
     "data": {
      "text/plain": [
       "1"
      ]
     },
     "execution_count": 9,
     "metadata": {},
     "output_type": "execute_result"
    }
   ],
   "source": [
    "guess_index"
   ]
  },
  {
   "cell_type": "code",
   "execution_count": 10,
   "id": "e7850754",
   "metadata": {},
   "outputs": [],
   "source": [
    "def check_guess(game_list,guess):\n",
    "    if game_list[guess] == '0':\n",
    "        print(\"Hurray you did it !!!!\")\n",
    "    else:\n",
    "        print(\"Sorry Dear\")\n",
    "        print(game_list)"
   ]
  },
  {
   "cell_type": "code",
   "execution_count": 14,
   "id": "ea6a7cb0",
   "metadata": {},
   "outputs": [
    {
     "name": "stdout",
     "output_type": "stream",
     "text": [
      "Pick a number : 0,1 or 21\n",
      "Hurray you did it !!!!\n"
     ]
    }
   ],
   "source": [
    "# INITIAL LIST\n",
    "new_list=['0','','']\n",
    "#SHUFFLE LIST\n",
    "mixed_list = shuffle_list(new_list)\n",
    "#USER GUESS\n",
    "guess=player_guess()\n",
    "#CHECK GUESS\n",
    "check_guess(mixed_list,guess)\n",
    "\n"
   ]
  },
  {
   "cell_type": "markdown",
   "id": "a691855c",
   "metadata": {},
   "source": [
    "# Arguments_and_keyword_arguments\n"
   ]
  },
  {
   "cell_type": "code",
   "execution_count": 6,
   "id": "3ea03ab2",
   "metadata": {},
   "outputs": [
    {
     "name": "stdout",
     "output_type": "stream",
     "text": [
      "12\n",
      "14\n",
      "16\n",
      "18\n",
      "20\n"
     ]
    }
   ],
   "source": [
    "def even_check(*args):\n",
    "    for item in args:\n",
    "        print(item)\n",
    "\n",
    "even_check(12,14,16,18,20)        \n",
    "        "
   ]
  },
  {
   "cell_type": "code",
   "execution_count": 7,
   "id": "63ef0613",
   "metadata": {},
   "outputs": [
    {
     "name": "stdout",
     "output_type": "stream",
     "text": [
      "{'fruit': 'apple', 'veggie': 'potato'}\n",
      "My fruit of choice is apple\n"
     ]
    }
   ],
   "source": [
    "def search_item(**kwargs):\n",
    "    print(kwargs)\n",
    "    if 'fruit' in kwargs:\n",
    "        print('My fruit of choice is {}'.format(kwargs['fruit']))\n",
    "    else:\n",
    "        print('i didnot find any fruit here')\n",
    "\n",
    "search_item(fruit = \"apple\",veggie ='potato')        "
   ]
  },
  {
   "cell_type": "code",
   "execution_count": 8,
   "id": "1ac5a184",
   "metadata": {},
   "outputs": [
    {
     "name": "stdout",
     "output_type": "stream",
     "text": [
      "{'toy': 'car', 'veggie': 'potato'}\n",
      "i didnot find any fruit here\n"
     ]
    }
   ],
   "source": [
    "search_item(toy = \"car\",veggie ='potato')        "
   ]
  },
  {
   "cell_type": "code",
   "execution_count": 15,
   "id": "65184067",
   "metadata": {},
   "outputs": [
    {
     "name": "stdout",
     "output_type": "stream",
     "text": [
      "I would like 10potato\n"
     ]
    }
   ],
   "source": [
    "def number_items(*args,**kwargs):\n",
    "    if 'vegetable' in kwargs:\n",
    "        print('I would like {}{}'.format(args[0],kwargs['vegetable']))\n",
    "    else:\n",
    "        print('I couldnot find any vegetable')\n",
    "    \n",
    "number_items(10,20,30,Fruit=\"mango\",vegetable=\"potato\")    \n",
    "    "
   ]
  },
  {
   "cell_type": "code",
   "execution_count": 16,
   "id": "e0a7b331",
   "metadata": {},
   "outputs": [
    {
     "name": "stdout",
     "output_type": "stream",
     "text": [
      "I couldnot find any vegetable\n"
     ]
    }
   ],
   "source": [
    "number_items(10,20,30,Fruit=\"mango\",plastic=\"hanger\")    \n"
   ]
  }
 ],
 "metadata": {
  "kernelspec": {
   "display_name": "Python 3 (ipykernel)",
   "language": "python",
   "name": "python3"
  },
  "language_info": {
   "codemirror_mode": {
    "name": "ipython",
    "version": 3
   },
   "file_extension": ".py",
   "mimetype": "text/x-python",
   "name": "python",
   "nbconvert_exporter": "python",
   "pygments_lexer": "ipython3",
   "version": "3.9.13"
  }
 },
 "nbformat": 4,
 "nbformat_minor": 5
}
