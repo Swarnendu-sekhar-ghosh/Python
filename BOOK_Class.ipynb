{
 "cells": [
  {
   "cell_type": "markdown",
   "id": "538361ae",
   "metadata": {},
   "source": [
    "In object oriented programming we write classes that represent real world things and situations, and you create objects based on these classes. When we write a class we define the general behaviour that a whole category of objects can have. \n",
    "\n",
    "When we create individual objects from the class, those objects are automatically equipped with the general behaviour; we can then give each object whatever unique traits we desire. \n",
    "\n",
    "Making an object from a class is called \" Instantiation \" , we work with instances of a class. \n",
    "Things we will learn initially are:\n",
    "\n",
    "1) Write classes.\n",
    "2) Create instances of those classes.\n",
    "3) Specify the kind of information that can be stored in those instances. \n",
    "4) Define actions that can be taken with these instances. \n",
    "5) Write functions that extend the functionality of the defined classes, so that similar classes can share code efficiently.\n",
    "6) We will store our classes in modules.\n",
    "7) Import classes written by other programmers into our own program files."
   ]
  },
  {
   "cell_type": "code",
   "execution_count": 1,
   "id": "e5972bf1",
   "metadata": {},
   "outputs": [],
   "source": [
    "# creating a Dog class\n",
    "\n",
    "# So pet dogs have a name and age, and , they sit and roll over (two behaviours)\n",
    "\n",
    "class Dog():\n",
    "    def __init__(self,name,age):\n",
    "        self.name = name\n",
    "        self.age = age\n",
    "        \n",
    "    def sit(self):\n",
    "        print(self.name.title() + \"is now sitting.\")\n",
    "    \n",
    "    def roll_over(self):\n",
    "        print(self.name.title() + \"rolled over!\")\n",
    "        \n",
    "       "
   ]
  },
  {
   "cell_type": "markdown",
   "id": "e37d729c",
   "metadata": {},
   "source": [
    "**__init__( ) method** \n",
    "\n",
    "A function that is part of a class is a **method**. Everything you learned about functions applies to methods as well; the only practical difference for now is the way we will call methods. \n",
    "\n",
    "It is a special method that python runs automatically as soon we create a new instance based on our defined class. This method has two leading and two trailing udnerscores, a convention that helps prevent Pythons default method names from conflicting with our method names. \n",
    "\n",
    "The **self** parameter is required in the method definition, and it must come first before other parameters. It must be included as when python calls the __init__() method later (to create an instance of Dog), the method will automatically pass the self argument. **Every method call associated with a class automatically passes self, which is a reference to the instance itself; it gives the individual instance acess to the attributes and methods in the class.**\n",
    "\n",
    "So as shown in the above Dog class example , any variable that is prefixed with **self** for example in our case name and age is availaible to every method in the class, and we will also be able to acess these variables through any instance from the class. These variables that are accesible through instances are called **attributes**. \n",
    "\n",
    "The dog class has two other methods sit and roll over. These methods dont need additional information we just give them one parameter that is **self**. \n",
    "\n",
    "\n"
   ]
  }
 ],
 "metadata": {
  "kernelspec": {
   "display_name": "Python 3 (ipykernel)",
   "language": "python",
   "name": "python3"
  },
  "language_info": {
   "codemirror_mode": {
    "name": "ipython",
    "version": 3
   },
   "file_extension": ".py",
   "mimetype": "text/x-python",
   "name": "python",
   "nbconvert_exporter": "python",
   "pygments_lexer": "ipython3",
   "version": "3.9.13"
  }
 },
 "nbformat": 4,
 "nbformat_minor": 5
}
