{
 "cells": [
  {
   "cell_type": "markdown",
   "id": "87529399",
   "metadata": {},
   "source": [
    "# Functions in python"
   ]
  },
  {
   "cell_type": "markdown",
   "id": "8f950af5",
   "metadata": {},
   "source": [
    "When you want to perform a particular task that you have defined in a function, you call the name of the function responsible for it.So if you need to perform the task multiple times you dont write the entire code over and over again but rather call the function and python runs the code inside the function.\n",
    "\n",
    "The keyword 'def' defines the function name and the name of the function should be written in snake casing that is small letters for other code readers to understand.\n",
    "The indented lines that follow the def function_name(): are called the docstring that tells what the function does. The docstring are in triple quotes and it is the one which python looks for when it generates documentation for the functions in your programs.  "
   ]
  },
  {
   "cell_type": "code",
   "execution_count": 8,
   "id": "59fdc10e",
   "metadata": {},
   "outputs": [
    {
     "name": "stdout",
     "output_type": "stream",
     "text": [
      "Hello user welcome to coding !!\n",
      "Hello Sangam welcome to coding my friend !!\n"
     ]
    }
   ],
   "source": [
    "# So in two ways we can define our first function one which only prints the statement we want \n",
    "# to print with no user input or can be a one which takes user input just as a name for example. \n",
    "# So what we do in the later case is we \" pass information \" to a function. We slightly modify the first function \n",
    "# and give leverage to the function to know the users name.\n",
    "\n",
    "def greet_user():\n",
    "    \" function will greet user once called\"\n",
    "    print(\"Hello user welcome to coding !!\")\n",
    "\n",
    "greet_user()\n",
    "\n",
    "def greet_user(name):\n",
    "    \"function will take an user input and call the user by his/her name\"\n",
    "    print(\"Hello \" + name  + \" welcome to coding my friend !!\")\n",
    "\n",
    "greet_user(\"Sangam\")    "
   ]
  },
  {
   "cell_type": "code",
   "execution_count": 10,
   "id": "7ebb81e1",
   "metadata": {},
   "outputs": [
    {
     "name": "stdout",
     "output_type": "stream",
     "text": [
      "In this chapter I am learning about functions \n",
      "One of my favourite book is Alice in wonderland\n"
     ]
    }
   ],
   "source": [
    "# The variable \"name\" inside the parentheses of the function is often called as the \n",
    "# parameter/argument, a piece of inforamation that the function needs to work upon.\n",
    "# An argument is a piece of information that is passed from a function call to a function. \n",
    "# When we call the function, we place the value we want the functionto work with in the parentheses.\n",
    "\n",
    "# TRY IT YOURSELF\n",
    "\n",
    "def display_message():\n",
    "    \"function prints one sentence telling everyone what I am learning about in this chapter \"\n",
    "    print(\"In this chapter I am learning about functions \" )\n",
    "    \n",
    "display_message()    \n",
    "\n",
    "def favourite_book(title):\n",
    "    print(\"One of my favourite book is \" + title )\n",
    "    \n",
    "favourite_book(\"Alice in wonderland\")\n"
   ]
  },
  {
   "cell_type": "markdown",
   "id": "690c607c",
   "metadata": {},
   "source": [
    "# Positional arguments\n",
    "\n",
    "When we call a function, python must match each argument in the function call with a parameter in the function definition. The simplest way to do this is based on the order of the arguments provided. Values matched up this way are called positional arguments.\n",
    "\n",
    "We can use as mane positional arguments as we want in the functions. So python works through each of the arguments that we provide and matches each one with the corresponding paramter in the functions definitions."
   ]
  },
  {
   "cell_type": "code",
   "execution_count": 8,
   "id": "a50b3fb5",
   "metadata": {},
   "outputs": [
    {
     "name": "stdout",
     "output_type": "stream",
     "text": [
      "I have a dog\n",
      "The name of my dog is Oreo.\n"
     ]
    }
   ],
   "source": [
    "def describe_pet(animal_type,name):\n",
    "    print(\"I have a \" + animal_type)\n",
    "    print(\"The name of my \" + animal_type + \" is \" + name + \".\")\n",
    "    \n",
    "describe_pet(\"dog\",\"Oreo\")    "
   ]
  },
  {
   "cell_type": "markdown",
   "id": "e2608347",
   "metadata": {},
   "source": [
    "# Keyword arguments\n",
    "\n",
    "One common issue with positional arguments is if we mixup the positions then the final output returned by the function defined might be confusing. Keyword arguments help us by making us free from having to worry about correctly ordering in the function call, and they calrify the role of each value in the function call."
   ]
  },
  {
   "cell_type": "code",
   "execution_count": 12,
   "id": "81227a76",
   "metadata": {},
   "outputs": [
    {
     "name": "stdout",
     "output_type": "stream",
     "text": [
      "I have a  dog\n",
      "The name of my  dog is Oreo.\n"
     ]
    }
   ],
   "source": [
    "describe_pet(animal_type = \" dog \" , name = \"Oreo\")\n"
   ]
  },
  {
   "cell_type": "markdown",
   "id": "e9994cfd",
   "metadata": {},
   "source": [
    "# Default values\n",
    "\n",
    "While writing a function, we can define a default value for each parameter. If an argument for a parameter is provided in the function call, python will use the argument values. If not the parameter's default value is used. So when we use a default value for a parameter we can exclude the corresponding argument that we would usually write in the function call. Using default values can simplify the function calls and clarify the ways in which we trasnform our functions that are typically used.\n",
    "\n",
    "\n",
    "**When we use default values the paramter with the default values needs to be listed after all the parameters that don't have default values. This allows python to correctly interpret positional arguments correctly**\n"
   ]
  },
  {
   "cell_type": "code",
   "execution_count": 21,
   "id": "fdd1cc91",
   "metadata": {},
   "outputs": [
    {
     "ename": "SyntaxError",
     "evalue": "non-default argument follows default argument (2130193985.py, line 1)",
     "output_type": "error",
     "traceback": [
      "\u001b[0;36m  File \u001b[0;32m\"/var/folders/6f/8tf58yws5t9d4my84cmz8hmh0000gp/T/ipykernel_1028/2130193985.py\"\u001b[0;36m, line \u001b[0;32m1\u001b[0m\n\u001b[0;31m    def describe_pet(pet_type=\"dog\",name):\u001b[0m\n\u001b[0m                                        ^\u001b[0m\n\u001b[0;31mSyntaxError\u001b[0m\u001b[0;31m:\u001b[0m non-default argument follows default argument\n"
     ]
    }
   ],
   "source": [
    "def describe_pet(pet_type=\"dog\",name):\n",
    "    print(\"I have a \" + animal_type)\n",
    "    print(\"The name of my \" + animal_type + \" is \" + name + \".\")\n",
    "    \n",
    "describe_pet(\"Oreo\")    \n",
    "\n",
    "\"this will give in rise to an error saying - \"SyntaxError: non-default argument follows default argument\" \"\n",
    "    \n",
    "    "
   ]
  },
  {
   "cell_type": "code",
   "execution_count": 15,
   "id": "f456fc8a",
   "metadata": {},
   "outputs": [
    {
     "name": "stdout",
     "output_type": "stream",
     "text": [
      "I have a dog\n",
      "The name of my dog is Oreo.\n"
     ]
    }
   ],
   "source": [
    "# So in case of default values the order of the parameters in the function definition needs to be changed. \n",
    "# Becasue default value makes it unnecessary to specify a type of animal in the argument, \n",
    "# the only argument left in the function call is the pet's name. \n",
    "# Python still interprets this as positional argument. So, if the function is called with just a pet's name ,\n",
    "# that argument will match up with the paramter listed \n",
    "# in the function's definition. This is the reason the first parameter needs to be the pets_name.\n",
    "\n",
    "\n",
    "\n",
    "def describe_pet(name, animal_type=\"dog\"):\n",
    "    print(\"I have a \" + animal_type)\n",
    "    print(\"The name of my \" + animal_type + \" is \" + name + \".\")\n",
    "    \n",
    "describe_pet(\"Oreo\") "
   ]
  },
  {
   "cell_type": "code",
   "execution_count": 26,
   "id": "0b73af7b",
   "metadata": {},
   "outputs": [
    {
     "name": "stdout",
     "output_type": "stream",
     "text": [
      "The shirt to be delivered is of size XL with MESSI printed on back of it.\n",
      "The shirt to be delivered is of size L with I love python printed on back of it.\n",
      "The shirt to be delivered is of size L with I love python printed on back of it.\n",
      "The shirt to be delivered is of size M with I love python printed on back of it.\n"
     ]
    }
   ],
   "source": [
    "# TRY IT YOURSELF\n",
    "\n",
    "def make_shirt(size,text):\n",
    "    print(\"The shirt to be delivered is of size \" + size + \" with \" + text +\" printed on back of it.\")\n",
    "\n",
    "make_shirt(\"XL\",\"MESSI\")\n",
    "\n",
    "def make_shirt(text,size=\"L\"):\n",
    "        print(\"The shirt to be delivered is of size \" + size + \" with \" + text +\" printed on back of it.\")\n",
    "\n",
    "make_shirt(\"I love python\")\n",
    "    \n",
    "def make_shirt(size,text=\"I love python\"):\n",
    "        print(\"The shirt to be delivered is of size \" + size + \" with \" + text +\" printed on back of it.\")\n",
    "\n",
    "make_shirt(\"L\")\n",
    "make_shirt(\"M\")\n",
    "\n"
   ]
  },
  {
   "cell_type": "code",
   "execution_count": 28,
   "id": "35dfde57",
   "metadata": {},
   "outputs": [
    {
     "name": "stdout",
     "output_type": "stream",
     "text": [
      "Jaipur is in India\n",
      "Athens is in India\n"
     ]
    }
   ],
   "source": [
    "def describe_city(city,country = \"India\"):\n",
    "    print(city + \" is in \" + country)\n",
    "    \n",
    "describe_city(\"Jaipur\")    \n",
    "\n",
    "describe_city(\"Athens\")"
   ]
  },
  {
   "cell_type": "markdown",
   "id": "ae99f59b",
   "metadata": {},
   "source": [
    "# return values\n",
    "\n",
    "A function doesnt always have to display output directly. **Rather it can process some data and then return a value for a set of values**. The value the function returns is called a return value. The return statement takes a value from inside a function and sends it back to the line that called the function. Return function helps us in making the body of the program much simpler.\n"
   ]
  },
  {
   "cell_type": "code",
   "execution_count": 32,
   "id": "7077b7ed",
   "metadata": {},
   "outputs": [
    {
     "data": {
      "text/plain": [
       "88"
      ]
     },
     "execution_count": 32,
     "metadata": {},
     "output_type": "execute_result"
    }
   ],
   "source": [
    "def even_check(number):\n",
    "    if number %2 ==0:\n",
    "        return number\n",
    "    else:\n",
    "        pass\n",
    "    \n",
    "    return print(\"not an even number\")\n",
    "     \n",
    "    \n",
    "even_check(88)    "
   ]
  },
  {
   "cell_type": "markdown",
   "id": "9ff25e85",
   "metadata": {},
   "source": [
    "# Optional argument\n",
    "\n",
    "Helps us put an optional argument within the defined function so that it helps people using the function can choose to provide extra information only if they want to. We can use **Default values** to make an argument optional."
   ]
  },
  {
   "cell_type": "code",
   "execution_count": 47,
   "id": "cfdc0ad1",
   "metadata": {},
   "outputs": [
    {
     "name": "stdout",
     "output_type": "stream",
     "text": [
      "The Name Of The Candidate Is Swarnendu Ghosh.\n",
      "The Name Of The Candidate Is Swarnendu Sekhar Ghosh.\n",
      "The Name Of The Candidate Is Swarnendu Ghosh.\n"
     ]
    }
   ],
   "source": [
    "def formatted_name(first_name, last_name):\n",
    "    person = \"The name of the candidate is\" + \" \" + first_name + \" \" + last_name + '.'\n",
    "    return person.title()\n",
    "     \n",
    "candidate = formatted_name(\"Swarnendu\",\"Ghosh\")  \n",
    "print(candidate)\n",
    "\n",
    "\n",
    "# Now using the middle name as optional argument for the candidate\n",
    "\n",
    "def formatted_name_modified(first_name, last_name, middle_name = ''):\n",
    "    if middle_name:\n",
    "        person = \"The name of the candidate is\" + \" \" + first_name + \" \" + middle_name + \" \" + last_name + '.'\n",
    "    else:\n",
    "        person = \"The name of the candidate is\" + \" \" + first_name + \" \" + last_name + '.'\n",
    "\n",
    "    return person.title()    \n",
    "    \n",
    "candidate1 = formatted_name_modified(\"Swarnendu\", \"Ghosh\", \"Sekhar\")\n",
    "print(candidate1)\n",
    "\n",
    "\n",
    "candidate2 = formatted_name_modified(\"Swarnendu\", \"Ghosh\")\n",
    "print(candidate2)\n",
    "\n"
   ]
  },
  {
   "cell_type": "markdown",
   "id": "d911211e",
   "metadata": {},
   "source": [
    "# returning a Dictionary\n",
    "\n",
    "A function can return any kind of value you need it to , including more complicated data structures like lists and dictionaries. \n",
    "\n"
   ]
  },
  {
   "cell_type": "code",
   "execution_count": 63,
   "id": "fdb0557e",
   "metadata": {},
   "outputs": [
    {
     "name": "stdout",
     "output_type": "stream",
     "text": [
      "{'first': 'Lata', 'last': 'mangeshkar'}\n",
      "{'first': 'hemanta', 'last': 'kumar', 'age': 54}\n",
      "{'first': 'hemanta', 'last': 'kumar', 'age': 54, 'genre': 'classical'}\n",
      "{'first': 'hemanta', 'last': 'kumar', 'genre': 'classical'}\n"
     ]
    }
   ],
   "source": [
    "def build_name (first_name, last_name):\n",
    "    \"Return dictionary of information about a person\"\n",
    "    person = {'first' : first_name, 'last' : last_name}   # So in this stage the func takes in two values \n",
    "                                                          # and packs them into these values into a dictionary\n",
    "    return person\n",
    "\n",
    "musician = build_name(\"Lata\", \"mangeshkar\")\n",
    "print(musician)\n",
    "\n",
    "# So this function takes in simple textural information and puts it into a more meaningful data structure\n",
    "# In this case a Dictionary, that lets you work with the information beyond just printing it.\n",
    "\n",
    "# Another interesting thing is that we can add extra information and extend this function. For this we can use \n",
    "# optional arguments as an option. So the extra information we introduce gets added as an element of the dictionary.\n",
    "\n",
    "def build_name(first_name, last_name, age='',genre=''):\n",
    "    \n",
    "    person = {'first' : first_name, 'last' : last_name}\n",
    "    \n",
    "    if age:\n",
    "        person['age'] = age\n",
    "      \n",
    "    if genre:\n",
    "        person['genre'] = genre\n",
    "        \n",
    "    return person    \n",
    "\n",
    "\n",
    "first = build_name('hemanta','kumar',54)\n",
    "\n",
    "print(first)\n",
    "\n",
    "second = build_name('hemanta','kumar',54,'classical')\n",
    "print(second)\n",
    "\n",
    "# now what to do if we have multiple otpional arguments the problem arises that genre is \n",
    "# going to age component of the dictionary if you observe carefully\n",
    "\n",
    "third = build_name ('hemanta','kumar','','classical')   \n",
    "print(third)\n",
    "\n"
   ]
  },
  {
   "cell_type": "code",
   "execution_count": 17,
   "id": "d905e0ef",
   "metadata": {},
   "outputs": [
    {
     "name": "stdout",
     "output_type": "stream",
     "text": [
      "('Santiago', 'Chile')\n",
      "{'Singer': 'KK', 'Album Name': 'dus bahane'}\n",
      "{'Singer': 'Arijit Singh', 'Album Name': 'Aashiqui2'}\n",
      "{'Singer': 'Shaan', 'Album Name': 'Saathiya '}\n",
      "{'Singer': 'Shaan', 'Album Name': 'Burj khalifa', 'tracks': 45}\n"
     ]
    }
   ],
   "source": [
    "# Exercise\n",
    "\n",
    "def city_country(city_name,country_name):\n",
    "    return(city_name,country_name)\n",
    "\n",
    "print(city_country(\"Santiago\",\"Chile\"))\n",
    "\n",
    "def make_album(artist_name,album_name):\n",
    "    details = {'Singer':artist_name,'Album Name':album_name}\n",
    "    return details\n",
    "\n",
    "album1 = make_album('KK','dus bahane')\n",
    "print(album1)\n",
    "\n",
    "album2 = make_album('Arijit Singh','Aashiqui2')\n",
    "print(album2)\n",
    "\n",
    "album3 = make_album('Shaan', 'Saathiya ')\n",
    "print(album3)\n",
    "\n",
    "def make_album_mod(artist_name,album_name, tracks ='' ):\n",
    "    details = {'Singer':artist_name,'Album Name':album_name }\n",
    "    if tracks: \n",
    "        details['tracks'] = tracks\n",
    "    \n",
    "    return details\n",
    "\n",
    "album4 = make_album_mod('Shaan', \"Burj khalifa\",45)   \n",
    "print(album4)"
   ]
  },
  {
   "cell_type": "markdown",
   "id": "78a3d0d8",
   "metadata": {},
   "source": [
    "# Using a function with a while loop\n",
    "\n",
    "We can use python functions with all the python structures."
   ]
  },
  {
   "cell_type": "code",
   "execution_count": null,
   "id": "05f64014",
   "metadata": {},
   "outputs": [],
   "source": [
    "# using while to create an infinite loop for taking user inputs until loop broken\n",
    "\n",
    "def make_album(artist_name,album_name):\n",
    "    details = {'Singer':artist_name,'Album Name':album_name}\n",
    "    return details\n",
    "\n",
    "while True:\n",
    "    print(\"\\n Please enter your artist and album details \")\n",
    "    print(\"(enter q at any time to quit )\")\n",
    "    \n",
    "    artist_name = input(\"Singer:\")\n",
    "    if artist_name =='q':\n",
    "        break\n",
    "    album_name = input(\"Album name :\")\n",
    "    if album_name == 'q':\n",
    "        break\n",
    "        \n",
    "    formatted_name = make_album(artist_name,album_name)\n",
    "    print(\" We are proud to announce this new album \" + album_name +' ' + \"by\" + ' ' + artist_name  )\n",
    "    \n",
    "    "
   ]
  },
  {
   "cell_type": "markdown",
   "id": "a79d6754",
   "metadata": {},
   "source": [
    "# Passing a list\n",
    "\n",
    "We can pass a list to a function, whether it is a list of names, numbers,or more complex objects such as dictionaries. When we pass a list to a function, the function gets a direct acess to the contents of the list. "
   ]
  },
  {
   "cell_type": "code",
   "execution_count": 19,
   "id": "31c4232d",
   "metadata": {},
   "outputs": [
    {
     "name": "stdout",
     "output_type": "stream",
     "text": [
      "Welcome Starc to the party!!!\n",
      "Welcome Virat to the party!!!\n",
      "Welcome Dinesh to the party!!!\n"
     ]
    }
   ],
   "source": [
    "def greet_users(names):\n",
    "    \"print greeting to each name in the list\"\n",
    "    for name in names:\n",
    "        msg = \"Welcome\" + ' ' + name.title() + ' ' + \"to the party!!!\" \n",
    "        print(msg)\n",
    "\n",
    "guests = ['Starc', 'Virat', 'Dinesh']\n",
    "\n",
    "greet_users(guests)\n",
    "    "
   ]
  },
  {
   "cell_type": "markdown",
   "id": "a729b13c",
   "metadata": {},
   "source": [
    "# Modifying a list in a function\n",
    "\n",
    "When we pass a list in a function, the function can modify the list. Any changes made to the list within the function's body can be permanent and can help us handling large datasets.\n",
    "\n"
   ]
  },
  {
   "cell_type": "code",
   "execution_count": null,
   "id": "4433ec63",
   "metadata": {},
   "outputs": [],
   "source": []
  },
  {
   "cell_type": "code",
   "execution_count": null,
   "id": "2e3f9e90",
   "metadata": {},
   "outputs": [],
   "source": []
  },
  {
   "cell_type": "code",
   "execution_count": null,
   "id": "18c7a803",
   "metadata": {},
   "outputs": [],
   "source": []
  }
 ],
 "metadata": {
  "kernelspec": {
   "display_name": "Python 3 (ipykernel)",
   "language": "python",
   "name": "python3"
  },
  "language_info": {
   "codemirror_mode": {
    "name": "ipython",
    "version": 3
   },
   "file_extension": ".py",
   "mimetype": "text/x-python",
   "name": "python",
   "nbconvert_exporter": "python",
   "pygments_lexer": "ipython3",
   "version": "3.9.13"
  }
 },
 "nbformat": 4,
 "nbformat_minor": 5
}
