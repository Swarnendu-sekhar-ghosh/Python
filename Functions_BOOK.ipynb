{
 "cells": [
  {
   "cell_type": "markdown",
   "id": "87529399",
   "metadata": {},
   "source": [
    "# Functions in python"
   ]
  },
  {
   "cell_type": "markdown",
   "id": "8f950af5",
   "metadata": {},
   "source": [
    "When you want to perform a particular task that you have defined in a function, you call the name of the function responsible for it.So if you need to perform the task multiple times you dont write the entire code over and over again but rather call the function and python runs the code inside the function.\n",
    "\n",
    "The keyword 'def' defines the function name and the name of the function should be written in snake casing that is small letters for other code readers to understand.\n",
    "The indented lines that follow the def function_name(): are called the docstring that tells what the function does. The docstring are in triple quotes and it is the one which python looks for when it generates documentation for the functions in your programs.  "
   ]
  },
  {
   "cell_type": "code",
   "execution_count": 8,
   "id": "59fdc10e",
   "metadata": {},
   "outputs": [
    {
     "name": "stdout",
     "output_type": "stream",
     "text": [
      "Hello user welcome to coding !!\n",
      "Hello Sangam welcome to coding my friend !!\n"
     ]
    }
   ],
   "source": [
    "# So in two ways we can define our first function one which only prints the statement we want \n",
    "# to print with no user input or can be a one which takes user input just as a name for example. \n",
    "# So what we do in the later case is we \" pass information \" to a function. We slightly modify the first function \n",
    "# and give leverage to the function to know the users name.\n",
    "\n",
    "def greet_user():\n",
    "    \" function will greet user once called\"\n",
    "    print(\"Hello user welcome to coding !!\")\n",
    "\n",
    "greet_user()\n",
    "\n",
    "def greet_user(name):\n",
    "    \"function will take an user input and call the user by his/her name\"\n",
    "    print(\"Hello \" + name  + \" welcome to coding my friend !!\")\n",
    "\n",
    "greet_user(\"Sangam\")    "
   ]
  },
  {
   "cell_type": "code",
   "execution_count": 10,
   "id": "7ebb81e1",
   "metadata": {},
   "outputs": [
    {
     "name": "stdout",
     "output_type": "stream",
     "text": [
      "In this chapter I am learning about functions \n",
      "One of my favourite book is Alice in wonderland\n"
     ]
    }
   ],
   "source": [
    "# The variable \"name\" inside the parentheses of the function is often called as the \n",
    "# parameter/argument, a piece of inforamation that the function needs to work upon.\n",
    "# An argument is a piece of information that is passed from a function call to a function. \n",
    "# When we call the function, we place the value we want the functionto work with in the parentheses.\n",
    "\n",
    "# TRY IT YOURSELF\n",
    "\n",
    "def display_message():\n",
    "    \"function prints one sentence telling everyone what I am learning about in this chapter \"\n",
    "    print(\"In this chapter I am learning about functions \" )\n",
    "    \n",
    "display_message()    \n",
    "\n",
    "def favourite_book(title):\n",
    "    print(\"One of my favourite book is \" + title )\n",
    "    \n",
    "favourite_book(\"Alice in wonderland\")\n"
   ]
  },
  {
   "cell_type": "code",
   "execution_count": null,
   "id": "683c2c33",
   "metadata": {},
   "outputs": [],
   "source": []
  }
 ],
 "metadata": {
  "kernelspec": {
   "display_name": "Python 3 (ipykernel)",
   "language": "python",
   "name": "python3"
  },
  "language_info": {
   "codemirror_mode": {
    "name": "ipython",
    "version": 3
   },
   "file_extension": ".py",
   "mimetype": "text/x-python",
   "name": "python",
   "nbconvert_exporter": "python",
   "pygments_lexer": "ipython3",
   "version": "3.9.13"
  }
 },
 "nbformat": 4,
 "nbformat_minor": 5
}
