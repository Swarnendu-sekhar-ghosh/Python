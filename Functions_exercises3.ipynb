{
 "cells": [
  {
   "cell_type": "markdown",
   "id": "f7ea8471",
   "metadata": {},
   "source": [
    "# WARMUP PROBLEMS"
   ]
  },
  {
   "cell_type": "markdown",
   "id": "acd449fb",
   "metadata": {},
   "source": [
    "# LESSER OF TWO EVENS: Write a function that returns the lesser of two given numbers if both numbers are even, but returns the greater if one or both numbers are odd\n",
    "# lesser_of_two_evens(2,4) --> 2\n",
    "# lesser_of_two_evens(2,5) --> 5"
   ]
  },
  {
   "cell_type": "code",
   "execution_count": 4,
   "id": "087f658a",
   "metadata": {},
   "outputs": [
    {
     "data": {
      "text/plain": [
       "5"
      ]
     },
     "execution_count": 4,
     "metadata": {},
     "output_type": "execute_result"
    }
   ],
   "source": [
    "def lesser_of_two_evens(a,b):\n",
    "    if a%2==0 and b%2==0:\n",
    "        return min(a,b)\n",
    "    elif a%2!=0 or b%2!=0:\n",
    "        return max(a,b)\n",
    "    \n",
    "lesser_of_two_evens(2,5)        "
   ]
  },
  {
   "cell_type": "markdown",
   "id": "8602c28b",
   "metadata": {},
   "source": [
    "# ANIMAL CRACKERS: Write a function takes a two-word string and returns True if both words begin with same letter\n",
    "# animal_crackers('Levelheaded Llama') --> True\n",
    "# animal_crackers('Crazy Kangaroo') --> False"
   ]
  },
  {
   "cell_type": "code",
   "execution_count": 9,
   "id": "6f214b2c",
   "metadata": {},
   "outputs": [
    {
     "data": {
      "text/plain": [
       "False"
      ]
     },
     "execution_count": 9,
     "metadata": {},
     "output_type": "execute_result"
    }
   ],
   "source": [
    "def animal_crackers(a , b):\n",
    "    if a[0]==b[0]:\n",
    "        return True\n",
    "    else:\n",
    "        return False\n",
    "    \n",
    "animal_crackers('Tiger','Ligress')    "
   ]
  },
  {
   "cell_type": "markdown",
   "id": "fbeed373",
   "metadata": {},
   "source": [
    "# MAKES TWENTY: Given two integers, return True if the sum of the integers is 20 or if one of the integers is 20. If not, return False\n",
    "# makes_twenty(20,10) --> True\n",
    "# makes_twenty(12,8) --> True\n",
    "# makes_twenty(2,3) --> False"
   ]
  },
  {
   "cell_type": "code",
   "execution_count": 15,
   "id": "616b2c72",
   "metadata": {},
   "outputs": [
    {
     "data": {
      "text/plain": [
       "True"
      ]
     },
     "execution_count": 15,
     "metadata": {},
     "output_type": "execute_result"
    }
   ],
   "source": [
    "def makes_twenty(a,b):\n",
    "    if a+b==20:\n",
    "        return True\n",
    "    elif a==20 or b==20:\n",
    "        return True\n",
    "    else:\n",
    "        return False\n",
    "\n",
    "makes_twenty(5,20)        "
   ]
  },
  {
   "cell_type": "markdown",
   "id": "635620c8",
   "metadata": {},
   "source": [
    "# LEVEL 1 PROBLEMS"
   ]
  },
  {
   "cell_type": "markdown",
   "id": "9e90e1ac",
   "metadata": {},
   "source": [
    "# OLD MACDONALD: Write a function that capitalizes the first and fourth letters of a name\n",
    "# old_macdonald('macdonald') --> MacDonald\n",
    "\n",
    "# Note: 'macdonald'.capitalize() returns 'Macdonald'"
   ]
  },
  {
   "cell_type": "code",
   "execution_count": 34,
   "id": "24e35d62",
   "metadata": {},
   "outputs": [
    {
     "data": {
      "text/plain": [
       "'SupEerman'"
      ]
     },
     "execution_count": 34,
     "metadata": {},
     "output_type": "execute_result"
    }
   ],
   "source": [
    "def old_macdonald(a):\n",
    "    first_letter = a[0]\n",
    "    middle_letters =a[1:3]\n",
    "    fourth_letter =a[3]\n",
    "    remaining_letters=a[3:]\n",
    "    return first_letter.upper() + middle_letters + fourth_letter.upper() + remaining_letters\n",
    "    \n",
    "old_macdonald('superman')    "
   ]
  }
 ],
 "metadata": {
  "kernelspec": {
   "display_name": "Python 3 (ipykernel)",
   "language": "python",
   "name": "python3"
  },
  "language_info": {
   "codemirror_mode": {
    "name": "ipython",
    "version": 3
   },
   "file_extension": ".py",
   "mimetype": "text/x-python",
   "name": "python",
   "nbconvert_exporter": "python",
   "pygments_lexer": "ipython3",
   "version": "3.9.12"
  }
 },
 "nbformat": 4,
 "nbformat_minor": 5
}
