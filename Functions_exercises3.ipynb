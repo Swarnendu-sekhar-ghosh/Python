{
 "cells": [
  {
   "cell_type": "markdown",
   "id": "f7ea8471",
   "metadata": {},
   "source": [
    "# WARMUP PROBLEMS"
   ]
  },
  {
   "cell_type": "markdown",
   "id": "acd449fb",
   "metadata": {},
   "source": [
    "# LESSER OF TWO EVENS: Write a function that returns the lesser of two given numbers if both numbers are even, but returns the greater if one or both numbers are odd\n",
    "# lesser_of_two_evens(2,4) --> 2\n",
    "# lesser_of_two_evens(2,5) --> 5"
   ]
  },
  {
   "cell_type": "code",
   "execution_count": 4,
   "id": "087f658a",
   "metadata": {},
   "outputs": [
    {
     "data": {
      "text/plain": [
       "5"
      ]
     },
     "execution_count": 4,
     "metadata": {},
     "output_type": "execute_result"
    }
   ],
   "source": [
    "def lesser_of_two_evens(a,b):\n",
    "    if a%2==0 and b%2==0:\n",
    "        return min(a,b)\n",
    "    elif a%2!=0 or b%2!=0:\n",
    "        return max(a,b)\n",
    "    \n",
    "lesser_of_two_evens(2,5)        "
   ]
  },
  {
   "cell_type": "markdown",
   "id": "8602c28b",
   "metadata": {},
   "source": [
    "# ANIMAL CRACKERS: Write a function takes a two-word string and returns True if both words begin with same letter\n",
    "# animal_crackers('Levelheaded Llama') --> True\n",
    "# animal_crackers('Crazy Kangaroo') --> False"
   ]
  },
  {
   "cell_type": "code",
   "execution_count": 9,
   "id": "6f214b2c",
   "metadata": {},
   "outputs": [
    {
     "data": {
      "text/plain": [
       "False"
      ]
     },
     "execution_count": 9,
     "metadata": {},
     "output_type": "execute_result"
    }
   ],
   "source": [
    "def animal_crackers(a , b):\n",
    "    if a[0]==b[0]:\n",
    "        return True\n",
    "    else:\n",
    "        return False\n",
    "    \n",
    "animal_crackers('Tiger','Ligress')    "
   ]
  },
  {
   "cell_type": "markdown",
   "id": "fbeed373",
   "metadata": {},
   "source": [
    "# MAKES TWENTY: Given two integers, return True if the sum of the integers is 20 or if one of the integers is 20. If not, return False\n",
    "# makes_twenty(20,10) --> True\n",
    "# makes_twenty(12,8) --> True\n",
    "# makes_twenty(2,3) --> False"
   ]
  },
  {
   "cell_type": "code",
   "execution_count": 15,
   "id": "616b2c72",
   "metadata": {},
   "outputs": [
    {
     "data": {
      "text/plain": [
       "True"
      ]
     },
     "execution_count": 15,
     "metadata": {},
     "output_type": "execute_result"
    }
   ],
   "source": [
    "def makes_twenty(a,b):\n",
    "    if a+b==20:\n",
    "        return True\n",
    "    elif a==20 or b==20:\n",
    "        return True\n",
    "    else:\n",
    "        return False\n",
    "\n",
    "makes_twenty(5,20)        "
   ]
  },
  {
   "cell_type": "markdown",
   "id": "635620c8",
   "metadata": {},
   "source": [
    "# LEVEL 1 PROBLEMS"
   ]
  },
  {
   "cell_type": "markdown",
   "id": "9e90e1ac",
   "metadata": {},
   "source": [
    "# OLD MACDONALD: Write a function that capitalizes the first and fourth letters of a name\n",
    "# old_macdonald('macdonald') --> MacDonald\n",
    "\n",
    "# Note: 'macdonald'.capitalize() returns 'Macdonald'"
   ]
  },
  {
   "cell_type": "code",
   "execution_count": 34,
   "id": "24e35d62",
   "metadata": {},
   "outputs": [
    {
     "data": {
      "text/plain": [
       "'SupEerman'"
      ]
     },
     "execution_count": 34,
     "metadata": {},
     "output_type": "execute_result"
    }
   ],
   "source": [
    "def old_macdonald(a):\n",
    "    first_letter = a[0]\n",
    "    middle_letters =a[1:3]\n",
    "    fourth_letter =a[3]\n",
    "    remaining_letters=a[3:]\n",
    "    return first_letter.upper() + middle_letters + fourth_letter.upper() + remaining_letters\n",
    "    \n",
    "old_macdonald('superman')    "
   ]
  },
  {
   "cell_type": "markdown",
   "id": "7e1c3efd",
   "metadata": {},
   "source": [
    "# IMPORTANT PROBLEM : \n",
    "\n",
    "# MASTER YODA: Given a sentence, return a sentence with the words reversed\n",
    "# master_yoda('I am home') --> 'home am I'\n",
    "# master_yoda('We are ready') --> 'ready are We'\n",
    "\n",
    "# Note: The .join() method may be useful here. The .join() method allows you to join together strings in a list with some connector string. For example, some uses of the .join() method:\n",
    "\n",
    "# >>> \"--\".join(['a','b','c'])\n",
    "# >>> 'a--b--c'\n",
    "\n",
    "# This means if you had a list of words you wanted to turn back into a sentence, you could just join them with a single space string:\n",
    "\n",
    "# >>> \" \".join(['Hello','world'])\n",
    "# >>> \"Hello world\""
   ]
  },
  {
   "cell_type": "code",
   "execution_count": 19,
   "id": "21a07132",
   "metadata": {},
   "outputs": [
    {
     "data": {
      "text/plain": [
       "'guy great a is rahul'"
      ]
     },
     "execution_count": 19,
     "metadata": {},
     "output_type": "execute_result"
    }
   ],
   "source": [
    "# This problem introduces us to the split and join method\n",
    "\n",
    "def master_yoda(d):\n",
    "    split_sentence = d.split()                # Splitting the string into individual words of a list\n",
    "    reverse_sentence = split_sentence[::-1]   # reversing the items of the list\n",
    "    return ' '.join(reverse_sentence)         # joining the reversed list items with a blank string which gives a string \n",
    "\n",
    "master_yoda('rahul is a great guy')           # example"
   ]
  },
  {
   "cell_type": "markdown",
   "id": "0a60d51b",
   "metadata": {},
   "source": [
    "# ALMOST THERE: Given an integer n, return True if n is within 10 of either 100 or 200\n",
    "# almost_there(90) --> True\n",
    "# almost_there(104) --> True\n",
    "# almost_there(150) --> False\n",
    "# almost_there(209) --> True\n",
    "\n",
    "# NOTE: abs(num) returns the absolute value of a number"
   ]
  },
  {
   "cell_type": "code",
   "execution_count": 27,
   "id": "8c00e1dc",
   "metadata": {},
   "outputs": [
    {
     "data": {
      "text/plain": [
       "False"
      ]
     },
     "execution_count": 27,
     "metadata": {},
     "output_type": "execute_result"
    }
   ],
   "source": [
    "def almost_there(n):\n",
    "    \n",
    "    if (abs(100-n)<=10 or abs(200-n)<=10):\n",
    "        return True\n",
    "    else:\n",
    "        return False\n",
    "    \n",
    "# almost_there(90)  \n",
    "# almost_there(104) \n",
    "almost_there(150) \n",
    "# almost_there(209) \n"
   ]
  },
  {
   "cell_type": "markdown",
   "id": "6bd35a87",
   "metadata": {},
   "source": [
    "# LEVEL 2 PROBLEMS\n",
    "\n",
    "# FIND 33:\n",
    "\n",
    "# Given a list of ints, return True if the array contains a 3 next to a 3 somewhere.\n",
    "\n",
    "# has_33([1, 3, 3]) → True\n",
    "# has_33([1, 3, 1, 3]) → False\n",
    "# has_33([3, 1, 3]) → False"
   ]
  },
  {
   "cell_type": "code",
   "execution_count": 61,
   "id": "49e5af00",
   "metadata": {},
   "outputs": [
    {
     "data": {
      "text/plain": [
       "True"
      ]
     },
     "execution_count": 61,
     "metadata": {},
     "output_type": "execute_result"
    }
   ],
   "source": [
    "def has_33(list):\n",
    "    for i in range(0,len(list)-1):             # search for items in the list along its length but only till the second last\n",
    "        if list[i]== 3 and list[i+1]==3:\n",
    "            return True\n",
    "    return False\n",
    "    \n",
    "# has_33([1, 3, 1, 3])\n",
    "has_33([1, 3, 3])"
   ]
  },
  {
   "cell_type": "code",
   "execution_count": 60,
   "id": "ea3b51c9",
   "metadata": {},
   "outputs": [
    {
     "data": {
      "text/plain": [
       "False"
      ]
     },
     "execution_count": 60,
     "metadata": {},
     "output_type": "execute_result"
    }
   ],
   "source": [
    "# A similar way o0f addressing the same problem\n",
    "\n",
    "def has_33(list):\n",
    "    for i in range(0,len(list)-1):             # search for items in the list along its length but only till the second last\n",
    "        if list[i:i+2] == [3,3]:\n",
    "            return True\n",
    "    return False\n",
    "    \n",
    "has_33([1, 3, 1, 3])\n",
    "# has_33([1, 3, 3])"
   ]
  },
  {
   "cell_type": "markdown",
   "id": "dc1b7b24",
   "metadata": {},
   "source": [
    "# PAPER DOLL: Given a string, return a string where for every character in the original there are three characters\n",
    "# paper_doll('Hello') --> 'HHHeeellllllooo'\n",
    "# paper_doll('Mississippi') --> 'MMMiiissssssiiippppppiii'"
   ]
  },
  {
   "cell_type": "code",
   "execution_count": 66,
   "id": "faa7d380",
   "metadata": {},
   "outputs": [
    {
     "data": {
      "text/plain": [
       "'hhheeellllllooo'"
      ]
     },
     "execution_count": 66,
     "metadata": {},
     "output_type": "execute_result"
    }
   ],
   "source": [
    "# CORRECT VERSION\n",
    "\n",
    "def paper_doll(x):\n",
    "    doll=''\n",
    "    for item in x : \n",
    "        doll+=item*3\n",
    "    return doll\n",
    "\n",
    "paper_doll('hello')   \n",
    "    "
   ]
  },
  {
   "cell_type": "markdown",
   "id": "1e6cb893",
   "metadata": {},
   "source": [
    "# BLACKJACK: Given three integers between 1 and 11, if their sum is less than or equal to 21, return their sum. If their sum exceeds 21 and there's an eleven, reduce the total sum by 10. Finally, if the sum (even after adjustment) exceeds 21, return 'BUST'\n",
    "# blackjack(5,6,7) --> 18\n",
    "# blackjack(9,9,9) --> 'BUST'\n",
    "# blackjack(9,9,11) --> 19"
   ]
  },
  {
   "cell_type": "code",
   "execution_count": 75,
   "id": "d2d58806",
   "metadata": {},
   "outputs": [
    {
     "data": {
      "text/plain": [
       "101"
      ]
     },
     "execution_count": 75,
     "metadata": {},
     "output_type": "execute_result"
    }
   ],
   "source": [
    "# MY VERSION\n",
    "\n",
    "def blackjack(a,b,c):\n",
    "    if a+b+c<=21:\n",
    "        return a+b+c\n",
    "    elif a+b+c>21 and a==11 or b==11 or c==11:\n",
    "        return a+b+c-10\n",
    "    elif a+b+c>21:\n",
    "        return \"BUST\"\n",
    "\n",
    "blackjack(91,9,11)    "
   ]
  },
  {
   "cell_type": "code",
   "execution_count": 76,
   "id": "df2646de",
   "metadata": {},
   "outputs": [],
   "source": [
    "# CORRECTED VERSION\n",
    "\n",
    "def black_jack(a,b,c):\n",
    "    if sum([a,b,c]) <=21:\n",
    "        return sum([a,b,c])\n",
    "    elif 11 in [a,b,c] and sum([a,b,c])>21:\n",
    "        return sum([a,b,c])-10\n",
    "    else:\n",
    "        return \"BUST\"  "
   ]
  },
  {
   "cell_type": "markdown",
   "id": "124d35ca",
   "metadata": {},
   "source": [
    "# SUMMER OF '69: Return the sum of the numbers in the array, except ignore sections of numbers starting with a 6 and extending to the next 9 (every 6 will be followed by at least one 9). Return 0 for no numbers.\n",
    "# summer_69([1, 3, 5]) --> 9\n",
    "# summer_69([4, 5, 6, 7, 8, 9]) --> 9\n",
    "# summer_69([2, 1, 6, 9, 11]) --> 14"
   ]
  },
  {
   "cell_type": "code",
   "execution_count": null,
   "id": "bc6c7005",
   "metadata": {},
   "outputs": [],
   "source": [
    "# VERY HARD PROBLEM TRY IT ONE MORE TIME"
   ]
  }
 ],
 "metadata": {
  "kernelspec": {
   "display_name": "Python 3 (ipykernel)",
   "language": "python",
   "name": "python3"
  },
  "language_info": {
   "codemirror_mode": {
    "name": "ipython",
    "version": 3
   },
   "file_extension": ".py",
   "mimetype": "text/x-python",
   "name": "python",
   "nbconvert_exporter": "python",
   "pygments_lexer": "ipython3",
   "version": "3.9.12"
  }
 },
 "nbformat": 4,
 "nbformat_minor": 5
}
