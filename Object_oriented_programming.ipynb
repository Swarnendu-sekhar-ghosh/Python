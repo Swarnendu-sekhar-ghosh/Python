{
 "cells": [
  {
   "cell_type": "markdown",
   "id": "f3f9336d-965c-4f2c-9e0a-7926b0612d06",
   "metadata": {},
   "source": [
    "So during practice I will be referring to definition of the book \"Python Crash course\" by eric matthes"
   ]
  },
  {
   "cell_type": "markdown",
   "id": "c7ed7d59-3826-49cc-a801-cede682d1cb9",
   "metadata": {},
   "source": [
    "A class represents real world items/ things or situations and we create objects based on these classes. \n",
    "So by a class we define the general behaviour that a whole category of objects can have.\n",
    "When we create an object from the class, each object is equipped with the general behaviour. Now every object can be given any unique traits that we desire.\n"
   ]
  },
  {
   "cell_type": "code",
   "execution_count": 11,
   "id": "930f8f0a-8776-40ea-b57c-3f89119a6775",
   "metadata": {},
   "outputs": [],
   "source": [
    "class Student():\n",
    "    def __init__(self,name,height,reg,sec):\n",
    "        self.name = name\n",
    "        self.height = height\n",
    "        self.registration = reg\n",
    "        self.section = sec\n",
    "    "
   ]
  },
  {
   "cell_type": "code",
   "execution_count": 12,
   "id": "d8fed5d5-fe29-49a2-bcb7-36b00058d816",
   "metadata": {},
   "outputs": [],
   "source": [
    "Student1 = Student (name = 'Swarnendu',height = 6,reg = 194310003,sec = 'B')"
   ]
  },
  {
   "cell_type": "code",
   "execution_count": 14,
   "id": "1d4fa588-6f51-4660-bda7-b02ba25d85a1",
   "metadata": {},
   "outputs": [
    {
     "data": {
      "text/plain": [
       "'Swarnendu'"
      ]
     },
     "execution_count": 14,
     "metadata": {},
     "output_type": "execute_result"
    }
   ],
   "source": [
    "Student1.name"
   ]
  },
  {
   "cell_type": "code",
   "execution_count": 16,
   "id": "322a03d6-539a-4436-a212-80dd27ae2e0e",
   "metadata": {},
   "outputs": [
    {
     "data": {
      "text/plain": [
       "194310003"
      ]
     },
     "execution_count": 16,
     "metadata": {},
     "output_type": "execute_result"
    }
   ],
   "source": [
    "Student1.registration"
   ]
  },
  {
   "cell_type": "code",
   "execution_count": 17,
   "id": "61937024-5c7b-4485-be83-c660574b6df1",
   "metadata": {},
   "outputs": [
    {
     "data": {
      "text/plain": [
       "'B'"
      ]
     },
     "execution_count": 17,
     "metadata": {},
     "output_type": "execute_result"
    }
   ],
   "source": [
    "Student1.section"
   ]
  },
  {
   "cell_type": "code",
   "execution_count": null,
   "id": "2bb78dc4-042e-475d-b15b-14dd8a304c8b",
   "metadata": {},
   "outputs": [],
   "source": []
  },
  {
   "cell_type": "code",
   "execution_count": null,
   "id": "e5d5f07b-0d8a-4306-a3a8-2f2fdbd347b8",
   "metadata": {},
   "outputs": [],
   "source": []
  },
  {
   "cell_type": "code",
   "execution_count": null,
   "id": "71ef3668-83d9-43f2-9b62-229d723306f5",
   "metadata": {},
   "outputs": [],
   "source": []
  },
  {
   "cell_type": "code",
   "execution_count": null,
   "id": "9a5730d8-aab2-4310-a987-c8ecd46adc40",
   "metadata": {},
   "outputs": [],
   "source": []
  },
  {
   "cell_type": "code",
   "execution_count": null,
   "id": "a94377e4-385f-4cf3-aeb9-2d28f163d591",
   "metadata": {},
   "outputs": [],
   "source": []
  }
 ],
 "metadata": {
  "kernelspec": {
   "display_name": "Python 3 (ipykernel)",
   "language": "python",
   "name": "python3"
  },
  "language_info": {
   "codemirror_mode": {
    "name": "ipython",
    "version": 3
   },
   "file_extension": ".py",
   "mimetype": "text/x-python",
   "name": "python",
   "nbconvert_exporter": "python",
   "pygments_lexer": "ipython3",
   "version": "3.10.9"
  }
 },
 "nbformat": 4,
 "nbformat_minor": 5
}
