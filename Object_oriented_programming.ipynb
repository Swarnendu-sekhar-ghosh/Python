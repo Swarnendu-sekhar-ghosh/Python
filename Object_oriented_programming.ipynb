{
 "cells": [
  {
   "cell_type": "markdown",
   "id": "f3f9336d-965c-4f2c-9e0a-7926b0612d06",
   "metadata": {},
   "source": [
    "During practice I have referred to definition of the book \"Python Crash course\" by eric matthes"
   ]
  },
  {
   "cell_type": "markdown",
   "id": "c7ed7d59-3826-49cc-a801-cede682d1cb9",
   "metadata": {},
   "source": [
    "A class represents real world items/ things or situations and we create objects based on these classes. \n",
    "So by a class we define the general behaviour that a whole category of objects can have.\n",
    "When we create an object from the class, each object is equipped with the general behaviour. Now every object can be given any unique traits that we desire.\n",
    "Making an object from a class is called instantiation, and we work with instances of a class. \n",
    "\n"
   ]
  },
  {
   "cell_type": "markdown",
   "id": "551e095a-398e-4c5a-af8f-533a973ebff3",
   "metadata": {},
   "source": [
    "**CREATING A STUDENT CLASS**"
   ]
  },
  {
   "cell_type": "code",
   "execution_count": 41,
   "id": "930f8f0a-8776-40ea-b57c-3f89119a6775",
   "metadata": {},
   "outputs": [],
   "source": [
    "class Student():\n",
    "    def __init__(self,name,height,reg,sec):\n",
    "        self.name = name\n",
    "        self.height = height\n",
    "        self.registration = reg\n",
    "        self.section = sec"
   ]
  },
  {
   "cell_type": "markdown",
   "id": "2f5a1692-4dbe-4a94-a81f-8582138af5ba",
   "metadata": {},
   "source": [
    "__init__() method\n",
    "\n",
    "**A function that is part of class is called method. All properties of functions apply to methods.**\n",
    "\n",
    "\n",
    "Variables that are accessible through instances are called attributes. Here name, height, reg and section are attributes of Student.\n",
    "\n",
    "So by the convention the capitalized name like Student refers to the class and the lower case name like student1 is the instance created."
   ]
  },
  {
   "cell_type": "code",
   "execution_count": 42,
   "id": "d8fed5d5-fe29-49a2-bcb7-36b00058d816",
   "metadata": {},
   "outputs": [],
   "source": [
    "student1 = Student (name = 'swarnendu',height = 6,reg = 194310003,sec = 'B')"
   ]
  },
  {
   "cell_type": "markdown",
   "id": "c971b26c-8b33-44dd-9759-f58595a3dcd1",
   "metadata": {},
   "source": [
    "**To access the attributes of an instance, you use dot notation.**"
   ]
  },
  {
   "cell_type": "code",
   "execution_count": 43,
   "id": "1d4fa588-6f51-4660-bda7-b02ba25d85a1",
   "metadata": {},
   "outputs": [
    {
     "data": {
      "text/plain": [
       "'swarnendu'"
      ]
     },
     "execution_count": 43,
     "metadata": {},
     "output_type": "execute_result"
    }
   ],
   "source": [
    "student1.name"
   ]
  },
  {
   "cell_type": "code",
   "execution_count": 44,
   "id": "322a03d6-539a-4436-a212-80dd27ae2e0e",
   "metadata": {},
   "outputs": [
    {
     "data": {
      "text/plain": [
       "194310003"
      ]
     },
     "execution_count": 44,
     "metadata": {},
     "output_type": "execute_result"
    }
   ],
   "source": [
    "student1.registration"
   ]
  },
  {
   "cell_type": "code",
   "execution_count": 45,
   "id": "61937024-5c7b-4485-be83-c660574b6df1",
   "metadata": {},
   "outputs": [
    {
     "data": {
      "text/plain": [
       "'B'"
      ]
     },
     "execution_count": 45,
     "metadata": {},
     "output_type": "execute_result"
    }
   ],
   "source": [
    "student1.section"
   ]
  },
  {
   "cell_type": "code",
   "execution_count": 46,
   "id": "2bb78dc4-042e-475d-b15b-14dd8a304c8b",
   "metadata": {},
   "outputs": [
    {
     "name": "stdout",
     "output_type": "stream",
     "text": [
      "Swarnendu is a great guy\n"
     ]
    }
   ],
   "source": [
    "print(student1.name.title() + ' ' + 'is a great guy')"
   ]
  },
  {
   "cell_type": "markdown",
   "id": "bee256f6-1557-4d71-9928-2397a835f52c",
   "metadata": {},
   "source": [
    "**So if we look clearly the name \"swarnendu\" had its first letter in small when we entered it to the instance student1 but here while printing using the .title() made it in capital letter.**"
   ]
  },
  {
   "cell_type": "markdown",
   "id": "3dac47bb-9ae8-4459-a5c5-7c0f84126c2d",
   "metadata": {},
   "source": [
    "**Calling Methods**"
   ]
  },
  {
   "cell_type": "code",
   "execution_count": 47,
   "id": "9a5730d8-aab2-4310-a987-c8ecd46adc40",
   "metadata": {},
   "outputs": [],
   "source": [
    "class Dog():\n",
    "    def __init__(self,name,age):\n",
    "        self.name = name\n",
    "        self.age = age\n",
    "\n",
    "    def sit(self):\n",
    "        print(self.name.title() + ' ' + 'is sitting now')\n",
    "    def roll_over(self):\n",
    "        print(self.name.title() + ' ' + 'is rolling over')\n",
    "         "
   ]
  },
  {
   "cell_type": "code",
   "execution_count": 48,
   "id": "a94377e4-385f-4cf3-aeb9-2d28f163d591",
   "metadata": {},
   "outputs": [],
   "source": [
    "my_dog = Dog(name='Oreo',age=2)"
   ]
  },
  {
   "cell_type": "markdown",
   "id": "e76fab7d-7e61-437a-951b-1e06cf5fa998",
   "metadata": {},
   "source": [
    "**So to call methods we need to give the name of the instance and the method which we want to call.**"
   ]
  },
  {
   "cell_type": "code",
   "execution_count": 49,
   "id": "525324f3-d447-4e16-aa39-785033c5d2f5",
   "metadata": {},
   "outputs": [
    {
     "name": "stdout",
     "output_type": "stream",
     "text": [
      "Oreo is rolling over\n"
     ]
    }
   ],
   "source": [
    "my_dog.roll_over()"
   ]
  },
  {
   "cell_type": "markdown",
   "id": "851d3e5b-25a5-4630-9acf-656b01f1ad2f",
   "metadata": {},
   "source": [
    "**Creating multiple Instances**\n",
    "\n",
    "We can create as many instances as we like from the same class.\n",
    "\n",
    "Even if we used the same name and age for the second dog, Python\n",
    "would still create a separate instance from the Dog class. You can make\r\n",
    "as many instances from one class as you need, as long as you give ea h\r\n",
    "instance a unique variable name or it occupies a unique spot in a list or\r\n",
    "dictionary."
   ]
  },
  {
   "cell_type": "code",
   "execution_count": 50,
   "id": "4da98bb4-3982-4cf8-a2e7-3be2c2dbcb3a",
   "metadata": {},
   "outputs": [
    {
     "name": "stdout",
     "output_type": "stream",
     "text": [
      "Pulse is rolling over\n"
     ]
    }
   ],
   "source": [
    "neighbour_dog = Dog(name='Pulse',age=6)\n",
    "neighbour_dog.roll_over()"
   ]
  },
  {
   "cell_type": "markdown",
   "id": "a09d9b2b-dd9e-4e12-b9d1-1d5e525f2050",
   "metadata": {},
   "source": [
    "**Examples**"
   ]
  },
  {
   "cell_type": "markdown",
   "id": "6d31cd30-a509-43ca-94de-a8d6298e60d0",
   "metadata": {},
   "source": [
    "**Example 9-1 RESTAURANT**"
   ]
  },
  {
   "cell_type": "code",
   "execution_count": 51,
   "id": "acd46802-4386-479a-8a19-1ff3ef25e7cb",
   "metadata": {},
   "outputs": [
    {
     "name": "stdout",
     "output_type": "stream",
     "text": [
      "Mainland China is one of the best Chinese restaurant in the town\n",
      "Mainland China is open today\n"
     ]
    }
   ],
   "source": [
    "class Restaurant():\n",
    "    def __init__(self,restaurant_name,cuisine_type):\n",
    "        self.restaurant_name = restaurant_name\n",
    "        self.cuisine_type = cuisine_type\n",
    "    def describe_restaurant(self):\n",
    "        print(self.restaurant_name + ' ' + 'is one of the best' + ' '+ self.cuisine_type + ' ' + 'restaurant in the town')\n",
    "    def open_restaurant(self):\n",
    "        print(self.restaurant_name + ' ' + 'is open today')\n",
    "\n",
    "restaurant1 = Restaurant(restaurant_name= 'Mainland China' , cuisine_type= 'Chinese' )\n",
    "restaurant1.describe_restaurant()\n",
    "restaurant1.open_restaurant()"
   ]
  },
  {
   "cell_type": "markdown",
   "id": "1823323b-e46f-4f6f-8ba1-aebac6713433",
   "metadata": {},
   "source": [
    "**EXAMPLE 9-2 THREE RESTAURANT**"
   ]
  },
  {
   "cell_type": "code",
   "execution_count": 52,
   "id": "b4d2d1a5-74c2-4075-ba82-f948d6e41e21",
   "metadata": {},
   "outputs": [
    {
     "name": "stdout",
     "output_type": "stream",
     "text": [
      "Bijoli Grill is one of the best Bengali restaurant in the town\n",
      "Origami is one of the best Korean restaurant in the town\n",
      "Madeira and Mime is one of the best Continental restaurant in the town\n"
     ]
    }
   ],
   "source": [
    "restaurant2 = Restaurant(restaurant_name ='Bijoli Grill',cuisine_type='Bengali')\n",
    "restaurant3 = Restaurant(restaurant_name = 'Origami', cuisine_type='Korean')\n",
    "restaurant4 = Restaurant(restaurant_name= 'Madeira and Mime',cuisine_type='Continental')\n",
    "\n",
    "restaurant2.describe_restaurant()\n",
    "restaurant3.describe_restaurant()\n",
    "restaurant4.describe_restaurant()"
   ]
  },
  {
   "cell_type": "code",
   "execution_count": 53,
   "id": "bb8075d2-ca26-4b0e-a9bd-7384969ad2a8",
   "metadata": {},
   "outputs": [],
   "source": [
    "class User():\n",
    "    def __init__(self,first_name,last_name,age,occupation,religion,country,sex,email_id):\n",
    "        self.first_name = first_name\n",
    "        self.last_name = last_name\n",
    "        self.age = age\n",
    "        self.occupation = occupation\n",
    "        self.religion = religion\n",
    "        self.country = country\n",
    "        self.sex = sex\n",
    "        self.email_id = email_id\n",
    "    def greet_user(self):\n",
    "        print('Good morning' + ' ' + self.first_name + self.last_name)\n",
    "\n",
    "        "
   ]
  },
  {
   "cell_type": "markdown",
   "id": "cf71942c-616a-4093-8d80-7556f102c1c6",
   "metadata": {},
   "source": [
    "**A DIFFERENT KIND OF EXAMPLE WITH METHODS INCLUDING NUMBERS. WE USE .format method here within the class\"**"
   ]
  },
  {
   "cell_type": "code",
   "execution_count": 54,
   "id": "b80fa06a-6ac3-43d8-a505-5916f0995893",
   "metadata": {},
   "outputs": [],
   "source": [
    "class Cat():\n",
    "    # This \" class object attribute\" now applies for any instance created under this class\n",
    "    species = 'mammals'\n",
    "    \n",
    "    def __init__(self,name,age,colour):\n",
    "        self.name = name\n",
    "        self.age = age\n",
    "        self.colour = colour\n",
    "\n",
    "    def purr(self,number):\n",
    "        print('The name of my cat is {} and it purrs {} times a day'.format(self.name,number))\n",
    "\n",
    "        "
   ]
  },
  {
   "cell_type": "code",
   "execution_count": 55,
   "id": "2cb38a33-6d98-4c23-909d-dca1c243faf6",
   "metadata": {},
   "outputs": [
    {
     "name": "stdout",
     "output_type": "stream",
     "text": [
      "The name of my cat is lusy and it purrs 50 times a day\n"
     ]
    }
   ],
   "source": [
    "cat1 = Cat('lusy',5,'orange')\n",
    "cat1.purr(50)"
   ]
  },
  {
   "cell_type": "markdown",
   "id": "cdd0e4f8-e1f0-4120-8998-210bfced88f6",
   "metadata": {},
   "source": [
    "**Circle Circumference and Area Example**"
   ]
  },
  {
   "cell_type": "code",
   "execution_count": 63,
   "id": "6a810268-aa2e-44fc-a77a-6f32961dfded",
   "metadata": {},
   "outputs": [],
   "source": [
    "class Circle():\n",
    "    #class attribute\n",
    "    pi = 3.14\n",
    "\n",
    "    def __init__(self,radius = 1):            # this is just an early defined value if you want to define the attribute here buut you change later\n",
    "        self.radius = radius\n",
    "\n",
    "    def get_circumference(self):\n",
    "        return 2*Circle.pi*self.radius\n",
    "\n",
    "    def get_area(self):\n",
    "        return self.pi*self.radius**2"
   ]
  },
  {
   "cell_type": "code",
   "execution_count": 65,
   "id": "5e64f7ae-ceaa-43a1-97fa-e03731e8d909",
   "metadata": {},
   "outputs": [],
   "source": [
    "circle1 = Circle(30)"
   ]
  },
  {
   "cell_type": "code",
   "execution_count": 67,
   "id": "eed7e569-fedb-4264-b317-5bc4817120ba",
   "metadata": {},
   "outputs": [
    {
     "data": {
      "text/plain": [
       "2826.0"
      ]
     },
     "execution_count": 67,
     "metadata": {},
     "output_type": "execute_result"
    }
   ],
   "source": [
    "circle1.get_area()"
   ]
  },
  {
   "cell_type": "code",
   "execution_count": 68,
   "id": "769e4bf9-bc0a-4ed0-925d-eb7238c98711",
   "metadata": {},
   "outputs": [
    {
     "data": {
      "text/plain": [
       "188.4"
      ]
     },
     "execution_count": 68,
     "metadata": {},
     "output_type": "execute_result"
    }
   ],
   "source": [
    "circle1.get_circumference()"
   ]
  },
  {
   "cell_type": "code",
   "execution_count": null,
   "id": "67bcd627-c285-4696-880e-a408e6775fb2",
   "metadata": {},
   "outputs": [],
   "source": []
  },
  {
   "cell_type": "code",
   "execution_count": null,
   "id": "41ea819c-73f3-47f4-8983-da28d0127f3e",
   "metadata": {},
   "outputs": [],
   "source": []
  },
  {
   "cell_type": "code",
   "execution_count": null,
   "id": "3ebb66e9-4515-4213-95bf-bbc50bf74943",
   "metadata": {},
   "outputs": [],
   "source": []
  }
 ],
 "metadata": {
  "kernelspec": {
   "display_name": "Python 3 (ipykernel)",
   "language": "python",
   "name": "python3"
  },
  "language_info": {
   "codemirror_mode": {
    "name": "ipython",
    "version": 3
   },
   "file_extension": ".py",
   "mimetype": "text/x-python",
   "name": "python",
   "nbconvert_exporter": "python",
   "pygments_lexer": "ipython3",
   "version": "3.10.9"
  }
 },
 "nbformat": 4,
 "nbformat_minor": 5
}
