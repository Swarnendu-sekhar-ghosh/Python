{
 "cells": [
  {
   "cell_type": "markdown",
   "id": "796f23eb",
   "metadata": {},
   "source": [
    "# WHAT IS A LIST?\n",
    "\n",
    "A list is a collection of items in a particular order. We can put anyhting that we want to put in a list and the items in your list dotn have to be related in any particular way. In python sqaure brackets ( [ ] ) indicate a list. \n",
    "\n",
    "# <font color = 'green'> Accessing elements in a list</font>"
   ]
  },
  {
   "cell_type": "code",
   "execution_count": 38,
   "id": "0ee0e2fe",
   "metadata": {},
   "outputs": [
    {
     "name": "stdout",
     "output_type": "stream",
     "text": [
      "['avon', 'hercules', ' firefox', 'hero']\n",
      "avon\n",
      "My first bicycle was from the Hero company.\n"
     ]
    }
   ],
   "source": [
    "bicycles = ['avon', 'hercules', ' firefox', 'hero']\n",
    "print(bicycles)\n",
    "print(bicycles[0])\n",
    "\n",
    "message = \"My first bicycle was from the \" + bicycles[3].title() + ' company.'\n",
    "print(message)"
   ]
  },
  {
   "cell_type": "code",
   "execution_count": 9,
   "id": "47e65bc6",
   "metadata": {},
   "outputs": [
    {
     "name": "stdout",
     "output_type": "stream",
     "text": [
      "Sandeep\n",
      "Abhinav\n",
      "Ashmitha\n",
      "Subhayan\n",
      "Sandeep is a student of CSRE \n",
      "Abhinav is a student of CSRE \n",
      "Ashmitha is a student of CSRE \n",
      "Subhayan is a student of CSRE \n",
      "I would like to own an Audi car\n",
      "I would like to own a Scania bus\n",
      "I would like to own a Firefox cycle\n"
     ]
    }
   ],
   "source": [
    "# try it yourself\n",
    "\n",
    "#3-1\n",
    "names = ['Sandeep', 'Abhinav', 'Ashmitha','Subhayan']\n",
    "\n",
    "friend1 = names[0]\n",
    "print(friend1)\n",
    "\n",
    "friend2 = names[1]\n",
    "print(friend2)\n",
    "\n",
    "friend3 = names[2]\n",
    "print(friend3)\n",
    "\n",
    "friend4 = names[3]\n",
    "print(friend4)\n",
    "\n",
    "#3-2\n",
    "\n",
    "for item in range(len(names)):\n",
    "    print(names[item] + \" is a student of CSRE \")\n",
    "\n",
    "\n",
    "#3-3\n",
    "\n",
    "transport = [\"car\", \"bus\", \"cycle\"]\n",
    "statements = [\"I would like to own an Audi \", \"I would like to own a Scania \",\"I would like to own a Firefox \"]\n",
    "\n",
    "for item in range(len(transport)) and range(len(statements)):\n",
    "    #for item in range(len(statements)):\n",
    "        print(statements[item] + transport[item])\n"
   ]
  },
  {
   "cell_type": "markdown",
   "id": "cf0d5dd0",
   "metadata": {},
   "source": [
    "#  Changing, Adding and Removing Elements\n",
    "\n",
    "Most lists that we will be creating will be dynamic meaning that we will build a list and then add and remove elements from it as our program runs its course. \n",
    "\n",
    "# <font color = 'green'> Modifying elements in a list </font>\n",
    "\n",
    "\n",
    "The syntax for modifying an element is similar to the syntax for accessing an element in a list. To change an element we use the name of the list followed by the index of the element we want to change, and then we provide the new value that we want that item to have. "
   ]
  },
  {
   "cell_type": "code",
   "execution_count": 39,
   "id": "a9a0780b",
   "metadata": {},
   "outputs": [
    {
     "name": "stdout",
     "output_type": "stream",
     "text": [
      "['avon', 'hercules', ' firefox', 'hero']\n",
      "['bwin', 'hercules', ' firefox', 'hero']\n"
     ]
    }
   ],
   "source": [
    "bicycles = ['avon', 'hercules', ' firefox', 'hero']\n",
    "print(bicycles)\n",
    "bicycles[0] = 'bwin'\n",
    "print(bicycles)\n",
    "\n",
    "# In the similar manner we can change an element of a list in the same manner."
   ]
  },
  {
   "cell_type": "markdown",
   "id": "37ef99b6",
   "metadata": {},
   "source": [
    "# <font color = 'green'> Adding elements to a list </font>\n",
    "\n",
    "We may want to add a new element to a list for many reasons. Can be done in various ways:\n",
    "\n",
    "1. Appending elements to the end of a list.\n",
    "2. Inserting elements into a list.\n",
    "\n",
    "# <font color = 'blue'> 1. Appending elements to the end of a list. </font>\n",
    "\n",
    "Building our lists in this way is very common as most of the times we wont know the data our users want to store in a program until after the program is running. To put our users in control we start by defining an empty list that will hold the users values. Then we append each value provided to the list we just created."
   ]
  },
  {
   "cell_type": "code",
   "execution_count": 40,
   "id": "bee61ed8",
   "metadata": {},
   "outputs": [
    {
     "name": "stdout",
     "output_type": "stream",
     "text": [
      "['bwin', 'hercules', ' firefox', 'hero']\n",
      "['bwin', 'hercules', ' firefox', 'hero', 'avon']\n",
      "['Ducati', 'Honda', 'Suzuki', 'Yamaha']\n"
     ]
    }
   ],
   "source": [
    "print(bicycles)\n",
    "bicycles.append('avon')\n",
    "print(bicycles)\n",
    "\n",
    "# The append() method makes it easy to build lists dynamically. \n",
    "# For example we can start with an empty list and then add items to the list using a series of append() statements.\n",
    "\n",
    "motorcycles = []\n",
    "\n",
    "motorcycles.append('Ducati')\n",
    "motorcycles.append('Honda')\n",
    "motorcycles.append('Suzuki')\n",
    "motorcycles.append('Yamaha')\n",
    "\n",
    "print(motorcycles)\n"
   ]
  },
  {
   "cell_type": "markdown",
   "id": "47da0925",
   "metadata": {},
   "source": [
    "# <font color = 'blue'> 2. Inserting elements into a list.</font>\n",
    "\n",
    "We can add new element at any position in our list by using the insert() method. We can do this by specifying the index of the new element and the value of the new item. \n"
   ]
  },
  {
   "cell_type": "code",
   "execution_count": 41,
   "id": "4c4d4717",
   "metadata": {},
   "outputs": [
    {
     "name": "stdout",
     "output_type": "stream",
     "text": [
      "['Ducati', 'Honda', 'Suzuki', 'Yamaha']\n",
      "['Ducati', 'Mercedes', 'Honda', 'Suzuki', 'Yamaha']\n",
      "['Ducati', 'Mercedes', 'Honda', 'Suzuki', 'Triumph', 'Yamaha']\n"
     ]
    }
   ],
   "source": [
    "motorcycles = ['Ducati','Honda', 'Suzuki','Yamaha']\n",
    "\n",
    "print(motorcycles)\n",
    "motorcycles.insert(1,'Mercedes')\n",
    "print(motorcycles)\n",
    "\n",
    "motorcycles.insert(4,'Triumph')\n",
    "print(motorcycles)"
   ]
  },
  {
   "cell_type": "markdown",
   "id": "60aaa4cd",
   "metadata": {},
   "source": [
    "# <font color = 'green'> Removing elements to a list </font>\n",
    "\n",
    "Often we will want to remove an item or set of items from a list.\n",
    "\n",
    "1. Removing an item using the del statement.\n",
    "2. Removing an Item using the pop( ) method.\n",
    "3. Popping Items from any position in a list.\n",
    "4. Removing an item by value. \n",
    "\n",
    "\n",
    "# <font color = 'blue'> 1. Removing an item using the del statement. </font>\n",
    "\n",
    "We can remove any item from the list using the del statement\n"
   ]
  },
  {
   "cell_type": "code",
   "execution_count": 42,
   "id": "8f58ce85",
   "metadata": {},
   "outputs": [
    {
     "name": "stdout",
     "output_type": "stream",
     "text": [
      "['Ducati', 'Mercedes', 'Honda', 'Suzuki', 'Triumph', 'Yamaha']\n",
      "['Ducati', 'Honda', 'Suzuki', 'Triumph', 'Yamaha']\n"
     ]
    }
   ],
   "source": [
    "motorcycles = ['Ducati', 'Mercedes', 'Honda', 'Suzuki', 'Triumph', 'Yamaha']\n",
    "print(motorcycles)\n",
    "del motorcycles[1]\n",
    "print(motorcycles)"
   ]
  },
  {
   "cell_type": "markdown",
   "id": "4d9a715d",
   "metadata": {},
   "source": [
    "# <font color = 'blue'> 2. Removing an Item using the pop( ) method. </font>\n",
    "\n",
    "We can use pop ( ) method to remove any item from a list.\n",
    "\n",
    "# <font color = 'blue'> 3. Popping Items from any position in a list. </font>\n",
    "we can even specifically mention the index of the item within the **pop ( index)** method. We should rememeber that once an item is popped the item we work with is no longer in the list."
   ]
  },
  {
   "cell_type": "code",
   "execution_count": 43,
   "id": "12ccc47e",
   "metadata": {},
   "outputs": [
    {
     "name": "stdout",
     "output_type": "stream",
     "text": [
      "Yamaha\n",
      "The most recent motorcycle by me is my brand new Yamaha.\n"
     ]
    }
   ],
   "source": [
    "motorcycles = ['Ducati', 'Mercedes', 'Honda', 'Suzuki', 'Triumph', 'Yamaha']\n",
    "recent_motorcycle = motorcycles.pop(-1)\n",
    "print(recent_motorcycle)\n",
    "print(\"The most recent motorcycle by me is my brand new \" + recent_motorcycle.title()+'.' )"
   ]
  },
  {
   "cell_type": "markdown",
   "id": "efe15480",
   "metadata": {},
   "source": [
    "# <font color = 'blue'> 4. Removing an item by value.  </font>\n",
    "\n",
    "Sometimes we may not know index/position of the value that we want to remove from a list. If we know the value of the iitem we want to remove we can use the **remove ( ) method**"
   ]
  },
  {
   "cell_type": "code",
   "execution_count": 44,
   "id": "83b9b1ed",
   "metadata": {},
   "outputs": [
    {
     "name": "stdout",
     "output_type": "stream",
     "text": [
      "['Ducati', 'Honda', 'Suzuki', 'Triumph', 'Yamaha']\n"
     ]
    }
   ],
   "source": [
    "motorcycles = ['Ducati', 'Mercedes', 'Honda', 'Suzuki', 'Triumph', 'Yamaha']\n",
    "motorcycles.remove('Mercedes')\n",
    "print(motorcycles)"
   ]
  },
  {
   "cell_type": "code",
   "execution_count": null,
   "id": "55a555d0",
   "metadata": {},
   "outputs": [],
   "source": [
    "# try it yourself"
   ]
  },
  {
   "cell_type": "markdown",
   "id": "b17c019e",
   "metadata": {},
   "source": [
    "# Organizing a list\n",
    "\n",
    "Often our lists will be created in an unpredictable order, because we cannot control the order in which our users provide the data. Athough this is unavoidable but we would want to present our list in a particular order. Sometimes we may want to preserve the original order of the list while sometimes we would want to change it. Python provides a number of ways to organize our lists depending on the situation. \n",
    "\n",
    "# <font color = 'green'> Sorting a list permanently with the sort ( ) method </font>\n",
    "\n",
    "Pythons **sort (  ) method** makes it relatively easy to sort a list but changes the order of the list **permanently**. "
   ]
  },
  {
   "cell_type": "code",
   "execution_count": 11,
   "id": "0a87948e",
   "metadata": {},
   "outputs": [
    {
     "name": "stdout",
     "output_type": "stream",
     "text": [
      "['audi', 'bmw', 'subaru', 'toyota']\n",
      "['toyota', 'subaru', 'bmw', 'audi']\n"
     ]
    }
   ],
   "source": [
    "cars = ['bmw', 'audi', 'toyota', 'subaru']\n",
    "cars.sort()\n",
    "print(cars)\n",
    "cars.sort(reverse = True)\n",
    "print(cars)"
   ]
  },
  {
   "cell_type": "markdown",
   "id": "8da371e9",
   "metadata": {},
   "source": [
    "# <font color = 'green'> Sorting a list temporarily with the sorted ( ) function </font>\n",
    "\n",
    "To maintain the original order of a list but present it in a sorted order, we can use the sorted ( ) function. "
   ]
  },
  {
   "cell_type": "code",
   "execution_count": 14,
   "id": "2044b3cd",
   "metadata": {},
   "outputs": [
    {
     "name": "stdout",
     "output_type": "stream",
     "text": [
      "Here is the original list: \n",
      "['bmw', 'audi', 'toyota', 'subaru']\n",
      "\n",
      "Here is the sorted list\n",
      "['audi', 'bmw', 'subaru', 'toyota']\n",
      "\n",
      "Here we print back again the original list\n",
      "['bmw', 'audi', 'toyota', 'subaru']\n"
     ]
    }
   ],
   "source": [
    "cars = ['bmw', 'audi', 'toyota', 'subaru']\n",
    "\n",
    "print(\"Here is the original list: \")\n",
    "print(cars)\n",
    "\n",
    "print(\"\\nHere is the sorted list\")\n",
    "print(sorted(cars))\n",
    "\n",
    "print(\"\\nHere we print back again the original list\")\n",
    "print(cars)\n",
    "\n",
    "# if we see clearly the order of the original list is preserved here."
   ]
  },
  {
   "cell_type": "markdown",
   "id": "f6344958",
   "metadata": {},
   "source": [
    "# <font color = 'green'> Printing a list in reverse order </font>\n",
    "\n",
    "To reverse the original order of a list we can use the reverse( ) method. If we originally stored the list of cars in chronological order according to when we owned them, we could easily rearrange the list into the reverse chronological order. "
   ]
  },
  {
   "cell_type": "code",
   "execution_count": 19,
   "id": "03def45b",
   "metadata": {},
   "outputs": [
    {
     "name": "stdout",
     "output_type": "stream",
     "text": [
      "['bmw', 'audi', 'toyota', 'subaru']\n",
      "['subaru', 'toyota', 'audi', 'bmw']\n",
      "['bmw', 'audi', 'toyota', 'subaru']\n"
     ]
    }
   ],
   "source": [
    "cars = ['bmw', 'audi', 'toyota', 'subaru']\n",
    "print(cars)\n",
    "\n",
    "cars.reverse()\n",
    "print(cars)\n",
    "\n",
    "# reverse () method changes the order of a list permanently but we can revert back the original order anytime.\n",
    "# we just have to apply the reverse method again second time to the same reversed list.\n",
    "\n",
    "cars.reverse()\n",
    "print(cars)\n",
    "\n"
   ]
  },
  {
   "cell_type": "markdown",
   "id": "7fcfc128",
   "metadata": {},
   "source": [
    "# <font color = 'green'> Finding the length of a list </font>\n",
    "\n",
    "We can quickly find the length of a list using the len () function.  \n"
   ]
  },
  {
   "cell_type": "code",
   "execution_count": 20,
   "id": "413f519b",
   "metadata": {},
   "outputs": [
    {
     "name": "stdout",
     "output_type": "stream",
     "text": [
      "Length of the list is: 4\n"
     ]
    }
   ],
   "source": [
    "cars = ['bmw', 'audi', 'toyota', 'subaru']\n",
    "print(\"Length of the list is: \" + str(len(cars)))\n",
    "\n",
    "# python counts the items in a list starting with one, so we shouldnt run into any off-by-one erros when \n",
    "# determining the length of a list."
   ]
  },
  {
   "cell_type": "code",
   "execution_count": null,
   "id": "6ce1775f",
   "metadata": {},
   "outputs": [],
   "source": [
    "# try it yourself"
   ]
  },
  {
   "cell_type": "markdown",
   "id": "d85d4c46",
   "metadata": {},
   "source": [
    "# Avoiding Index errors when working with lists\n",
    "\n",
    "<font color = 'red'> An index error means Python cant figure out the index we requested. If an index error occurs in our program, try adjusting the index we are asking for by one. Then we should run the program again tosee if the results are correct. W should keep in mind that whenever we want toa cess the last item in a list we should use the index -1. This will always work, evem if our list has chaned sze since the las ttime we accessed it. </font>"
   ]
  }
 ],
 "metadata": {
  "kernelspec": {
   "display_name": "Python 3 (ipykernel)",
   "language": "python",
   "name": "python3"
  },
  "language_info": {
   "codemirror_mode": {
    "name": "ipython",
    "version": 3
   },
   "file_extension": ".py",
   "mimetype": "text/x-python",
   "name": "python",
   "nbconvert_exporter": "python",
   "pygments_lexer": "ipython3",
   "version": "3.9.13"
  }
 },
 "nbformat": 4,
 "nbformat_minor": 5
}
