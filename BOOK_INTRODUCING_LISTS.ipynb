{
 "cells": [
  {
   "cell_type": "markdown",
   "id": "796f23eb",
   "metadata": {},
   "source": [
    "# WHAT IS A LIST?\n",
    "\n",
    "A list is a collection of items in a particular order. We can put anyhting that we want to put in a list and the items in your list dotn have to be related in any particular way. In python sqaure brackets ( [ ] ) indicate a list. \n",
    "\n",
    "# <font color = 'green'> Accessing elements in a list</font>"
   ]
  },
  {
   "cell_type": "code",
   "execution_count": 38,
   "id": "0ee0e2fe",
   "metadata": {},
   "outputs": [
    {
     "name": "stdout",
     "output_type": "stream",
     "text": [
      "['avon', 'hercules', ' firefox', 'hero']\n",
      "avon\n",
      "My first bicycle was from the Hero company.\n"
     ]
    }
   ],
   "source": [
    "bicycles = ['avon', 'hercules', ' firefox', 'hero']\n",
    "print(bicycles)\n",
    "print(bicycles[0])\n",
    "\n",
    "message = \"My first bicycle was from the \" + bicycles[3].title() + ' company.'\n",
    "print(message)"
   ]
  },
  {
   "cell_type": "markdown",
   "id": "cf0d5dd0",
   "metadata": {},
   "source": [
    "#  Changing, Adding and Removing Elements\n",
    "\n",
    "Most lists that we will be creating will be dynamic meaning that we will build a list and then add and remove elements from it as our program runs its course. \n",
    "\n",
    "# <font color = 'green'> Modifying elements in a list </font>\n",
    "\n",
    "\n",
    "The syntax for modifying an element is similar to the syntax for accessing an element in a list. To change an element we use the name of the list followed by the index of the element we want to change, and then we provide the new value that we want that item to have. "
   ]
  },
  {
   "cell_type": "code",
   "execution_count": 39,
   "id": "a9a0780b",
   "metadata": {},
   "outputs": [
    {
     "name": "stdout",
     "output_type": "stream",
     "text": [
      "['avon', 'hercules', ' firefox', 'hero']\n",
      "['bwin', 'hercules', ' firefox', 'hero']\n"
     ]
    }
   ],
   "source": [
    "bicycles = ['avon', 'hercules', ' firefox', 'hero']\n",
    "print(bicycles)\n",
    "bicycles[0] = 'bwin'\n",
    "print(bicycles)\n",
    "\n",
    "# In the similar manner we can change an element of a list in the same manner."
   ]
  },
  {
   "cell_type": "markdown",
   "id": "37ef99b6",
   "metadata": {},
   "source": [
    "# <font color = 'green'> Adding elements to a list </font>\n",
    "\n",
    "We may want to add a new element to a list for many reasons. Can be done in various ways:\n",
    "\n",
    "1. Appending elements to the end of a list.\n",
    "2. Inserting elements into a list.\n",
    "\n",
    "# <font color = 'blue'> 1. Appending elements to the end of a list. </font>\n",
    "\n",
    "Building our lists in this way is very common as most of the times we wont know the data our users want to store in a program until after the program is running. To put our users in control we start by defining an empty list that will hold the users values. Then we append each value provided to the list we just created."
   ]
  },
  {
   "cell_type": "code",
   "execution_count": 40,
   "id": "bee61ed8",
   "metadata": {},
   "outputs": [
    {
     "name": "stdout",
     "output_type": "stream",
     "text": [
      "['bwin', 'hercules', ' firefox', 'hero']\n",
      "['bwin', 'hercules', ' firefox', 'hero', 'avon']\n",
      "['Ducati', 'Honda', 'Suzuki', 'Yamaha']\n"
     ]
    }
   ],
   "source": [
    "print(bicycles)\n",
    "bicycles.append('avon')\n",
    "print(bicycles)\n",
    "\n",
    "# The append() method makes it easy to build lists dynamically. \n",
    "# For example we can start with an empty list and then add items to the list using a series of append() statements.\n",
    "\n",
    "motorcycles = []\n",
    "\n",
    "motorcycles.append('Ducati')\n",
    "motorcycles.append('Honda')\n",
    "motorcycles.append('Suzuki')\n",
    "motorcycles.append('Yamaha')\n",
    "\n",
    "print(motorcycles)\n"
   ]
  },
  {
   "cell_type": "markdown",
   "id": "47da0925",
   "metadata": {},
   "source": [
    "# <font color = 'blue'> 2. Inserting elements into a list.</font>\n",
    "\n",
    "We can add new element at any position in our list by using the insert() method. We can do this by specifying the index of the new element and the value of the new item. \n"
   ]
  },
  {
   "cell_type": "code",
   "execution_count": 41,
   "id": "4c4d4717",
   "metadata": {},
   "outputs": [
    {
     "name": "stdout",
     "output_type": "stream",
     "text": [
      "['Ducati', 'Honda', 'Suzuki', 'Yamaha']\n",
      "['Ducati', 'Mercedes', 'Honda', 'Suzuki', 'Yamaha']\n",
      "['Ducati', 'Mercedes', 'Honda', 'Suzuki', 'Triumph', 'Yamaha']\n"
     ]
    }
   ],
   "source": [
    "motorcycles = ['Ducati','Honda', 'Suzuki','Yamaha']\n",
    "\n",
    "print(motorcycles)\n",
    "motorcycles.insert(1,'Mercedes')\n",
    "print(motorcycles)\n",
    "\n",
    "motorcycles.insert(4,'Triumph')\n",
    "print(motorcycles)"
   ]
  },
  {
   "cell_type": "markdown",
   "id": "60aaa4cd",
   "metadata": {},
   "source": [
    "# <font color = 'green'> Removing elements to a list </font>\n",
    "\n",
    "Often we will want to remove an item or set of items from a list.\n",
    "\n",
    "1. Removing an item using the del statement.\n",
    "2. Removing an Item using the pop( ) method.\n",
    "3. Popping Items from any position in a list.\n",
    "4. Removing an item by value. \n",
    "\n",
    "\n",
    "# <font color = 'blue'> 1. Removing an item using the del statement. </font>\n",
    "\n",
    "We can remove any item from the list using the del statement\n"
   ]
  },
  {
   "cell_type": "code",
   "execution_count": 42,
   "id": "8f58ce85",
   "metadata": {},
   "outputs": [
    {
     "name": "stdout",
     "output_type": "stream",
     "text": [
      "['Ducati', 'Mercedes', 'Honda', 'Suzuki', 'Triumph', 'Yamaha']\n",
      "['Ducati', 'Honda', 'Suzuki', 'Triumph', 'Yamaha']\n"
     ]
    }
   ],
   "source": [
    "motorcycles = ['Ducati', 'Mercedes', 'Honda', 'Suzuki', 'Triumph', 'Yamaha']\n",
    "print(motorcycles)\n",
    "del motorcycles[1]\n",
    "print(motorcycles)"
   ]
  },
  {
   "cell_type": "markdown",
   "id": "4d9a715d",
   "metadata": {},
   "source": [
    "# <font color = 'blue'> 2. Removing an Item using the pop( ) method. </font>\n",
    "\n",
    "We can use pop ( ) method to remove any item from a list.\n",
    "\n",
    "# <font color = 'blue'> 3. Popping Items from any position in a list. </font>\n",
    "we can even specifically mention the index of the item within the **pop ( index)** method. We should rememeber that once an item is popped the item we work with is no longer in the list."
   ]
  },
  {
   "cell_type": "code",
   "execution_count": 43,
   "id": "12ccc47e",
   "metadata": {},
   "outputs": [
    {
     "name": "stdout",
     "output_type": "stream",
     "text": [
      "Yamaha\n",
      "The most recent motorcycle by me is my brand new Yamaha.\n"
     ]
    }
   ],
   "source": [
    "motorcycles = ['Ducati', 'Mercedes', 'Honda', 'Suzuki', 'Triumph', 'Yamaha']\n",
    "recent_motorcycle = motorcycles.pop(-1)\n",
    "print(recent_motorcycle)\n",
    "print(\"The most recent motorcycle by me is my brand new \" + recent_motorcycle.title()+'.' )"
   ]
  },
  {
   "cell_type": "markdown",
   "id": "efe15480",
   "metadata": {},
   "source": [
    "# <font color = 'blue'> 4. Removing an item by value.  </font>\n",
    "\n",
    "Sometimes we may not know index/position of the value that we want to remove from a list. If we know the value of the iitem we want to remove we can use the **remove ( ) method**"
   ]
  },
  {
   "cell_type": "code",
   "execution_count": 44,
   "id": "83b9b1ed",
   "metadata": {},
   "outputs": [
    {
     "name": "stdout",
     "output_type": "stream",
     "text": [
      "['Ducati', 'Honda', 'Suzuki', 'Triumph', 'Yamaha']\n"
     ]
    }
   ],
   "source": [
    "motorcycles = ['Ducati', 'Mercedes', 'Honda', 'Suzuki', 'Triumph', 'Yamaha']\n",
    "motorcycles.remove('Mercedes')\n",
    "print(motorcycles)"
   ]
  },
  {
   "cell_type": "markdown",
   "id": "b17c019e",
   "metadata": {},
   "source": [
    "# Organizing a list\n"
   ]
  },
  {
   "cell_type": "code",
   "execution_count": null,
   "id": "0a87948e",
   "metadata": {},
   "outputs": [],
   "source": []
  }
 ],
 "metadata": {
  "kernelspec": {
   "display_name": "Python 3 (ipykernel)",
   "language": "python",
   "name": "python3"
  },
  "language_info": {
   "codemirror_mode": {
    "name": "ipython",
    "version": 3
   },
   "file_extension": ".py",
   "mimetype": "text/x-python",
   "name": "python",
   "nbconvert_exporter": "python",
   "pygments_lexer": "ipython3",
   "version": "3.9.13"
  }
 },
 "nbformat": 4,
 "nbformat_minor": 5
}
