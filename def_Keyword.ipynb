{
 "cells": [
  {
   "cell_type": "code",
   "execution_count": 5,
   "id": "0b8bc873",
   "metadata": {},
   "outputs": [],
   "source": [
    "def myname(name):\n",
    "    \"Name of the guy is\"\n",
    "    print (\"Name of the guy is \"+ name )"
   ]
  },
  {
   "cell_type": "code",
   "execution_count": 7,
   "id": "349c4082",
   "metadata": {},
   "outputs": [
    {
     "name": "stdout",
     "output_type": "stream",
     "text": [
      "Name of the guy is Swarnendu\n"
     ]
    }
   ],
   "source": [
    "myname(\"Swarnendu\")"
   ]
  },
  {
   "cell_type": "code",
   "execution_count": 19,
   "id": "917769f9",
   "metadata": {},
   "outputs": [],
   "source": [
    "def return_func(num1,num2):\n",
    "    return(num1 + num2)\n",
    "\n",
    "def print_func(num1,num2):\n",
    "    print(num1+num2)\n",
    "    \n"
   ]
  },
  {
   "cell_type": "code",
   "execution_count": 20,
   "id": "06984acb",
   "metadata": {},
   "outputs": [
    {
     "data": {
      "text/plain": [
       "3"
      ]
     },
     "execution_count": 20,
     "metadata": {},
     "output_type": "execute_result"
    }
   ],
   "source": [
    "return_func(1,2)"
   ]
  },
  {
   "cell_type": "code",
   "execution_count": 22,
   "id": "93d26d69",
   "metadata": {},
   "outputs": [
    {
     "name": "stdout",
     "output_type": "stream",
     "text": [
      "11\n"
     ]
    }
   ],
   "source": [
    "print_func(5,6)"
   ]
  },
  {
   "cell_type": "code",
   "execution_count": 12,
   "id": "70a8742b",
   "metadata": {},
   "outputs": [],
   "source": [
    "#function will check whether number is odd or not\n",
    "\n",
    "def odd_check(number):\n",
    "    result=number%2==0\n",
    "    return(result)"
   ]
  },
  {
   "cell_type": "code",
   "execution_count": 14,
   "id": "46aac982",
   "metadata": {},
   "outputs": [
    {
     "data": {
      "text/plain": [
       "True"
      ]
     },
     "execution_count": 14,
     "metadata": {},
     "output_type": "execute_result"
    }
   ],
   "source": [
    "odd_check(22)"
   ]
  },
  {
   "cell_type": "code",
   "execution_count": 8,
   "id": "e5906c77",
   "metadata": {},
   "outputs": [],
   "source": [
    "#function will return True if any number is even in the list\n",
    "\n",
    "def even_check(list):\n",
    "    for num in list:\n",
    "        if num%2==0:\n",
    "            return True\n",
    "        else:\n",
    "            pass\n",
    "        "
   ]
  },
  {
   "cell_type": "code",
   "execution_count": 9,
   "id": "ec212cc1",
   "metadata": {},
   "outputs": [
    {
     "data": {
      "text/plain": [
       "True"
      ]
     },
     "execution_count": 9,
     "metadata": {},
     "output_type": "execute_result"
    }
   ],
   "source": [
    "even_check([1,2,4,6,10])"
   ]
  },
  {
   "cell_type": "code",
   "execution_count": 33,
   "id": "1e34ba2e",
   "metadata": {},
   "outputs": [],
   "source": [
    "even_check([1,3,5,7])"
   ]
  },
  {
   "cell_type": "markdown",
   "id": "17d10f55",
   "metadata": {},
   "source": [
    "# LOGIC WITH PYTHON FUNCTIONS"
   ]
  },
  {
   "cell_type": "code",
   "execution_count": 17,
   "id": "891c974a",
   "metadata": {},
   "outputs": [],
   "source": [
    "# now if we want to check for odd or even in a list\n",
    "\n",
    "def even_odd_check(list):\n",
    "    for num in list:\n",
    "        if num%2==0:\n",
    "            return True\n",
    "        else:\n",
    "            pass\n",
    "    return False    "
   ]
  },
  {
   "cell_type": "code",
   "execution_count": 20,
   "id": "1889176f",
   "metadata": {},
   "outputs": [
    {
     "data": {
      "text/plain": [
       "True"
      ]
     },
     "execution_count": 20,
     "metadata": {},
     "output_type": "execute_result"
    }
   ],
   "source": [
    "even_odd_check([1,5,9,6,11])"
   ]
  },
  {
   "cell_type": "code",
   "execution_count": 30,
   "id": "24b72ca6",
   "metadata": {},
   "outputs": [],
   "source": [
    "# function adding the found even numbers in the given list to a new list\n",
    "\n",
    "\n",
    "\n",
    "def find_even(list):\n",
    "    #a placeholder variable\n",
    "    even_list=[]\n",
    "    for num in list:\n",
    "        if num%2==0:\n",
    "            even_list.append(num)\n",
    "        else:\n",
    "            pass\n",
    "    return even_list        \n",
    "        "
   ]
  },
  {
   "cell_type": "code",
   "execution_count": 32,
   "id": "e1730320",
   "metadata": {},
   "outputs": [
    {
     "data": {
      "text/plain": [
       "[2, 4, 6, 8, 20, 58]"
      ]
     },
     "execution_count": 32,
     "metadata": {},
     "output_type": "execute_result"
    }
   ],
   "source": [
    "find_even([2,4,6,8,1,7,11,20,45,47,58])"
   ]
  },
  {
   "cell_type": "markdown",
   "id": "44a09ad6",
   "metadata": {},
   "source": [
    "# TUPLE UNPACKING WITH PYTHON FUNCTIONS"
   ]
  },
  {
   "cell_type": "code",
   "execution_count": 34,
   "id": "8ba522ec",
   "metadata": {},
   "outputs": [],
   "source": [
    "list1=[(\"SSG\",6),(\"XYZ\",8),(\"FGH\",10),(\"GGH\",20)]"
   ]
  },
  {
   "cell_type": "code",
   "execution_count": 36,
   "id": "aa07c312",
   "metadata": {},
   "outputs": [
    {
     "name": "stdout",
     "output_type": "stream",
     "text": [
      "SSG\n",
      "XYZ\n",
      "FGH\n",
      "GGH\n"
     ]
    }
   ],
   "source": [
    "for name,hours in list1:\n",
    "    print(name)"
   ]
  },
  {
   "cell_type": "code",
   "execution_count": 38,
   "id": "d13b9b15",
   "metadata": {},
   "outputs": [
    {
     "name": "stdout",
     "output_type": "stream",
     "text": [
      "('SSG', 6)\n",
      "('XYZ', 8)\n",
      "('FGH', 10)\n",
      "('GGH', 20)\n"
     ]
    }
   ],
   "source": [
    "for item in list1:\n",
    "    print (item)"
   ]
  },
  {
   "cell_type": "code",
   "execution_count": 71,
   "id": "14a6ed71",
   "metadata": {},
   "outputs": [],
   "source": [
    "# using a function to unpack tuples in a list and finding the person who sleeps least hours\n",
    "\n",
    "def notlazy(list):\n",
    "    # a placeholder variable\n",
    "    sleephours=15\n",
    "    notlazyguy=''\n",
    "    for person,hours in list:\n",
    "        if hours<sleephours:\n",
    "            sleephours=hours\n",
    "            notlazyguy=person    \n",
    "            \n",
    "        else:\n",
    "            pass\n",
    "        \n",
    "    return(notlazyguy,sleephours)    "
   ]
  },
  {
   "cell_type": "code",
   "execution_count": 72,
   "id": "f0fac05a",
   "metadata": {},
   "outputs": [
    {
     "data": {
      "text/plain": [
       "('SSG', 6)"
      ]
     },
     "execution_count": 72,
     "metadata": {},
     "output_type": "execute_result"
    }
   ],
   "source": [
    "list2=[(\"SSG\",6),(\"XYZ\",7),(\"FGH\",8),(\"GGH\",10)]\n",
    "notlazy(list2)"
   ]
  },
  {
   "cell_type": "markdown",
   "id": "8610bafd",
   "metadata": {},
   "source": [
    "# Interactions between python functions"
   ]
  },
  {
   "cell_type": "code",
   "execution_count": null,
   "id": "8d9dc843",
   "metadata": {},
   "outputs": [],
   "source": []
  },
  {
   "cell_type": "code",
   "execution_count": null,
   "id": "803b3697",
   "metadata": {},
   "outputs": [],
   "source": []
  },
  {
   "cell_type": "code",
   "execution_count": null,
   "id": "d010dfc3",
   "metadata": {},
   "outputs": [],
   "source": []
  }
 ],
 "metadata": {
  "kernelspec": {
   "display_name": "Python 3 (ipykernel)",
   "language": "python",
   "name": "python3"
  },
  "language_info": {
   "codemirror_mode": {
    "name": "ipython",
    "version": 3
   },
   "file_extension": ".py",
   "mimetype": "text/x-python",
   "name": "python",
   "nbconvert_exporter": "python",
   "pygments_lexer": "ipython3",
   "version": "3.9.13"
  }
 },
 "nbformat": 4,
 "nbformat_minor": 5
}
